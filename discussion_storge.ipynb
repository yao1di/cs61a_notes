{
 "cells": [
  {
   "attachments": {},
   "cell_type": "markdown",
   "metadata": {},
   "source": [
    "# Disc03"
   ]
  },
  {
   "cell_type": "code",
   "execution_count": null,
   "metadata": {},
   "outputs": [],
   "source": [
    "def is_prime(n):\n",
    "    \"\"\"Returns True if n is a prime number and False otherwise.\n",
    "\n",
    "    >>> is_prime(2)\n",
    "    True\n",
    "    >>> is_prime(16)\n",
    "    False\n",
    "    >>> is_prime(521)\n",
    "    True\n",
    "    *** YOUR CODE HERE ***\n",
    "    \"\"\"\n",
    "    \n",
    "    def helper_func(n,i):\n",
    "        if i==1:\n",
    "            return True\n",
    "        if n%i==0:\n",
    "            return False\n",
    "        return helper_func(n,i-1)\n",
    "    \n",
    "    return helper_func(n,n-1)\n"
   ]
  },
  {
   "attachments": {},
   "cell_type": "markdown",
   "metadata": {},
   "source": [
    "## Q5"
   ]
  },
  {
   "cell_type": "code",
   "execution_count": null,
   "metadata": {},
   "outputs": [],
   "source": [
    "def hailstone(n):\n",
    "    \"\"\"Print out the hailstone sequence starting at n, and return the number of elements in the sequence.\n",
    "    >>> a = hailstone(10)\n",
    "    10\n",
    "    5\n",
    "    16\n",
    "    8\n",
    "    4\n",
    "    2\n",
    "    1\n",
    "    >>> a\n",
    "    7\n",
    "    >>> b = hailstone(1)\n",
    "    1\n",
    "    >>> b\n",
    "    1\n",
    "    \"\"\"\n",
    "    \"*** YOUR CODE HERE ***\"\n",
    "    if n==1:\n",
    "        print(n)\n",
    "        return 1\n",
    "    else:\n",
    "        if n%2==0:\n",
    "            print(n/2)\n",
    "            return hailstone(n/2)\n",
    "        else:\n",
    "            print(3*n+1)\n",
    "            return hailstone(3*n+1)\n",
    "\n"
   ]
  },
  {
   "attachments": {},
   "cell_type": "markdown",
   "metadata": {},
   "source": [
    "## Q6 Merge Numbers\n"
   ]
  },
  {
   "cell_type": "code",
   "execution_count": null,
   "metadata": {},
   "outputs": [],
   "source": [
    "def merge(n1, n2):\n",
    "    \"\"\" Merges two numbers by digit in decreasing order\n",
    "    >>> merge(31, 42)\n",
    "    4321\n",
    "    >>> merge(21, 0)\n",
    "    21\n",
    "    >>> merge (21, 31) \n",
    "    3211\n",
    "    \"\"\"\n",
    "    \"*** YOUR CODE HERE ***\"\n",
    "    if n2==0:\n",
    "        return n1\n",
    "    if n1==0:\n",
    "        return n2\n",
    "    \n",
    "    last_number1 = n1%10\n",
    "    last_number2 = n2%10\n",
    "    if last_number1<last_number2:\n",
    "        return last_number1+merge(n1//10,n2)*10\n",
    "    else:\n",
    "        return last_number2+merge(n1,n2//10)*10\n"
   ]
  }
 ],
 "metadata": {
  "kernelspec": {
   "display_name": "meachinelearning",
   "language": "python",
   "name": "python3"
  },
  "language_info": {
   "name": "python",
   "version": "3.7.6"
  },
  "orig_nbformat": 4
 },
 "nbformat": 4,
 "nbformat_minor": 2
}
