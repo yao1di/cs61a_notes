{
 "cells": [
  {
   "cell_type": "code",
   "execution_count": 2,
   "metadata": {},
   "outputs": [],
   "source": [
    "def split(n):\n",
    "    return n//10,n%10"
   ]
  },
  {
   "cell_type": "code",
   "execution_count": 3,
   "metadata": {},
   "outputs": [],
   "source": [
    "all_but_last,last = split(2013)"
   ]
  },
  {
   "cell_type": "code",
   "execution_count": 5,
   "metadata": {},
   "outputs": [
    {
     "data": {
      "text/plain": [
       "201"
      ]
     },
     "execution_count": 5,
     "metadata": {},
     "output_type": "execute_result"
    }
   ],
   "source": [
    "all_but_last\n"
   ]
  },
  {
   "cell_type": "code",
   "execution_count": 8,
   "metadata": {},
   "outputs": [],
   "source": [
    "def sum_digits(n):\n",
    "    if n<10: ## base cases without recursive calls\n",
    "        return n\n",
    "    else: ##Recursive with recursive calls\n",
    "        all_but_last,last = split(n)\n",
    "        return sum_digits(all_but_last)+last"
   ]
  },
  {
   "cell_type": "code",
   "execution_count": 10,
   "metadata": {},
   "outputs": [
    {
     "data": {
      "text/plain": [
       "45"
      ]
     },
     "execution_count": 10,
     "metadata": {},
     "output_type": "execute_result"
    }
   ],
   "source": [
    "sum_digits(123456789)"
   ]
  },
  {
   "cell_type": "code",
   "execution_count": 11,
   "metadata": {},
   "outputs": [],
   "source": [
    "def luhn_sum(n):\n",
    "    if n<10:\n",
    "        return n\n",
    "    else:\n",
    "        all_but_last,last = split(n)\n",
    "        return luhn_sum_double(all_but_last)+last\n",
    "    \n",
    "def luhn_sum_double(n):\n",
    "    all_but_last,last = split(n)\n",
    "    luhn_digit = sum_digits(2*last)\n",
    "    if n<10:\n",
    "        return luhn_digit\n",
    "    else:\n",
    "        return luhn_sum(all_but_last) +luhn_digit"
   ]
  },
  {
   "cell_type": "code",
   "execution_count": 12,
   "metadata": {},
   "outputs": [
    {
     "data": {
      "text/plain": [
       "8"
      ]
     },
     "execution_count": 12,
     "metadata": {},
     "output_type": "execute_result"
    }
   ],
   "source": [
    "luhn_sum(32)"
   ]
  },
  {
   "cell_type": "code",
   "execution_count": 10,
   "metadata": {},
   "outputs": [],
   "source": [
    "def is_even(n):\n",
    "    if n==0:\n",
    "        return True\n",
    "    else:\n",
    "        return is_odd(n-1)\n",
    "\n",
    "def is_odd(n):\n",
    "    if n==0:\n",
    "        return False\n",
    "    else:\n",
    "        return is_even(n-1)"
   ]
  },
  {
   "cell_type": "code",
   "execution_count": 14,
   "metadata": {},
   "outputs": [],
   "source": [
    "result = is_even(4)"
   ]
  },
  {
   "cell_type": "code",
   "execution_count": 15,
   "metadata": {},
   "outputs": [
    {
     "data": {
      "text/plain": [
       "True"
      ]
     },
     "execution_count": 15,
     "metadata": {},
     "output_type": "execute_result"
    }
   ],
   "source": [
    "result"
   ]
  },
  {
   "cell_type": "code",
   "execution_count": 3,
   "metadata": {},
   "outputs": [],
   "source": [
    "def cascade(n):\n",
    "    if n<10:\n",
    "        print(n)\n",
    "    else:\n",
    "        print(n)\n",
    "        cascade(n//10)\n",
    "        print(n)"
   ]
  },
  {
   "cell_type": "code",
   "execution_count": 4,
   "metadata": {},
   "outputs": [
    {
     "name": "stdout",
     "output_type": "stream",
     "text": [
      "132234\n",
      "13223\n",
      "1322\n",
      "132\n",
      "13\n",
      "1\n",
      "13\n",
      "132\n",
      "1322\n",
      "13223\n",
      "132234\n"
     ]
    }
   ],
   "source": [
    "cascade(132234)"
   ]
  },
  {
   "cell_type": "code",
   "execution_count": 5,
   "metadata": {},
   "outputs": [],
   "source": [
    "def inverse_cascade(n):\n",
    "    grow(n)\n",
    "    print(n)\n",
    "    shrink(n)\n",
    "\n",
    "def f_then_g(f,g,n):\n",
    "    if n:\n",
    "        f(n)\n",
    "        g(n)\n",
    "\n",
    "grow = lambda n:f_then_g(grow,print,n//10)\n",
    "shrink = lambda n:f_then_g(print,shrink,n//10) "
   ]
  },
  {
   "cell_type": "code",
   "execution_count": 7,
   "metadata": {},
   "outputs": [
    {
     "name": "stdout",
     "output_type": "stream",
     "text": [
      "1\n",
      "12\n",
      "123\n",
      "1231\n",
      "12313\n",
      "123134\n",
      "12313\n",
      "1231\n",
      "123\n",
      "12\n",
      "1\n"
     ]
    }
   ],
   "source": [
    "inverse_cascade(123134)"
   ]
  },
  {
   "cell_type": "code",
   "execution_count": 12,
   "metadata": {},
   "outputs": [],
   "source": [
    "def play_alice(n):\n",
    "    if n==0:\n",
    "        print(\"Bob wins\")\n",
    "    else:\n",
    "        play_bob(n-1)\n",
    "    \n",
    "def play_bob(n):\n",
    "    if n==0:\n",
    "        print(\"Alice wins\")\n",
    "    elif is_even(n):\n",
    "        play_alice(n-2)\n",
    "    else:\n",
    "        play_alice(n-1)"
   ]
  },
  {
   "cell_type": "code",
   "execution_count": 20,
   "metadata": {},
   "outputs": [
    {
     "name": "stdout",
     "output_type": "stream",
     "text": [
      "Bob wins\n"
     ]
    }
   ],
   "source": [
    "play_alice(321)"
   ]
  },
  {
   "cell_type": "code",
   "execution_count": 21,
   "metadata": {},
   "outputs": [],
   "source": [
    "def reverse(s):\n",
    "    if len(s)==1:\n",
    "        return s\n",
    "    else:\n",
    "        return reverse(s[1:])+s[0]\n",
    "    \n"
   ]
  },
  {
   "cell_type": "code",
   "execution_count": 22,
   "metadata": {},
   "outputs": [
    {
     "data": {
      "text/plain": [
       "'sadsad'"
      ]
     },
     "execution_count": 22,
     "metadata": {},
     "output_type": "execute_result"
    }
   ],
   "source": [
    "reverse('dasdas')"
   ]
  },
  {
   "cell_type": "code",
   "execution_count": 24,
   "metadata": {},
   "outputs": [
    {
     "data": {
      "text/plain": [
       "'y2sdadasd'"
      ]
     },
     "execution_count": 24,
     "metadata": {},
     "output_type": "execute_result"
    }
   ],
   "source": [
    "s = \"sy2sdadasd\"\n",
    "s[1:]"
   ]
  },
  {
   "cell_type": "code",
   "execution_count": 25,
   "metadata": {},
   "outputs": [],
   "source": [
    "def sum_iter(n):\n",
    "    s = 0\n",
    "    i = 0\n",
    "    while i<=n:\n",
    "        s = s+i\n",
    "        i = i+1\n",
    "    return s\n"
   ]
  },
  {
   "cell_type": "code",
   "execution_count": 26,
   "metadata": {},
   "outputs": [
    {
     "data": {
      "text/plain": [
       "55"
      ]
     },
     "execution_count": 26,
     "metadata": {},
     "output_type": "execute_result"
    }
   ],
   "source": [
    "sum_iter(10)"
   ]
  },
  {
   "cell_type": "code",
   "execution_count": 27,
   "metadata": {},
   "outputs": [],
   "source": [
    "def sum_rec(n):\n",
    "    if n==0:\n",
    "        return 0\n",
    "    else:\n",
    "        return n +sum_rec(n-1)"
   ]
  },
  {
   "cell_type": "code",
   "execution_count": 28,
   "metadata": {},
   "outputs": [
    {
     "data": {
      "text/plain": [
       "55"
      ]
     },
     "execution_count": 28,
     "metadata": {},
     "output_type": "execute_result"
    }
   ],
   "source": [
    "sum_rec(10)"
   ]
  },
  {
   "cell_type": "code",
   "execution_count": 30,
   "metadata": {},
   "outputs": [],
   "source": [
    "from math import sqrt\n",
    "def perfect_square(x):\n",
    "    i = 0\n",
    "    while i <= sqrt(x):\n",
    "        if i*i == x:\n",
    "            return True\n",
    "        i = i+1\n",
    "    return False\n"
   ]
  },
  {
   "cell_type": "code",
   "execution_count": 32,
   "metadata": {},
   "outputs": [
    {
     "data": {
      "text/plain": [
       "False"
      ]
     },
     "execution_count": 32,
     "metadata": {},
     "output_type": "execute_result"
    }
   ],
   "source": [
    "perfect_square(26)"
   ]
  },
  {
   "cell_type": "code",
   "execution_count": 33,
   "metadata": {},
   "outputs": [],
   "source": [
    "def ps(x,i=0):\n",
    "    if i>sqrt(x):\n",
    "        return x\n",
    "    else:\n",
    "        return i*i == x or ps(x,i+1)\n",
    "    "
   ]
  },
  {
   "cell_type": "code",
   "execution_count": 35,
   "metadata": {},
   "outputs": [
    {
     "data": {
      "text/plain": [
       "True"
      ]
     },
     "execution_count": 35,
     "metadata": {},
     "output_type": "execute_result"
    }
   ],
   "source": [
    "# 0*0==4 or[ ps(4,1)  --->True\n",
    "#           1*1 ==4 or  [ ps(4,2)  --->True\n",
    "#                          [ 2*2 ==4 or ps(4,3)  ---> True\n",
    "#                        \n",
    "ps(4)\n"
   ]
  },
  {
   "cell_type": "code",
   "execution_count": 36,
   "metadata": {},
   "outputs": [],
   "source": [
    "def fib(n):\n",
    "    if n==1:\n",
    "        return 0\n",
    "    elif n==2:\n",
    "        return 1\n",
    "    else:\n",
    "        return fib(n-1)+fib(n-2)"
   ]
  },
  {
   "cell_type": "code",
   "execution_count": 40,
   "metadata": {},
   "outputs": [],
   "source": [
    "def cp(n,m):\n",
    "    if n==0:\n",
    "        return 1\n",
    "    elif n<0 or m==0:\n",
    "        return 0\n",
    "    else:\n",
    "        return cp(n,m-1)+cp(n-m,m)"
   ]
  },
  {
   "cell_type": "code",
   "execution_count": 41,
   "metadata": {},
   "outputs": [
    {
     "data": {
      "text/plain": [
       "3"
      ]
     },
     "execution_count": 41,
     "metadata": {},
     "output_type": "execute_result"
    }
   ],
   "source": [
    "cp(4,2)"
   ]
  },
  {
   "cell_type": "code",
   "execution_count": 42,
   "metadata": {},
   "outputs": [
    {
     "data": {
      "text/plain": [
       "9"
      ]
     },
     "execution_count": 42,
     "metadata": {},
     "output_type": "execute_result"
    }
   ],
   "source": [
    "cp(6,4)"
   ]
  },
  {
   "attachments": {},
   "cell_type": "markdown",
   "metadata": {},
   "source": [
    "## mutual recursion Luhn sum(check sum)"
   ]
  },
  {
   "cell_type": "code",
   "execution_count": 46,
   "metadata": {},
   "outputs": [],
   "source": [
    "def move_disk(disk_number,from_peg,to_peg):\n",
    "    print('Move Disk'+str(disk_number)+'from peg' \\\n",
    "          +str(from_peg) + ' to peg' + str(to_peg) + \".\")\n",
    "\n",
    "def solve_hanoi(n,start_peg,end_peg):\n",
    "    if n==1:\n",
    "        move_disk(n,start_peg,end_peg)\n",
    "    else:\n",
    "        spare_peg = 6- start_peg-end_peg\n",
    "        solve_hanoi(n-1,start_peg,spare_peg)\n",
    "        move_disk(n,start_peg,end_peg)\n",
    "        solve_hanoi(n-1,spare_peg,end_peg)"
   ]
  },
  {
   "cell_type": "code",
   "execution_count": 47,
   "metadata": {},
   "outputs": [
    {
     "name": "stdout",
     "output_type": "stream",
     "text": [
      "Move Disk1from peg1 to peg2.\n",
      "Move Disk2from peg1 to peg3.\n",
      "Move Disk1from peg2 to peg3.\n",
      "Move Disk3from peg1 to peg2.\n",
      "Move Disk1from peg3 to peg1.\n",
      "Move Disk2from peg3 to peg2.\n",
      "Move Disk1from peg1 to peg2.\n"
     ]
    }
   ],
   "source": [
    "solve_hanoi(3,1,2)"
   ]
  },
  {
   "cell_type": "code",
   "execution_count": null,
   "metadata": {},
   "outputs": [],
   "source": []
  }
 ],
 "metadata": {
  "kernelspec": {
   "display_name": "meachinelearning",
   "language": "python",
   "name": "python3"
  },
  "language_info": {
   "codemirror_mode": {
    "name": "ipython",
    "version": 3
   },
   "file_extension": ".py",
   "mimetype": "text/x-python",
   "name": "python",
   "nbconvert_exporter": "python",
   "pygments_lexer": "ipython3",
   "version": "3.7.6"
  },
  "orig_nbformat": 4
 },
 "nbformat": 4,
 "nbformat_minor": 2
}
