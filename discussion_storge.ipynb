{
 "cells": [
  {
   "attachments": {},
   "cell_type": "markdown",
   "metadata": {},
   "source": [
    "# Disc03"
   ]
  },
  {
   "cell_type": "code",
   "execution_count": null,
   "metadata": {},
   "outputs": [],
   "source": [
    "def is_prime(n):\n",
    "    \"\"\"Returns True if n is a prime number and False otherwise.\n",
    "\n",
    "    >>> is_prime(2)\n",
    "    True\n",
    "    >>> is_prime(16)\n",
    "    False\n",
    "    >>> is_prime(521)\n",
    "    True\n",
    "    *** YOUR CODE HERE ***\n",
    "    \"\"\"\n",
    "    \n",
    "    def helper_func(n,i):\n",
    "        if i==1:\n",
    "            return True\n",
    "        if n%i==0:\n",
    "            return False\n",
    "        return helper_func(n,i-1)\n",
    "    \n",
    "    return helper_func(n,n-1)\n"
   ]
  },
  {
   "attachments": {},
   "cell_type": "markdown",
   "metadata": {},
   "source": [
    "## Q5"
   ]
  },
  {
   "cell_type": "code",
   "execution_count": null,
   "metadata": {},
   "outputs": [],
   "source": [
    "def hailstone(n):\n",
    "    \"\"\"Print out the hailstone sequence starting at n, and return the number of elements in the sequence.\n",
    "    >>> a = hailstone(10)\n",
    "    10\n",
    "    5\n",
    "    16\n",
    "    8\n",
    "    4\n",
    "    2\n",
    "    1\n",
    "    >>> a\n",
    "    7\n",
    "    >>> b = hailstone(1)\n",
    "    1\n",
    "    >>> b\n",
    "    1\n",
    "    \"\"\"\n",
    "    \"*** YOUR CODE HERE ***\"\n",
    "    if n==1:\n",
    "        print(n)\n",
    "        return 1\n",
    "    else:\n",
    "        if n%2==0:\n",
    "            print(n/2)\n",
    "            return hailstone(n/2)\n",
    "        else:\n",
    "            print(3*n+1)\n",
    "            return hailstone(3*n+1)\n",
    "\n"
   ]
  },
  {
   "attachments": {},
   "cell_type": "markdown",
   "metadata": {},
   "source": [
    "## Q6 Merge Numbers\n"
   ]
  },
  {
   "cell_type": "code",
   "execution_count": null,
   "metadata": {},
   "outputs": [],
   "source": [
    "def merge(n1, n2):\n",
    "    \"\"\" Merges two numbers by digit in decreasing order\n",
    "    >>> merge(31, 42)\n",
    "    4321\n",
    "    >>> merge(21, 0)\n",
    "    21\n",
    "    >>> merge (21, 31) \n",
    "    3211\n",
    "    \"\"\"\n",
    "    \"*** YOUR CODE HERE ***\"\n",
    "    if n2==0:\n",
    "        return n1\n",
    "    if n1==0:\n",
    "        return n2\n",
    "    \n",
    "    last_number1 = n1%10\n",
    "    last_number2 = n2%10\n",
    "    if last_number1<last_number2:\n",
    "        return last_number1+merge(n1//10,n2)*10\n",
    "    else:\n",
    "        return last_number2+merge(n1,n2//10)*10\n"
   ]
  },
  {
   "attachments": {},
   "cell_type": "markdown",
   "metadata": {},
   "source": [
    "# Disc05 Trees\n"
   ]
  },
  {
   "attachments": {},
   "cell_type": "markdown",
   "metadata": {},
   "source": [
    "## Q2"
   ]
  },
  {
   "cell_type": "code",
   "execution_count": null,
   "metadata": {},
   "outputs": [],
   "source": [
    "def height(t):\n",
    "    \"\"\"Return the height of a tree.\n",
    "\n",
    "    >>> t = tree(3, [tree(5, [tree(1)]), tree(2)])\n",
    "    >>> height(t)\n",
    "    2\n",
    "    >>> t = tree(3, [tree(1), tree(2, [tree(5, [tree(6)]), tree(1)])])\n",
    "    >>> height(t)\n",
    "    3\n",
    "    \"\"\"\n",
    "    \"*** YOUR CODE HERE ***\"\n",
    "    if is_leaf(t):\n",
    "        return 0\n",
    "    else:\n",
    "        H = [height(b) for b in branches(t)]\n",
    "        return max(H) +1   \n",
    "    # 回溯的时候加一个"
   ]
  },
  {
   "attachments": {},
   "cell_type": "markdown",
   "metadata": {},
   "source": [
    "## Q3 "
   ]
  },
  {
   "cell_type": "code",
   "execution_count": null,
   "metadata": {},
   "outputs": [],
   "source": [
    "def max_path_sum(t):\n",
    "    \"\"\"Return the maximum path sum of the tree.\n",
    "\n",
    "    >>> t = tree(1, [tree(5, [tree(1), tree(3)]), tree(10)])\n",
    "    >>> max_path_sum(t)\n",
    "    11\n",
    "    \"\"\"\n",
    "    \"*** YOUR CODE HERE ***\"\n",
    "\n",
    "    if is_leaf(t):\n",
    "        return label(t)\n",
    "    else:\n",
    "        path = sum([[max_path_sum(b)] for b in branches(t)],[])\n",
    "        return max(path)+label(t)"
   ]
  },
  {
   "attachments": {},
   "cell_type": "markdown",
   "metadata": {},
   "source": [
    "## Q4 \n"
   ]
  },
  {
   "cell_type": "code",
   "execution_count": null,
   "metadata": {},
   "outputs": [],
   "source": [
    "def find_path(t, x):\n",
    "    \"\"\"\n",
    "    >>> t = tree(2, [tree(7, [tree(3), tree(6, [tree(5), tree(11)])] ), tree(15)])\n",
    "    >>> find_path(t, 5)\n",
    "    [2, 7, 6, 5]\n",
    "    >>> find_path(t, 10)  # returns None\n",
    "    \"\"\"\n",
    "    if label(t)==x:\n",
    "        return [label(t)]\n",
    "    for b in branches(t):\n",
    "        path = find_path(b,x)\n",
    "        if path:\n",
    "            return[label(t)]+ path\n",
    "\n"
   ]
  },
  {
   "attachments": {},
   "cell_type": "markdown",
   "metadata": {},
   "source": [
    "## Q5\n"
   ]
  },
  {
   "cell_type": "code",
   "execution_count": null,
   "metadata": {},
   "outputs": [],
   "source": [
    "def sum_tree(t):\n",
    "    \"\"\"\n",
    "    Add all elements in a tree.\n",
    "    >>> t = tree(4, [tree(2, [tree(3)]), tree(6)])\n",
    "    >>> sum_tree(t)\n",
    "    15\n",
    "    \"\"\"\n",
    "    \"*** YOUR CODE HERE ***\"\n",
    "    return label(t)+sum([sum_tree(b) for b in branches(t)])\n"
   ]
  },
  {
   "cell_type": "code",
   "execution_count": null,
   "metadata": {},
   "outputs": [],
   "source": [
    "def balanced(t):\n",
    "    \"\"\"\n",
    "    Checks if each branch has same sum of all elements and\n",
    "    if each branch is balanced.\n",
    "    >>> t = tree(1, [tree(3), tree(1, [tree(2)]), tree(1, [tree(1), tree(1)])])\n",
    "    >>> balanced(t)\n",
    "    True\n",
    "    >>> t = tree(1, [t, tree(1)])\n",
    "    >>> balanced(t)\n",
    "    False\n",
    "    >>> t = tree(1, [tree(4), tree(1, [tree(2), tree(1)]), tree(1, [tree(3)])])\n",
    "    >>> balanced(t)\n",
    "    False\n",
    "    \"\"\"\n",
    "    \"*** YOUR CODE HERE ***\"\n",
    "    def sum_tree(t):\n",
    "        return label(t)+sum([sum_tree(b) for b in branches(t)])\n",
    "\n",
    "    return [False for b in branches(t) if sum_tree(branches(t)[0])!=sum_tree(b)] == []\n"
   ]
  },
  {
   "attachments": {},
   "cell_type": "markdown",
   "metadata": {},
   "source": [
    "## Q6 Sprout Leaves"
   ]
  },
  {
   "cell_type": "code",
   "execution_count": null,
   "metadata": {},
   "outputs": [],
   "source": [
    "def sprout_leaves(t, leaves):\n",
    "    \"\"\"Sprout new leaves containing the data in leaves at each leaf in\n",
    "    the original tree t and return the resulting tree.\n",
    "\n",
    "    >>> t1 = tree(1, [tree(2), tree(3)])\n",
    "    >>> print_tree(t1)\n",
    "    1\n",
    "      2\n",
    "      3\n",
    "    >>> new1 = sprout_leaves(t1, [4, 5])\n",
    "    >>> print_tree(new1)\n",
    "    1\n",
    "      2\n",
    "        4\n",
    "        5\n",
    "      3\n",
    "        4\n",
    "        5\n",
    "\n",
    "    >>> t2 = tree(1, [tree(2, [tree(3)])])\n",
    "    >>> print_tree(t2)\n",
    "    1\n",
    "      2\n",
    "        3\n",
    "    >>> new2 = sprout_leaves(t2, [6, 1, 2])\n",
    "    >>> print_tree(new2)\n",
    "    1\n",
    "      2\n",
    "        3\n",
    "          6\n",
    "          1\n",
    "          2\n",
    "    \"\"\"\n",
    "    \"*** YOUR CODE HERE ***\"\n",
    "    if is_leaf(t):\n",
    "        return tree(label(t),[tree(item) for item in leaves])\n",
    "    else:\n",
    "        return tree(label(t),[sprout_leaves(b,leaves) for b in branches(t)])\n",
    "\n"
   ]
  },
  {
   "attachments": {},
   "cell_type": "markdown",
   "metadata": {},
   "source": [
    "## Q7 Hailstone Tree\n"
   ]
  },
  {
   "cell_type": "code",
   "execution_count": null,
   "metadata": {},
   "outputs": [],
   "source": [
    "def hailstone_tree(n, h):\n",
    "    \"\"\"Generates a tree of hailstone numbers that will reach N, with height H.\n",
    "    >>> print_tree(hailstone_tree(1, 0))\n",
    "    1\n",
    "    >>> print_tree(hailstone_tree(1, 4))\n",
    "    1\n",
    "        2\n",
    "            4\n",
    "                8\n",
    "                    16\n",
    "    >>> print_tree(hailstone_tree(8, 3))\n",
    "    8\n",
    "        16\n",
    "            32\n",
    "                64\n",
    "            5\n",
    "                10\n",
    "    \"\"\"\n",
    "    if h==0:\n",
    "        return tree(n)\n",
    "    branches = [hailstone_tree(2*n,h-1)]\n",
    "    if (n-1)%3==0 and ((n-1)//3)%2!=0 and (n-1)//3>1:\n",
    "        branches += [hailstone_tree((n-1)//3,h-1)]\n",
    "    return tree(n, branches)\n",
    "\n",
    "def print_tree(t):\n",
    "    def helper(i, t):\n",
    "        print(\"    \" * i + str(label(t)))\n",
    "        for b in branches(t):\n",
    "            helper(i + 1, b)\n",
    "    helper(0, t)\n"
   ]
  }
 ],
 "metadata": {
  "kernelspec": {
   "display_name": "meachinelearning",
   "language": "python",
   "name": "python3"
  },
  "language_info": {
   "name": "python",
   "version": "3.7.6"
  },
  "orig_nbformat": 4
 },
 "nbformat": 4,
 "nbformat_minor": 2
}
