{
 "cells": [
  {
   "attachments": {},
   "cell_type": "markdown",
   "metadata": {},
   "source": [
    "# Disc03"
   ]
  },
  {
   "cell_type": "code",
   "execution_count": null,
   "metadata": {},
   "outputs": [],
   "source": [
    "def is_prime(n):\n",
    "    \"\"\"Returns True if n is a prime number and False otherwise.\n",
    "\n",
    "    >>> is_prime(2)\n",
    "    True\n",
    "    >>> is_prime(16)\n",
    "    False\n",
    "    >>> is_prime(521)\n",
    "    True\n",
    "    *** YOUR CODE HERE ***\n",
    "    \"\"\"\n",
    "    \n",
    "    def helper_func(n,i):\n",
    "        if i==1:\n",
    "            return True\n",
    "        if n%i==0:\n",
    "            return False\n",
    "        return helper_func(n,i-1)\n",
    "    \n",
    "    return helper_func(n,n-1)\n"
   ]
  },
  {
   "attachments": {},
   "cell_type": "markdown",
   "metadata": {},
   "source": [
    "## Q5"
   ]
  },
  {
   "cell_type": "code",
   "execution_count": null,
   "metadata": {},
   "outputs": [],
   "source": [
    "def hailstone(n):\n",
    "    \"\"\"Print out the hailstone sequence starting at n, and return the number of elements in the sequence.\n",
    "    >>> a = hailstone(10)\n",
    "    10\n",
    "    5\n",
    "    16\n",
    "    8\n",
    "    4\n",
    "    2\n",
    "    1\n",
    "    >>> a\n",
    "    7\n",
    "    >>> b = hailstone(1)\n",
    "    1\n",
    "    >>> b\n",
    "    1\n",
    "    \"\"\"\n",
    "    \"*** YOUR CODE HERE ***\"\n",
    "    if n==1:\n",
    "        print(n)\n",
    "        return 1\n",
    "    else:\n",
    "        if n%2==0:\n",
    "            print(n/2)\n",
    "            return hailstone(n/2)\n",
    "        else:\n",
    "            print(3*n+1)\n",
    "            return hailstone(3*n+1)\n",
    "\n"
   ]
  },
  {
   "attachments": {},
   "cell_type": "markdown",
   "metadata": {},
   "source": [
    "## Q6 Merge Numbers\n"
   ]
  },
  {
   "cell_type": "code",
   "execution_count": null,
   "metadata": {},
   "outputs": [],
   "source": [
    "def merge(n1, n2):\n",
    "    \"\"\" Merges two numbers by digit in decreasing order\n",
    "    >>> merge(31, 42)\n",
    "    4321\n",
    "    >>> merge(21, 0)\n",
    "    21\n",
    "    >>> merge (21, 31) \n",
    "    3211\n",
    "    \"\"\"\n",
    "    \"*** YOUR CODE HERE ***\"\n",
    "    if n2==0:\n",
    "        return n1\n",
    "    if n1==0:\n",
    "        return n2\n",
    "    \n",
    "    last_number1 = n1%10\n",
    "    last_number2 = n2%10\n",
    "    if last_number1<last_number2:\n",
    "        return last_number1+merge(n1//10,n2)*10\n",
    "    else:\n",
    "        return last_number2+merge(n1,n2//10)*10\n"
   ]
  },
  {
   "attachments": {},
   "cell_type": "markdown",
   "metadata": {},
   "source": [
    "# Disc05 Trees\n"
   ]
  },
  {
   "attachments": {},
   "cell_type": "markdown",
   "metadata": {},
   "source": [
    "## Q2"
   ]
  },
  {
   "cell_type": "code",
   "execution_count": null,
   "metadata": {},
   "outputs": [],
   "source": [
    "def height(t):\n",
    "    \"\"\"Return the height of a tree.\n",
    "\n",
    "    >>> t = tree(3, [tree(5, [tree(1)]), tree(2)])\n",
    "    >>> height(t)\n",
    "    2\n",
    "    >>> t = tree(3, [tree(1), tree(2, [tree(5, [tree(6)]), tree(1)])])\n",
    "    >>> height(t)\n",
    "    3\n",
    "    \"\"\"\n",
    "    \"*** YOUR CODE HERE ***\"\n",
    "    if is_leaf(t):\n",
    "        return 0\n",
    "    else:\n",
    "        H = [height(b) for b in branches(t)]\n",
    "        return max(H) +1   \n",
    "    # 回溯的时候加一个"
   ]
  },
  {
   "attachments": {},
   "cell_type": "markdown",
   "metadata": {},
   "source": [
    "## Q3 "
   ]
  },
  {
   "cell_type": "code",
   "execution_count": null,
   "metadata": {},
   "outputs": [],
   "source": [
    "def max_path_sum(t):\n",
    "    \"\"\"Return the maximum path sum of the tree.\n",
    "\n",
    "    >>> t = tree(1, [tree(5, [tree(1), tree(3)]), tree(10)])\n",
    "    >>> max_path_sum(t)\n",
    "    11\n",
    "    \"\"\"\n",
    "    \"*** YOUR CODE HERE ***\"\n",
    "\n",
    "    if is_leaf(t):\n",
    "        return label(t)\n",
    "    else:\n",
    "        path = sum([[max_path_sum(b)] for b in branches(t)],[])\n",
    "        return max(path)+label(t)"
   ]
  },
  {
   "attachments": {},
   "cell_type": "markdown",
   "metadata": {},
   "source": [
    "## Q4 \n"
   ]
  },
  {
   "cell_type": "code",
   "execution_count": null,
   "metadata": {},
   "outputs": [],
   "source": [
    "def find_path(t, x):\n",
    "    \"\"\"\n",
    "    >>> t = tree(2, [tree(7, [tree(3), tree(6, [tree(5), tree(11)])] ), tree(15)])\n",
    "    >>> find_path(t, 5)\n",
    "    [2, 7, 6, 5]\n",
    "    >>> find_path(t, 10)  # returns None\n",
    "    \"\"\"\n",
    "    if label(t)==x:\n",
    "        return [label(t)]\n",
    "    for b in branches(t):\n",
    "        path = find_path(b,x)\n",
    "        if path:\n",
    "            return[label(t)]+ path\n",
    "\n"
   ]
  },
  {
   "attachments": {},
   "cell_type": "markdown",
   "metadata": {},
   "source": [
    "## Q5\n"
   ]
  },
  {
   "cell_type": "code",
   "execution_count": null,
   "metadata": {},
   "outputs": [],
   "source": [
    "def sum_tree(t):\n",
    "    \"\"\"\n",
    "    Add all elements in a tree.\n",
    "    >>> t = tree(4, [tree(2, [tree(3)]), tree(6)])\n",
    "    >>> sum_tree(t)\n",
    "    15\n",
    "    \"\"\"\n",
    "    \"*** YOUR CODE HERE ***\"\n",
    "    return label(t)+sum([sum_tree(b) for b in branches(t)])\n"
   ]
  },
  {
   "cell_type": "code",
   "execution_count": null,
   "metadata": {},
   "outputs": [],
   "source": [
    "def balanced(t):\n",
    "    \"\"\"\n",
    "    Checks if each branch has same sum of all elements and\n",
    "    if each branch is balanced.\n",
    "    >>> t = tree(1, [tree(3), tree(1, [tree(2)]), tree(1, [tree(1), tree(1)])])\n",
    "    >>> balanced(t)\n",
    "    True\n",
    "    >>> t = tree(1, [t, tree(1)])\n",
    "    >>> balanced(t)\n",
    "    False\n",
    "    >>> t = tree(1, [tree(4), tree(1, [tree(2), tree(1)]), tree(1, [tree(3)])])\n",
    "    >>> balanced(t)\n",
    "    False\n",
    "    \"\"\"\n",
    "    \"*** YOUR CODE HERE ***\"\n",
    "    def sum_tree(t):\n",
    "        return label(t)+sum([sum_tree(b) for b in branches(t)])\n",
    "\n",
    "    return [False for b in branches(t) if sum_tree(branches(t)[0])!=sum_tree(b)] == []\n"
   ]
  },
  {
   "attachments": {},
   "cell_type": "markdown",
   "metadata": {},
   "source": [
    "## Q6 Sprout Leaves"
   ]
  },
  {
   "cell_type": "code",
   "execution_count": null,
   "metadata": {},
   "outputs": [],
   "source": [
    "def sprout_leaves(t, leaves):\n",
    "    \"\"\"Sprout new leaves containing the data in leaves at each leaf in\n",
    "    the original tree t and return the resulting tree.\n",
    "\n",
    "    >>> t1 = tree(1, [tree(2), tree(3)])\n",
    "    >>> print_tree(t1)\n",
    "    1\n",
    "      2\n",
    "      3\n",
    "    >>> new1 = sprout_leaves(t1, [4, 5])\n",
    "    >>> print_tree(new1)\n",
    "    1\n",
    "      2\n",
    "        4\n",
    "        5\n",
    "      3\n",
    "        4\n",
    "        5\n",
    "\n",
    "    >>> t2 = tree(1, [tree(2, [tree(3)])])\n",
    "    >>> print_tree(t2)\n",
    "    1\n",
    "      2\n",
    "        3\n",
    "    >>> new2 = sprout_leaves(t2, [6, 1, 2])\n",
    "    >>> print_tree(new2)\n",
    "    1\n",
    "      2\n",
    "        3\n",
    "          6\n",
    "          1\n",
    "          2\n",
    "    \"\"\"\n",
    "    \"*** YOUR CODE HERE ***\"\n",
    "    if is_leaf(t):\n",
    "        return tree(label(t),[tree(item) for item in leaves])\n",
    "    else:\n",
    "        return tree(label(t),[sprout_leaves(b,leaves) for b in branches(t)])\n",
    "\n"
   ]
  },
  {
   "attachments": {},
   "cell_type": "markdown",
   "metadata": {},
   "source": [
    "## Q7 Hailstone Tree\n"
   ]
  },
  {
   "cell_type": "code",
   "execution_count": null,
   "metadata": {},
   "outputs": [],
   "source": [
    "def hailstone_tree(n, h):\n",
    "    \"\"\"Generates a tree of hailstone numbers that will reach N, with height H.\n",
    "    >>> print_tree(hailstone_tree(1, 0))\n",
    "    1\n",
    "    >>> print_tree(hailstone_tree(1, 4))\n",
    "    1\n",
    "        2\n",
    "            4\n",
    "                8\n",
    "                    16\n",
    "    >>> print_tree(hailstone_tree(8, 3))\n",
    "    8\n",
    "        16\n",
    "            32\n",
    "                64\n",
    "            5\n",
    "                10\n",
    "    \"\"\"\n",
    "    if h==0:\n",
    "        return tree(n)\n",
    "    branches = [hailstone_tree(2*n,h-1)]\n",
    "    if (n-1)%3==0 and ((n-1)//3)%2!=0 and (n-1)//3>1:\n",
    "        branches += [hailstone_tree((n-1)//3,h-1)]\n",
    "    return tree(n, branches)\n",
    "\n",
    "def print_tree(t):\n",
    "    def helper(i, t):\n",
    "        print(\"    \" * i + str(label(t)))\n",
    "        for b in branches(t):\n",
    "            helper(i + 1, b)\n",
    "    helper(0, t)\n"
   ]
  },
  {
   "attachments": {},
   "cell_type": "markdown",
   "metadata": {},
   "source": [
    "# Disc06"
   ]
  },
  {
   "attachments": {},
   "cell_type": "markdown",
   "metadata": {},
   "source": [
    "Aside from `append`, there are various other list mutation methods:\n",
    "除了 之外，还有其他各种列表突变方法：\n",
    "\n",
    "`append(el)`: Add `el` to the end of the list. Return None.\n",
    "：添加到列表末尾。返回。\n",
    "\n",
    "`extend(lst)`: Extend the list by concatenating it with `lst`. Return None.\n",
    "：通过将列表与 连接来扩展列表。返回。\n",
    "\n",
    "`insert(i, el)`: Insert `el` at index `i`. This does not replace any existing elements, but only adds the new element `el`. Return None.\n",
    "：在索引处插入。这不会替换任何现有元素，而只会添加新元素。返回。\n",
    "\n",
    "`remove(el)`: Remove the first occurrence of `el` in list. Errors if `el` is not in the list. Return None otherwise.\n",
    "：删除 in 列表中的第一个匹配项。错误（如果不在列表中）。否则返回。\n",
    "\n",
    "`pop(i)`: Remove and return the element at index `i`.\n",
    "：删除并返回索引处的元素。"
   ]
  },
  {
   "cell_type": "code",
   "execution_count": 14,
   "metadata": {},
   "outputs": [
    {
     "data": {
      "text/plain": [
       "[1, 2, 3, 4]"
      ]
     },
     "execution_count": 14,
     "metadata": {},
     "output_type": "execute_result"
    }
   ],
   "source": [
    "x = [1,2,3]\n",
    "y=x \n",
    "x+=[4]\n",
    "x"
   ]
  },
  {
   "cell_type": "code",
   "execution_count": 15,
   "metadata": {},
   "outputs": [
    {
     "data": {
      "text/plain": [
       "[1, 2, 3, 4]"
      ]
     },
     "execution_count": 15,
     "metadata": {},
     "output_type": "execute_result"
    }
   ],
   "source": [
    "y"
   ]
  },
  {
   "cell_type": "code",
   "execution_count": 16,
   "metadata": {},
   "outputs": [
    {
     "data": {
      "text/plain": [
       "[1, 2, 3, 4]"
      ]
     },
     "execution_count": 16,
     "metadata": {},
     "output_type": "execute_result"
    }
   ],
   "source": [
    "x = [1,2,3]\n",
    "y=x \n",
    "x= x +[4]   ##创建了一个新列表。。。。。。\n",
    "x"
   ]
  },
  {
   "cell_type": "code",
   "execution_count": 17,
   "metadata": {},
   "outputs": [
    {
     "data": {
      "text/plain": [
       "[1, 2, 3]"
      ]
     },
     "execution_count": 17,
     "metadata": {},
     "output_type": "execute_result"
    }
   ],
   "source": [
    "y  ## y保持不变"
   ]
  },
  {
   "cell_type": "code",
   "execution_count": 18,
   "metadata": {},
   "outputs": [
    {
     "data": {
      "text/plain": [
       "True"
      ]
     },
     "execution_count": 18,
     "metadata": {},
     "output_type": "execute_result"
    }
   ],
   "source": [
    "s1=[1,2,3]\n",
    "s2=s1\n",
    "s1 is s2"
   ]
  },
  {
   "cell_type": "code",
   "execution_count": 19,
   "metadata": {},
   "outputs": [],
   "source": [
    "s2.extend([4,5])"
   ]
  },
  {
   "cell_type": "code",
   "execution_count": 20,
   "metadata": {},
   "outputs": [
    {
     "data": {
      "text/plain": [
       "5"
      ]
     },
     "execution_count": 20,
     "metadata": {},
     "output_type": "execute_result"
    }
   ],
   "source": [
    "s1[4]"
   ]
  },
  {
   "cell_type": "code",
   "execution_count": 21,
   "metadata": {},
   "outputs": [],
   "source": [
    "s1.append([-1,0,1])"
   ]
  },
  {
   "cell_type": "code",
   "execution_count": 22,
   "metadata": {},
   "outputs": [
    {
     "data": {
      "text/plain": [
       "[1, 2, 3, 4, 5, [-1, 0, 1]]"
      ]
     },
     "execution_count": 22,
     "metadata": {},
     "output_type": "execute_result"
    }
   ],
   "source": [
    "s1"
   ]
  },
  {
   "cell_type": "code",
   "execution_count": 23,
   "metadata": {},
   "outputs": [
    {
     "data": {
      "text/plain": [
       "[-1, 0, 1]"
      ]
     },
     "execution_count": 23,
     "metadata": {},
     "output_type": "execute_result"
    }
   ],
   "source": [
    "s2[5]"
   ]
  },
  {
   "cell_type": "code",
   "execution_count": 24,
   "metadata": {},
   "outputs": [
    {
     "data": {
      "text/plain": [
       "5"
      ]
     },
     "execution_count": 24,
     "metadata": {},
     "output_type": "execute_result"
    }
   ],
   "source": [
    "s3 = s2[:]\n",
    "s3.insert(3,s2.pop(3))\n",
    "len(s1)"
   ]
  },
  {
   "cell_type": "code",
   "execution_count": 25,
   "metadata": {},
   "outputs": [
    {
     "data": {
      "text/plain": [
       "True"
      ]
     },
     "execution_count": 25,
     "metadata": {},
     "output_type": "execute_result"
    }
   ],
   "source": [
    "s1[4] is s3[6]"
   ]
  },
  {
   "cell_type": "code",
   "execution_count": 26,
   "metadata": {},
   "outputs": [
    {
     "data": {
      "text/plain": [
       "1"
      ]
     },
     "execution_count": 26,
     "metadata": {},
     "output_type": "execute_result"
    }
   ],
   "source": [
    "s3[s2[4][1]]"
   ]
  },
  {
   "cell_type": "code",
   "execution_count": 27,
   "metadata": {},
   "outputs": [
    {
     "data": {
      "text/plain": [
       "False"
      ]
     },
     "execution_count": 27,
     "metadata": {},
     "output_type": "execute_result"
    }
   ],
   "source": [
    "s1[:3] is s2[:3]"
   ]
  },
  {
   "cell_type": "code",
   "execution_count": 28,
   "metadata": {},
   "outputs": [
    {
     "data": {
      "text/plain": [
       "2"
      ]
     },
     "execution_count": 28,
     "metadata": {},
     "output_type": "execute_result"
    }
   ],
   "source": [
    "s1[4].append(2)\n",
    "s3[6][3]"
   ]
  },
  {
   "attachments": {},
   "cell_type": "markdown",
   "metadata": {},
   "source": [
    "## Add This Many"
   ]
  },
  {
   "cell_type": "code",
   "execution_count": null,
   "metadata": {},
   "outputs": [],
   "source": [
    "def add_this_many(x, el, s):\n",
    "    \"\"\" Adds el to the end of s the number of times x occurs in s.\n",
    "    >>> s = [1, 2, 4, 2, 1]\n",
    "    >>> add_this_many(1, 5, s)\n",
    "    >>> s\n",
    "    [1, 2, 4, 2, 1, 5, 5]\n",
    "    >>> add_this_many(2, 2, s)\n",
    "    >>> s\n",
    "    [1, 2, 4, 2, 1, 5, 5, 2, 2]\n",
    "    \"\"\"\n",
    "    \"*** YOUR CODE HERE ***\"\n",
    "    flag =0\n",
    "    for item in s:\n",
    "        if item == x:\n",
    "            flag +=1\n",
    "    return s.extend([el]*flag)\n"
   ]
  },
  {
   "cell_type": "code",
   "execution_count": 29,
   "metadata": {},
   "outputs": [
    {
     "data": {
      "text/plain": [
       "'c'"
      ]
     },
     "execution_count": 29,
     "metadata": {},
     "output_type": "execute_result"
    }
   ],
   "source": [
    "s='cs61a'\n",
    "s_iter = iter(s)\n",
    "next(s_iter)"
   ]
  },
  {
   "cell_type": "code",
   "execution_count": 30,
   "metadata": {},
   "outputs": [
    {
     "data": {
      "text/plain": [
       "'s'"
      ]
     },
     "execution_count": 30,
     "metadata": {},
     "output_type": "execute_result"
    }
   ],
   "source": [
    "next(s_iter)"
   ]
  },
  {
   "cell_type": "code",
   "execution_count": 31,
   "metadata": {},
   "outputs": [
    {
     "data": {
      "text/plain": [
       "['6', '1', 'a']"
      ]
     },
     "execution_count": 31,
     "metadata": {},
     "output_type": "execute_result"
    }
   ],
   "source": [
    "list(s_iter)"
   ]
  },
  {
   "cell_type": "code",
   "execution_count": 32,
   "metadata": {},
   "outputs": [
    {
     "data": {
      "text/plain": [
       "1"
      ]
     },
     "execution_count": 32,
     "metadata": {},
     "output_type": "execute_result"
    }
   ],
   "source": [
    "s= [[1,2,3,4]]\n",
    "i = iter(s)\n",
    "j = iter(next(i))\n",
    "next(j)"
   ]
  },
  {
   "cell_type": "code",
   "execution_count": 33,
   "metadata": {},
   "outputs": [
    {
     "data": {
      "text/plain": [
       "5"
      ]
     },
     "execution_count": 33,
     "metadata": {},
     "output_type": "execute_result"
    }
   ],
   "source": [
    "s.append(5)\n",
    "next(i)"
   ]
  },
  {
   "cell_type": "code",
   "execution_count": 34,
   "metadata": {},
   "outputs": [
    {
     "data": {
      "text/plain": [
       "2"
      ]
     },
     "execution_count": 34,
     "metadata": {},
     "output_type": "execute_result"
    }
   ],
   "source": [
    "next(j)"
   ]
  },
  {
   "cell_type": "code",
   "execution_count": 35,
   "metadata": {},
   "outputs": [
    {
     "data": {
      "text/plain": [
       "[3, 4]"
      ]
     },
     "execution_count": 35,
     "metadata": {},
     "output_type": "execute_result"
    }
   ],
   "source": [
    "list(j)"
   ]
  },
  {
   "cell_type": "code",
   "execution_count": 36,
   "metadata": {},
   "outputs": [
    {
     "ename": "StopIteration",
     "evalue": "",
     "output_type": "error",
     "traceback": [
      "\u001b[1;31m---------------------------------------------------------------------------\u001b[0m",
      "\u001b[1;31mStopIteration\u001b[0m                             Traceback (most recent call last)",
      "\u001b[1;32m~\\AppData\\Local\\Temp\\ipykernel_16768\\1939748483.py\u001b[0m in \u001b[0;36m<module>\u001b[1;34m\u001b[0m\n\u001b[1;32m----> 1\u001b[1;33m \u001b[0mnext\u001b[0m\u001b[1;33m(\u001b[0m\u001b[0mi\u001b[0m\u001b[1;33m)\u001b[0m\u001b[1;33m\u001b[0m\u001b[1;33m\u001b[0m\u001b[0m\n\u001b[0m",
      "\u001b[1;31mStopIteration\u001b[0m: "
     ]
    }
   ],
   "source": [
    "next(i)"
   ]
  },
  {
   "cell_type": "code",
   "execution_count": 37,
   "metadata": {},
   "outputs": [],
   "source": [
    "def infinite_generator(n):\n",
    "    yield n\n",
    "    while True:\n",
    "        n+=1\n",
    "        yield n"
   ]
  },
  {
   "cell_type": "code",
   "execution_count": 40,
   "metadata": {},
   "outputs": [
    {
     "ename": "TypeError",
     "evalue": "'function' object is not an iterator",
     "output_type": "error",
     "traceback": [
      "\u001b[1;31m---------------------------------------------------------------------------\u001b[0m",
      "\u001b[1;31mTypeError\u001b[0m                                 Traceback (most recent call last)",
      "\u001b[1;32m~\\AppData\\Local\\Temp\\ipykernel_16768\\1476305190.py\u001b[0m in \u001b[0;36m<module>\u001b[1;34m\u001b[0m\n\u001b[1;32m----> 1\u001b[1;33m \u001b[0mnext\u001b[0m\u001b[1;33m(\u001b[0m\u001b[0minfinite_generator\u001b[0m\u001b[1;33m)\u001b[0m\u001b[1;33m\u001b[0m\u001b[1;33m\u001b[0m\u001b[0m\n\u001b[0m",
      "\u001b[1;31mTypeError\u001b[0m: 'function' object is not an iterator"
     ]
    }
   ],
   "source": [
    "next(infinite_generator)"
   ]
  },
  {
   "cell_type": "code",
   "execution_count": 41,
   "metadata": {},
   "outputs": [],
   "source": [
    "gen_obj = infinite_generator(1)"
   ]
  },
  {
   "cell_type": "code",
   "execution_count": 42,
   "metadata": {},
   "outputs": [
    {
     "data": {
      "text/plain": [
       "1"
      ]
     },
     "execution_count": 42,
     "metadata": {},
     "output_type": "execute_result"
    }
   ],
   "source": [
    "next(gen_obj)"
   ]
  },
  {
   "cell_type": "code",
   "execution_count": 43,
   "metadata": {},
   "outputs": [
    {
     "data": {
      "text/plain": [
       "2"
      ]
     },
     "execution_count": 43,
     "metadata": {},
     "output_type": "execute_result"
    }
   ],
   "source": [
    "next(gen_obj)\n"
   ]
  },
  {
   "cell_type": "code",
   "execution_count": 44,
   "metadata": {},
   "outputs": [
    {
     "ename": "KeyboardInterrupt",
     "evalue": "",
     "output_type": "error",
     "traceback": [
      "\u001b[1;31m---------------------------------------------------------------------------\u001b[0m",
      "\u001b[1;31mKeyboardInterrupt\u001b[0m                         Traceback (most recent call last)",
      "\u001b[1;32m~\\AppData\\Local\\Temp\\ipykernel_16768\\70810004.py\u001b[0m in \u001b[0;36m<module>\u001b[1;34m\u001b[0m\n\u001b[1;32m----> 1\u001b[1;33m \u001b[0mlist\u001b[0m\u001b[1;33m(\u001b[0m\u001b[0mgen_obj\u001b[0m\u001b[1;33m)\u001b[0m\u001b[1;33m\u001b[0m\u001b[1;33m\u001b[0m\u001b[0m\n\u001b[0m",
      "\u001b[1;32m~\\AppData\\Local\\Temp\\ipykernel_16768\\1363023900.py\u001b[0m in \u001b[0;36minfinite_generator\u001b[1;34m(n)\u001b[0m\n\u001b[0;32m      3\u001b[0m     \u001b[1;32mwhile\u001b[0m \u001b[1;32mTrue\u001b[0m\u001b[1;33m:\u001b[0m\u001b[1;33m\u001b[0m\u001b[1;33m\u001b[0m\u001b[0m\n\u001b[0;32m      4\u001b[0m         \u001b[0mn\u001b[0m\u001b[1;33m+=\u001b[0m\u001b[1;36m1\u001b[0m\u001b[1;33m\u001b[0m\u001b[1;33m\u001b[0m\u001b[0m\n\u001b[1;32m----> 5\u001b[1;33m         \u001b[1;32myield\u001b[0m \u001b[0mn\u001b[0m\u001b[1;33m\u001b[0m\u001b[1;33m\u001b[0m\u001b[0m\n\u001b[0m",
      "\u001b[1;31mKeyboardInterrupt\u001b[0m: "
     ]
    }
   ],
   "source": [
    "list(gen_obj)"
   ]
  },
  {
   "cell_type": "code",
   "execution_count": 45,
   "metadata": {},
   "outputs": [],
   "source": [
    "def rev_str(s):\n",
    "    for i in range(len(s)):\n",
    "        yield from s[i::-1]"
   ]
  },
  {
   "cell_type": "code",
   "execution_count": 84,
   "metadata": {},
   "outputs": [],
   "source": [
    "hey = rev_str(\"hey\")"
   ]
  },
  {
   "cell_type": "code",
   "execution_count": 85,
   "metadata": {},
   "outputs": [
    {
     "data": {
      "text/plain": [
       "'h'"
      ]
     },
     "execution_count": 85,
     "metadata": {},
     "output_type": "execute_result"
    }
   ],
   "source": [
    "next(hey)\n"
   ]
  },
  {
   "cell_type": "code",
   "execution_count": 86,
   "metadata": {},
   "outputs": [
    {
     "data": {
      "text/plain": [
       "'e'"
      ]
     },
     "execution_count": 86,
     "metadata": {},
     "output_type": "execute_result"
    }
   ],
   "source": [
    "next(hey)"
   ]
  },
  {
   "cell_type": "code",
   "execution_count": 87,
   "metadata": {},
   "outputs": [
    {
     "data": {
      "text/plain": [
       "'h'"
      ]
     },
     "execution_count": 87,
     "metadata": {},
     "output_type": "execute_result"
    }
   ],
   "source": [
    "next(hey)\n"
   ]
  },
  {
   "cell_type": "code",
   "execution_count": 88,
   "metadata": {},
   "outputs": [
    {
     "data": {
      "text/plain": [
       "['y', 'e', 'h']"
      ]
     },
     "execution_count": 88,
     "metadata": {},
     "output_type": "execute_result"
    }
   ],
   "source": [
    "list(hey)\n"
   ]
  },
  {
   "cell_type": "code",
   "execution_count": 74,
   "metadata": {},
   "outputs": [
    {
     "data": {
      "text/plain": [
       "'e'"
      ]
     },
     "execution_count": 74,
     "metadata": {},
     "output_type": "execute_result"
    }
   ],
   "source": [
    "next(hey)\n"
   ]
  },
  {
   "cell_type": "code",
   "execution_count": 75,
   "metadata": {},
   "outputs": [
    {
     "data": {
      "text/plain": [
       "'h'"
      ]
     },
     "execution_count": 75,
     "metadata": {},
     "output_type": "execute_result"
    }
   ],
   "source": [
    "next(hey)\n"
   ]
  },
  {
   "cell_type": "code",
   "execution_count": 76,
   "metadata": {},
   "outputs": [
    {
     "ename": "StopIteration",
     "evalue": "",
     "output_type": "error",
     "traceback": [
      "\u001b[1;31m---------------------------------------------------------------------------\u001b[0m",
      "\u001b[1;31mStopIteration\u001b[0m                             Traceback (most recent call last)",
      "\u001b[1;32m~\\AppData\\Local\\Temp\\ipykernel_16768\\4256087679.py\u001b[0m in \u001b[0;36m<module>\u001b[1;34m\u001b[0m\n\u001b[1;32m----> 1\u001b[1;33m \u001b[0mnext\u001b[0m\u001b[1;33m(\u001b[0m\u001b[0mhey\u001b[0m\u001b[1;33m)\u001b[0m\u001b[1;33m\u001b[0m\u001b[1;33m\u001b[0m\u001b[0m\n\u001b[0m",
      "\u001b[1;31mStopIteration\u001b[0m: "
     ]
    }
   ],
   "source": [
    "next(hey)\n"
   ]
  },
  {
   "cell_type": "code",
   "execution_count": 77,
   "metadata": {},
   "outputs": [],
   "source": [
    "a=[1,2,3]"
   ]
  },
  {
   "cell_type": "code",
   "execution_count": 83,
   "metadata": {},
   "outputs": [
    {
     "data": {
      "text/plain": [
       "[1]"
      ]
     },
     "execution_count": 83,
     "metadata": {},
     "output_type": "execute_result"
    }
   ],
   "source": [
    "a[0::-1]"
   ]
  },
  {
   "cell_type": "code",
   "execution_count": 89,
   "metadata": {},
   "outputs": [],
   "source": [
    "def add_prefix(s,pre):\n",
    "    if not pre:\n",
    "        return \n",
    "    yield pre[0]+s\n",
    "    yield from add_prefix(s,pre[1:])"
   ]
  },
  {
   "cell_type": "code",
   "execution_count": 90,
   "metadata": {},
   "outputs": [],
   "source": [
    "school = add_prefix(\"schooler\", [\"pre\", \"middle\", \"high\"])"
   ]
  },
  {
   "cell_type": "code",
   "execution_count": 91,
   "metadata": {},
   "outputs": [
    {
     "data": {
      "text/plain": [
       "'preschooler'"
      ]
     },
     "execution_count": 91,
     "metadata": {},
     "output_type": "execute_result"
    }
   ],
   "source": [
    "next(school)"
   ]
  },
  {
   "cell_type": "code",
   "execution_count": 92,
   "metadata": {},
   "outputs": [
    {
     "data": {
      "text/plain": [
       "['middleschool', 'highschool']"
      ]
     },
     "execution_count": 92,
     "metadata": {},
     "output_type": "execute_result"
    }
   ],
   "source": [
    "list(map(lambda x: x[:-2], school))"
   ]
  },
  {
   "attachments": {},
   "cell_type": "markdown",
   "metadata": {},
   "source": [
    "## Q5  Filter-Ite\n"
   ]
  },
  {
   "cell_type": "code",
   "execution_count": null,
   "metadata": {},
   "outputs": [],
   "source": [
    "def filter_iter(iterable, f):\n",
    "    \"\"\"\n",
    "    >>> is_even = lambda x: x % 2 == 0\n",
    "    >>> list(filter_iter(range(5), is_even)) # a list of the values yielded from the call to filter_iter\n",
    "    [0, 2, 4]\n",
    "    >>> all_odd = (2*y-1 for y in range(5))\n",
    "    >>> list(filter_iter(all_odd, is_even))\n",
    "    []\n",
    "    >>> naturals = (n for n in range(1, 100))\n",
    "    >>> s = filter_iter(naturals, is_even)\n",
    "    >>> next(s)\n",
    "    2\n",
    "    >>> next(s)\n",
    "    4\n",
    "    \"\"\"\n",
    "    \"*** YOUR CODE HERE ***\"\n",
    "    for item in iterable:\n",
    "        if f(item):\n",
    "            yield item\n",
    "    \n",
    "\n"
   ]
  },
  {
   "attachments": {},
   "cell_type": "markdown",
   "metadata": {},
   "source": [
    "## Q6 Primes Generator"
   ]
  },
  {
   "cell_type": "code",
   "execution_count": null,
   "metadata": {},
   "outputs": [],
   "source": [
    "def is_prime(n):\n",
    "    \"\"\"Returns True if n is a prime number and False otherwise.\n",
    "    >>> is_prime(2)\n",
    "    True\n",
    "    >>> is_prime(16)\n",
    "    False\n",
    "    >>> is_prime(521)\n",
    "    True\n",
    "    \"\"\"\n",
    "    def helper(i):\n",
    "        if i > (n ** 0.5): # Could replace with i == n\n",
    "            return True\n",
    "        elif n % i == 0:\n",
    "            return False\n",
    "        return helper(i + 1)\n",
    "    return helper(2)\n",
    "\n",
    "def primes_gen(n):\n",
    "    \"\"\"Generates primes in decreasing order.\n",
    "    >>> pg = primes_gen(7)\n",
    "    >>> list(pg)\n",
    "    [7, 5, 3, 2]\n",
    "    \"\"\"\n",
    "    \"*** YOUR CODE HERE ***\"\n",
    "    list = []\n",
    "    for i in range(n+1,1,-1):\n",
    "        if is_prime(i):\n",
    "            list.append(i)\n",
    "    return list\n",
    "    \n"
   ]
  },
  {
   "cell_type": "code",
   "execution_count": null,
   "metadata": {},
   "outputs": [],
   "source": [
    "def is_prime(n):\n",
    "    \"\"\"Returns True if n is a prime number and False otherwise.\n",
    "    >>> is_prime(2)\n",
    "    True\n",
    "    >>> is_prime(16)\n",
    "    False\n",
    "    >>> is_prime(521)\n",
    "    True\n",
    "    \"\"\"\n",
    "    def helper(i):\n",
    "        if i > (n ** 0.5): # Could replace with i == n\n",
    "            return True\n",
    "        elif n % i == 0:\n",
    "            return False\n",
    "        return helper(i + 1)\n",
    "    return helper(2)\n",
    "\n",
    "def primes_gen(n):\n",
    "    \"\"\"Generates primes in decreasing order.\n",
    "    >>> pg = primes_gen(7)\n",
    "    >>> list(pg)\n",
    "    [7, 5, 3, 2]\n",
    "    \"\"\"\n",
    "    if n<=1:\n",
    "        return\n",
    "    if is_prime(n):\n",
    "        yield n\n",
    "    yield from primes_gen(n-1)\n",
    "\n"
   ]
  },
  {
   "attachments": {},
   "cell_type": "markdown",
   "metadata": {},
   "source": [
    "## Q7 Generate Preorder"
   ]
  },
  {
   "cell_type": "code",
   "execution_count": null,
   "metadata": {},
   "outputs": [],
   "source": [
    "def preorder(t):\n",
    "    \"\"\"Return a list of the entries in this tree in the order that they\n",
    "    would be visited by a preorder traversal (see problem description).\n",
    "\n",
    "    >>> numbers = tree(1, [tree(2), tree(3, [tree(4), tree(5)]), tree(6, [tree(7)])])\n",
    "    >>> preorder(numbers)\n",
    "    [1, 2, 3, 4, 5, 6, 7]\n",
    "    >>> preorder(tree(2, [tree(4, [tree(6)])]))\n",
    "    [2, 4, 6]\n",
    "    \"\"\"\n",
    "    \"*** YOUR CODE HERE ***\"\n",
    "    if is_leaf(t):\n",
    "        return [label(t)]\n",
    "    else:\n",
    "        return [label(t)] + sum([preorder(b) for b in branches(t)],[])\n",
    "\n"
   ]
  },
  {
   "cell_type": "code",
   "execution_count": null,
   "metadata": {},
   "outputs": [],
   "source": [
    "def generate_preorder(t):\n",
    "    \"\"\"Yield the entries in this tree in the order that they\n",
    "    would be visited by a preorder traversal (see problem description).\n",
    "\n",
    "    >>> numbers = tree(1, [tree(2), tree(3, [tree(4), tree(5)]), tree(6, [tree(7)])])\n",
    "    >>> gen = generate_preorder(numbers)\n",
    "    >>> next(gen)\n",
    "    1\n",
    "    >>> list(gen)\n",
    "    [2, 3, 4, 5, 6, 7]\n",
    "    \"\"\"\n",
    "    \"*** YOUR CODE HERE ***\"\n",
    "    yield label(t)\n",
    "    for b in branches(t):\n",
    "        yield from generate_preorder(b)\n",
    "\n"
   ]
  },
  {
   "attachments": {},
   "cell_type": "markdown",
   "metadata": {},
   "source": [
    "## Mystery Reverse Environment Diagram"
   ]
  },
  {
   "cell_type": "code",
   "execution_count": null,
   "metadata": {},
   "outputs": [],
   "source": [
    "def mystery(p, q):\n",
    "    p[1].extend(q)\n",
    "    q.append(p[1:])\n",
    "\n",
    "p = [2, 3]\n",
    "q = [4, [p]]\n",
    "mystery(q,p)\n",
    "\n"
   ]
  },
  {
   "attachments": {},
   "cell_type": "markdown",
   "metadata": {},
   "source": [
    "# Disc 07\n"
   ]
  },
  {
   "attachments": {},
   "cell_type": "markdown",
   "metadata": {},
   "source": [
    "## Q1:WWPD: Student OOP"
   ]
  },
  {
   "cell_type": "code",
   "execution_count": 1,
   "metadata": {},
   "outputs": [],
   "source": [
    "class Student:\n",
    "\n",
    "    extension_days = 3 # this is a class variable\n",
    "\n",
    "    def __init__(self, name, staff):\n",
    "        self.name = name # this is an instance variable\n",
    "        self.understanding = 0\n",
    "        staff.add_student(self)\n",
    "        print(\"Added\", self.name)\n",
    "\n",
    "    def visit_office_hours(self, staff):\n",
    "        staff.assist(self)\n",
    "        print(\"Thanks, \" + staff.name)\n",
    "\n",
    "class Professor:\n",
    "\n",
    "    def __init__(self, name):\n",
    "        self.name = name\n",
    "        self.students = {}\n",
    "\n",
    "    def add_student(self, student):\n",
    "        self.students[student.name] = student\n",
    "\n",
    "    def assist(self, student):\n",
    "        student.understanding += 1\n",
    "\n",
    "    def grant_more_extension_days(self, student, days):\n",
    "        student.extension_days = days"
   ]
  },
  {
   "cell_type": "code",
   "execution_count": 9,
   "metadata": {},
   "outputs": [
    {
     "name": "stdout",
     "output_type": "stream",
     "text": [
      "Added Elle\n"
     ]
    }
   ],
   "source": [
    "callahan = Professor(\"Callahan\")\n",
    "elle = Student(\"Elle\",callahan)"
   ]
  },
  {
   "cell_type": "code",
   "execution_count": 10,
   "metadata": {},
   "outputs": [
    {
     "name": "stdout",
     "output_type": "stream",
     "text": [
      "Thanks, Callahan\n"
     ]
    }
   ],
   "source": [
    "elle.visit_office_hours(callahan)"
   ]
  },
  {
   "cell_type": "code",
   "execution_count": 11,
   "metadata": {},
   "outputs": [
    {
     "name": "stdout",
     "output_type": "stream",
     "text": [
      "Thanks, Paulette\n"
     ]
    }
   ],
   "source": [
    "elle.visit_office_hours(Professor(\"Paulette\"))"
   ]
  },
  {
   "cell_type": "code",
   "execution_count": 12,
   "metadata": {},
   "outputs": [
    {
     "data": {
      "text/plain": [
       "2"
      ]
     },
     "execution_count": 12,
     "metadata": {},
     "output_type": "execute_result"
    }
   ],
   "source": [
    "elle.understanding"
   ]
  },
  {
   "cell_type": "code",
   "execution_count": 13,
   "metadata": {},
   "outputs": [
    {
     "data": {
      "text/plain": [
       "['Elle']"
      ]
     },
     "execution_count": 13,
     "metadata": {},
     "output_type": "execute_result"
    }
   ],
   "source": [
    "[name for name in callahan.students]"
   ]
  },
  {
   "cell_type": "code",
   "execution_count": 14,
   "metadata": {},
   "outputs": [
    {
     "name": "stdout",
     "output_type": "stream",
     "text": [
      "Added Vivian\n"
     ]
    }
   ],
   "source": [
    "x = Student(\"Vivian\", Professor(\"Stromwell\")).name"
   ]
  },
  {
   "cell_type": "code",
   "execution_count": 15,
   "metadata": {},
   "outputs": [
    {
     "data": {
      "text/plain": [
       "'Vivian'"
      ]
     },
     "execution_count": 15,
     "metadata": {},
     "output_type": "execute_result"
    }
   ],
   "source": [
    "x"
   ]
  },
  {
   "cell_type": "code",
   "execution_count": 16,
   "metadata": {},
   "outputs": [
    {
     "data": {
      "text/plain": [
       "['Elle']"
      ]
     },
     "execution_count": 16,
     "metadata": {},
     "output_type": "execute_result"
    }
   ],
   "source": [
    "[name for name in callahan.students]"
   ]
  },
  {
   "cell_type": "code",
   "execution_count": 17,
   "metadata": {},
   "outputs": [
    {
     "data": {
      "text/plain": [
       "3"
      ]
     },
     "execution_count": 17,
     "metadata": {},
     "output_type": "execute_result"
    }
   ],
   "source": [
    "elle.extension_days"
   ]
  },
  {
   "cell_type": "code",
   "execution_count": 18,
   "metadata": {},
   "outputs": [
    {
     "data": {
      "text/plain": [
       "7"
      ]
     },
     "execution_count": 18,
     "metadata": {},
     "output_type": "execute_result"
    }
   ],
   "source": [
    "callahan.grant_more_extension_days(elle,7)\n",
    "elle.extension_days"
   ]
  },
  {
   "cell_type": "code",
   "execution_count": 19,
   "metadata": {},
   "outputs": [
    {
     "data": {
      "text/plain": [
       "3"
      ]
     },
     "execution_count": 19,
     "metadata": {},
     "output_type": "execute_result"
    }
   ],
   "source": [
    "Student.extension_days"
   ]
  },
  {
   "attachments": {},
   "cell_type": "markdown",
   "metadata": {},
   "source": [
    "## Q2 Email"
   ]
  },
  {
   "cell_type": "code",
   "execution_count": 25,
   "metadata": {},
   "outputs": [],
   "source": [
    "class Email:\n",
    "    \"\"\"\n",
    "    Every email object has 3 instance attributes: the\n",
    "    message, the sender name, and the recipient name.\n",
    "    >>> email = Email('hello', 'Alice', 'Bob')\n",
    "    >>> email.msg\n",
    "    'hello'\n",
    "    >>> email.sender_name\n",
    "    'Alice'\n",
    "    >>> email.recipient_name\n",
    "    'Bob'\n",
    "    \"\"\"\n",
    "    def __init__(self, msg, sender_name, recipient_name):\n",
    "        \"*** YOUR CODE HERE ***\"\n",
    "        self.msg = msg\n",
    "        self.sender_name = sender_name\n",
    "        self.recipient_name = recipient_name\n",
    "class Server:\n",
    "    \"\"\"\n",
    "    Each Server has one instance attribute: clients (which\n",
    "    is a dictionary that associates client names with\n",
    "    client objects).\n",
    "    \"\"\"\n",
    "    def __init__(self):\n",
    "        self.clients = {}\n",
    "\n",
    "    def send(self, email):\n",
    "        \"\"\"\n",
    "        Take an email and put it in the inbox of the client\n",
    "        it is addressed to.\n",
    "        \"\"\"\n",
    "        \"*** YOUR CODE HERE ***\"\n",
    "        client = self.clients[email.recipient_name]\n",
    "        client.receive(email)\n",
    "\n",
    "\n",
    "    def register_client(self, client, client_name):\n",
    "        \"\"\"\n",
    "        Takes a client object and client_name and adds them\n",
    "        to the clients instance attribute.\n",
    "        \"\"\"\n",
    "        \"*** YOUR CODE HERE ***\"\n",
    "        self.clients[client_name] = client\n",
    "class Client:\n",
    "    \"\"\"\n",
    "    Every Client has three instance attributes: name (which is\n",
    "    used for addressing emails to the client), server\n",
    "    (which is used to send emails out to other clients), and\n",
    "    inbox (a list of all emails the client has received).\n",
    "\n",
    "    >>> s = Server()\n",
    "    >>> a = Client(s, 'Alice')\n",
    "    >>> b = Client(s, 'Bob')\n",
    "    >>> a.compose('Hello, World!', 'Bob')\n",
    "    >>> b.inbox[0].msg\n",
    "    'Hello, World!'\n",
    "    >>> a.compose('CS 61A Rocks!', 'Bob')\n",
    "    >>> len(b.inbox)\n",
    "    2\n",
    "    >>> b.inbox[1].msg\n",
    "    'CS 61A Rocks!'\n",
    "    \"\"\"\n",
    "    def __init__(self, server, name):\n",
    "        self.inbox = []\n",
    "        self.server = server\n",
    "        self.name = name\n",
    "        self.server.register_client(self,name)\n",
    "        \"*** YOUR CODE HERE ***\"\n",
    "\n",
    "    def compose(self, msg, recipient_name):\n",
    "        \"\"\"Send an email with the given message \n",
    "        msg to the given recipient client.\"\"\"\n",
    "        email = Email(msg,self.server.clients[self.name],recipient_name)\n",
    "        self.server.send(email)\n",
    "        \"*** YOUR CODE HERE ***\"\n",
    "\n",
    "    def receive(self, email):\n",
    "        \"\"\"Take an email and add it to the inbox of this client.\"\"\"\n",
    "        self.inbox.append(email)\n",
    "        \"*** YOUR CODE HERE ***\"\n",
    "\n",
    "\n",
    "\n"
   ]
  },
  {
   "cell_type": "code",
   "execution_count": 26,
   "metadata": {},
   "outputs": [
    {
     "data": {
      "text/plain": [
       "'Hello, World!'"
      ]
     },
     "execution_count": 26,
     "metadata": {},
     "output_type": "execute_result"
    }
   ],
   "source": [
    "s = Server()\n",
    "a = Client(s, 'Alice')\n",
    "b = Client(s, 'Bob')\n",
    "a.compose('Hello, World!', 'Bob')\n",
    "b.inbox[0].msg"
   ]
  },
  {
   "cell_type": "code",
   "execution_count": 27,
   "metadata": {},
   "outputs": [
    {
     "data": {
      "text/plain": [
       "2"
      ]
     },
     "execution_count": 27,
     "metadata": {},
     "output_type": "execute_result"
    }
   ],
   "source": [
    "a.compose('CS 61A Rocks!', 'Bob')\n",
    "len(b.inbox)"
   ]
  },
  {
   "cell_type": "code",
   "execution_count": 28,
   "metadata": {},
   "outputs": [
    {
     "data": {
      "text/plain": [
       "'CS 61A Rocks!'"
      ]
     },
     "execution_count": 28,
     "metadata": {},
     "output_type": "execute_result"
    }
   ],
   "source": [
    " b.inbox[1].msg"
   ]
  },
  {
   "attachments": {},
   "cell_type": "markdown",
   "metadata": {},
   "source": [
    "## Q3:Keyboard\n"
   ]
  },
  {
   "cell_type": "code",
   "execution_count": 45,
   "metadata": {},
   "outputs": [],
   "source": [
    "class Button:\n",
    "    def __init__(self, pos, key):\n",
    "        self.pos = pos\n",
    "        self.key = key\n",
    "        self.times_pressed = 0\n",
    "\n",
    "class Keyboard:\n",
    "    \"\"\"A Keyboard stores an arbitrary number of Buttons in a dictionary. \n",
    "    Each dictionary key is a Button's position, and each dictionary\n",
    "    value is the corresponding Button.\n",
    "    >>> b1, b2 = Button(5, \"H\"), Button(7, \"I\")\n",
    "    >>> k = Keyboard(b1, b2)\n",
    "    >>> k.buttons[5].key\n",
    "    'H'\n",
    "    >>> k.press(7)\n",
    "    'I'\n",
    "    >>> k.press(0) # No button at this position\n",
    "    ''\n",
    "    >>> k.typing([5, 7])\n",
    "    'HI'\n",
    "    >>> k.typing([7, 5])\n",
    "    'IH'\n",
    "    >>> b1.times_pressed\n",
    "    2\n",
    "    >>> b2.times_pressed\n",
    "    3\n",
    "    \"\"\"\n",
    "    def __init__(self, *args):\n",
    "        self.buttons = {}\n",
    "        for button in args:\n",
    "            self.buttons[button.pos] = button\n",
    "\n",
    "    def press(self, pos):\n",
    "        \"\"\"Takes in a position of the button pressed, and\n",
    "        returns that button's output.\"\"\"\n",
    "        output = ''\n",
    "        if pos in self.buttons:\n",
    "            button = self.buttons[pos]\n",
    "            output = button.key\n",
    "            button.times_pressed+=1\n",
    "        return output\n",
    "\n",
    "    def typing(self, typing_input):\n",
    "        \"\"\"Takes in a list of positions of buttons pressed, and\n",
    "        returns the total output.\"\"\"\n",
    "        typing_output = ''\n",
    "        for botton_pos in typing_input:\n",
    "            self.buttons[botton_pos].times_pressed +=1\n",
    "            typing_output += self.buttons[botton_pos].key\n",
    "        return typing_output\n",
    "\n"
   ]
  },
  {
   "cell_type": "code",
   "execution_count": 51,
   "metadata": {},
   "outputs": [
    {
     "data": {
      "text/plain": [
       "3"
      ]
     },
     "execution_count": 51,
     "metadata": {},
     "output_type": "execute_result"
    }
   ],
   "source": [
    "b1, b2 = Button(5, \"H\"), Button(7, \"I\")\n",
    "k = Keyboard(b1, b2)\n",
    "k.buttons[5].key\n",
    "k.press(7)\n",
    "k.press(0)\n",
    "k.typing([5, 7])\n",
    "k.typing([7, 5])\n",
    "b1.times_pressed\n",
    "b2.times_pressed"
   ]
  },
  {
   "attachments": {},
   "cell_type": "markdown",
   "metadata": {},
   "source": [
    "## Q4:Relay\n"
   ]
  },
  {
   "cell_type": "code",
   "execution_count": 186,
   "metadata": {},
   "outputs": [],
   "source": [
    "class TeamMember:\n",
    "    def __init__(self, operation, prev_member=None):\n",
    "        \"\"\"\n",
    "        A TeamMember object is instantiated by taking in an `operation`\n",
    "        and a TeamMember object `prev_member`, which is the team member\n",
    "        who \"sits in front of\" this current team member. A TeamMember also\n",
    "        tracks a `history` list, which contains the answers given by\n",
    "        each individual team member.\n",
    "        \"\"\"\n",
    "        self.history = []\n",
    "        \"*** YOUR CODE HERE ***\"\n",
    "        self.operation = operation\n",
    "        self.prev_member = prev_member\n",
    "\n",
    "    def relay_calculate(self, x):\n",
    "        \"\"\"\n",
    "        The relay_calculate method takes in a number `x` and performs a\n",
    "        relay by passing in `x` to the first team member's `operation`.\n",
    "        Then, that answer is passed to the next member's operation, etc. until\n",
    "        we get to the current TeamMember, in which case we return the\n",
    "        final answer, `result`. \n",
    "        \"\"\"\n",
    "        if  not self.prev_member:\n",
    "            \"*** YOUR CODE HERE ***\"\n",
    "            result = self.operation(x)\n",
    "            self.history = [result]\n",
    "        else:\n",
    "            \"*** YOUR CODE HERE ***\"\n",
    "            temp = self.prev_member.relay_calculate(x)\n",
    "            result = self.operation(temp)\n",
    "            self.history = self.prev_member.relay_history()+[result]\n",
    "            # self.history.append(self.prev_member.history[-1])\n",
    "        return result\n",
    "    \n",
    "    def relay_history(self):\n",
    "        \"\"\"\n",
    "        Returns a list of the answers given by each team member in the\n",
    "        most recent relay the current TeamMember has participated in.\n",
    "        \"\"\"\n",
    "        return self.history\n",
    "        \"*** YOUR CODE HERE ***\""
   ]
  },
  {
   "cell_type": "code",
   "execution_count": 196,
   "metadata": {},
   "outputs": [
    {
     "data": {
      "text/plain": [
       "[5, 7, 35]"
      ]
     },
     "execution_count": 196,
     "metadata": {},
     "output_type": "execute_result"
    }
   ],
   "source": [
    "adder = TeamMember(lambda x: x + 1) # team member at front \n",
    "adder2 = TeamMember(lambda x: x + 2, adder) # team member 2\n",
    "multiplier = TeamMember(lambda x: x * 5, adder2) # team member 3\n",
    "adder.relay_history() # relay history starts off as empty\n",
    "adder.relay_calculate(5)\n",
    "adder2.relay_calculate(5)\n",
    "multiplier.relay_calculate(5) \n",
    "multiplier.relay_history()\n",
    "\n",
    "adder.relay_history()\n",
    "multiplier.relay_calculate(4)\n",
    "multiplier.relay_history()\n",
    "adder.relay_history()\n",
    "adder.relay_calculate(1)\n",
    "adder.relay_history() \n",
    "multiplier.relay_history()"
   ]
  },
  {
   "attachments": {},
   "cell_type": "markdown",
   "metadata": {},
   "source": [
    "## Class Methods\n"
   ]
  },
  {
   "cell_type": "code",
   "execution_count": 204,
   "metadata": {},
   "outputs": [],
   "source": [
    "class Cat:\n",
    "    def __init__(self, name, owner, lives=9):\n",
    "        self.is_alive = True\n",
    "        self.name = name\n",
    "        self.owner = owner\n",
    "        self.lives = lives\n",
    "\n",
    "    def talk(self):\n",
    "        return self.name + ' says meow!'\n",
    "\n",
    "    @classmethod\n",
    "    def cat_creator(cls, owner):\n",
    "        \"\"\"\n",
    "        Returns a new instance of a Cat.\n",
    "\n",
    "        This instance's name is \"[owner]'s Cat\", with \n",
    "        [owner] being the name of its owner.\n",
    "\n",
    "        >>> cat1 = Cat.cat_creator(\"Bryce\")\n",
    "        >>> isinstance(cat1, Cat)\n",
    "        True\n",
    "        >>> cat1.owner\n",
    "        'Bryce'\n",
    "        >>> cat1.name\n",
    "        \"Bryce's Cat\"\n",
    "        >>> cat2 = Cat.cat_creator(\"Tyler\")\n",
    "        >>> cat2.owner\n",
    "        'Tyler'\n",
    "        >>> cat2.name\n",
    "        \"Tyler's Cat\"\n",
    "        \"\"\"\n",
    "        name = owner+\"'s Cat\"\n",
    "        return cls(name, owner)\n",
    "\n"
   ]
  },
  {
   "cell_type": "code",
   "execution_count": 205,
   "metadata": {},
   "outputs": [
    {
     "data": {
      "text/plain": [
       "True"
      ]
     },
     "execution_count": 205,
     "metadata": {},
     "output_type": "execute_result"
    }
   ],
   "source": [
    "cat1 = Cat.cat_creator(\"Bryce\")\n",
    "isinstance(cat1, Cat)"
   ]
  },
  {
   "cell_type": "code",
   "execution_count": 208,
   "metadata": {},
   "outputs": [
    {
     "data": {
      "text/plain": [
       "'Tyler'"
      ]
     },
     "execution_count": 208,
     "metadata": {},
     "output_type": "execute_result"
    }
   ],
   "source": [
    "cat1.owner\n",
    "cat1.name\n",
    "cat2 = Cat.cat_creator(\"Tyler\")\n",
    "cat2.owner"
   ]
  },
  {
   "cell_type": "code",
   "execution_count": 210,
   "metadata": {},
   "outputs": [
    {
     "data": {
      "text/plain": [
       "\"Tyler's Cat\""
      ]
     },
     "execution_count": 210,
     "metadata": {},
     "output_type": "execute_result"
    }
   ],
   "source": [
    "cat2.name"
   ]
  },
  {
   "cell_type": "markdown",
   "metadata": {},
   "source": [
    "## Disc8 OOP Inheritance,String Representation"
   ]
  },
  {
   "cell_type": "code",
   "execution_count": 1,
   "metadata": {},
   "outputs": [],
   "source": [
    "class Pet:\n",
    "\n",
    "    def __init__(self,name,owner):\n",
    "        self.is_alive = True\n",
    "        self.name = name\n",
    "        self.owner = owner\n",
    "\n",
    "    def eat(self,thing):\n",
    "        print(self.name + ' ate a '+str(thing)+ '!')\n",
    "\n",
    "    def talk(self):\n",
    "        print(self.name)\n",
    "\n",
    "\n",
    "class Dog(Pet):\n",
    "    def talk(self):\n",
    "        super().talk()\n",
    "        print('This Dog says woof!')"
   ]
  },
  {
   "cell_type": "code",
   "execution_count": 3,
   "metadata": {},
   "outputs": [],
   "source": [
    "class Butterfly():\n",
    "    def __init__(self, wings=2):\n",
    "        self.wings = wings\n",
    "\n",
    "class Monarch(Butterfly):\n",
    "    def __init__(self):\n",
    "        super().__init__()\n",
    "        #Butterfly.__init__(self)\n",
    "        self.colors = ['orange', 'black', 'white']\n",
    "\n",
    "\n",
    "class MimicButterfly(Butterfly):\n",
    "    def __init__(self, mimic_animal):\n",
    "        super().__init__()\n",
    "        self.mimic_animal = mimic_animal"
   ]
  },
  {
   "cell_type": "markdown",
   "metadata": {},
   "source": [
    "## Q2:Shapes\n"
   ]
  },
  {
   "cell_type": "code",
   "execution_count": 4,
   "metadata": {},
   "outputs": [],
   "source": [
    "import math\n",
    "pi = math.pi\n",
    "\n",
    "class Shape:\n",
    "    \"\"\"All geometric shapes will inherit from this Shape class.\"\"\"\n",
    "    def __init__(self, name):\n",
    "        self.name = name\n",
    "\n",
    "    def area(self):\n",
    "        \"\"\"Returns the area of a shape\"\"\"\n",
    "        print(\"Override this method in \", type(self))\n",
    "\n",
    "    def perimeter(self):\n",
    "        \"\"\"Returns the perimeter of a shape\"\"\"\n",
    "        print(\"Override this function in \", type(self))\n",
    "\n",
    "class Circle(Shape):\n",
    "    \"\"\"A circle is characterized by its radii\"\"\"\n",
    "    def __init__(self, name, radius):\n",
    "        \"*** YOUR CODE HERE ***\"\n",
    "        super().__init__(name)\n",
    "        self.radius = radius\n",
    "\n",
    "    def perimeter(self):\n",
    "        \"\"\"Returns the perimeter of a circle (2πr)\"\"\"\n",
    "        \"*** YOUR CODE HERE ***\"\n",
    "        return self.radius*2*pi\n",
    "\n",
    "    def area(self):\n",
    "        \"\"\"Returns the area of a circle (πr^2)\"\"\"\n",
    "        \"*** YOUR CODE HERE ***\"\n",
    "        return self.radius*pi**2\n",
    "\n",
    "class RegPolygon(Shape):\n",
    "    \"\"\"A regular polygon is defined as a shape whose \n",
    "    angles and side lengths are all the same.\n",
    "    This means the perimeter is easy to calculate. \n",
    "    The area can also be done, but it's more inconvenient.\"\"\"\n",
    "    def __init__(self, name, num_sides, side_length):\n",
    "        \"*** YOUR CODE HERE ***\"\n",
    "        super().__init__(name)\n",
    "        self.num_sides = num_sides\n",
    "        self.side_length = side_length\n",
    "\n",
    "    def perimeter(self):\n",
    "        \"\"\"Returns the perimeter of a regular polygon \n",
    "        (the number of sides multiplied by side length)\"\"\"\n",
    "        \"*** YOUR CODE HERE ***\"\n",
    "        return self.num_sides*self.side_length\n",
    "\n",
    "class Square(RegPolygon):\n",
    "    def __init__(self, name, side_length):\n",
    "        \"*** YOUR CODE HERE ***\"\n",
    "        super().__init__(name)\n",
    "        self.side_length = side_length\n",
    "\n",
    "    def area(self):\n",
    "        \"\"\"Returns the area of a square (squared side length)\"\"\"\n",
    "        \"*** YOUR CODE HERE ***\"\n",
    "        return self.side_length**2\n",
    "\n",
    "class Triangle(RegPolygon):\n",
    "    \"\"\"An equilateral triangle\"\"\"\n",
    "    def __init__(self, name, side_length):\n",
    "        \"*** YOUR CODE HERE ***\"\n",
    "        super().__init__(name)\n",
    "        self.side_length = side_length\n",
    "\n",
    "    def area(self):\n",
    "        \"\"\"Returns the area of an equilateral triangle is \n",
    "        (squared side length multiplied by the provided constant\"\"\"\n",
    "        constant = math.sqrt(3)/4\n",
    "        \"*** YOUR CODE HERE ***\"\n",
    "        return constant*self.side_length\n",
    "\n"
   ]
  },
  {
   "cell_type": "markdown",
   "metadata": {},
   "source": [
    "## Q3 Cat\n"
   ]
  },
  {
   "cell_type": "code",
   "execution_count": 26,
   "metadata": {},
   "outputs": [],
   "source": [
    "class Cat(Pet):\n",
    "\n",
    "    def __init__(self, name, owner, lives=9):\n",
    "        \"*** YOUR CODE HERE ***\"\n",
    "        super().__init__(name,owner)\n",
    "        self.lives = lives\n",
    "\n",
    "\n",
    "    def talk(self):\n",
    "        \"\"\"Print out a cat's greeting.\n",
    "\n",
    "        >>> Cat('Thomas', 'Tammy').talk()\n",
    "        Thomas says meow!\n",
    "        \"\"\"\n",
    "        \"*** YOUR CODE HERE ***\"\n",
    "        return '{0} says meow'.format(self.name)\n",
    "    def lose_life(self):\n",
    "        \"\"\"Decrements a cat's life by 1. When lives reaches zero,\n",
    "        is_alive becomes False. If this is called after lives has\n",
    "        reached zero, print 'This cat has no more lives to lose.'\n",
    "        \"\"\"\n",
    "        \"*** YOUR CODE HERE ***\"\n",
    "        self.lives -=1\n",
    "        if self.lives<=0:\n",
    "            self.is_alive = False\n",
    "            print('This cat has no more lives to lose.')\n",
    "    def revive(self):\n",
    "        \"\"\"Revives a cat from the dead. The cat should now have \n",
    "        9 lives and is_alive should be true. Can only be called\n",
    "        on a cat that is dead. If the cat isn't dead, print \n",
    "        'This cat still has lives to lose.'\n",
    "        \"\"\"\n",
    "        if not self.is_alive:\n",
    "            self.is_alive = True\n",
    "            self.lives =9\n",
    "        else:\n",
    "            print('This cat still has lives to lose.')\n",
    "\n",
    "    def __repr__(self):\n",
    "        return f'{self.name}, {self.lives} lives'\n",
    "    \n",
    "    def __str__(self):\n",
    "        return f'{self.name}'\n",
    "\n"
   ]
  },
  {
   "cell_type": "code",
   "execution_count": null,
   "metadata": {},
   "outputs": [],
   "source": [
    "class NoisyCat(Cat): # Fill me in!\n",
    "    \"\"\"A Cat that repeats things twice.\"\"\"\n",
    "    def __init__(self, name, owner, lives=9):\n",
    "        # Is this method necessary? Why or why not?\n",
    "        \"*** YOUR CODE HERE ***\"\n",
    "        super().__init__(name,owner)\n",
    "\n",
    "\n",
    "    def talk(self):\n",
    "        \"\"\"Talks twice as much as a regular cat.\n",
    "        >>> NoisyCat('Magic', 'James').talk()\n",
    "        Magic says meow!\n",
    "        Magic says meow!\n",
    "        \"\"\"\n",
    "        \"*** YOUR CODE HERE ***\"\n",
    "        #print('{0} says meow!'.format(self.name))\n",
    "        #print('{0} says meow!'.format(self.name))\n",
    "        Cat.talk(self)\n",
    "        Cat.talk(self)\n",
    "\n"
   ]
  },
  {
   "cell_type": "markdown",
   "metadata": {},
   "source": [
    "## Representation:Repr,Str"
   ]
  },
  {
   "cell_type": "code",
   "execution_count": 5,
   "metadata": {},
   "outputs": [],
   "source": [
    "class Rational:\n",
    "\n",
    "    def __init__(self, numerator, denominator):\n",
    "        self.numerator = numerator\n",
    "        self.denominator = denominator\n",
    "\n",
    "    def __str__(self):\n",
    "        return f'{self.numerator}/{self.denominator}'\n",
    "\n",
    "    def __repr__(self):\n",
    "        return f'Rational({self.numerator},{self.denominator})'"
   ]
  },
  {
   "cell_type": "code",
   "execution_count": 6,
   "metadata": {},
   "outputs": [],
   "source": [
    "a = Rational(1,2)"
   ]
  },
  {
   "cell_type": "code",
   "execution_count": 7,
   "metadata": {},
   "outputs": [
    {
     "data": {
      "text/plain": [
       "'1/2'"
      ]
     },
     "execution_count": 7,
     "metadata": {},
     "output_type": "execute_result"
    }
   ],
   "source": [
    "str(a)"
   ]
  },
  {
   "cell_type": "code",
   "execution_count": 8,
   "metadata": {},
   "outputs": [
    {
     "data": {
      "text/plain": [
       "'Rational(1,2)'"
      ]
     },
     "execution_count": 8,
     "metadata": {},
     "output_type": "execute_result"
    }
   ],
   "source": [
    "repr(a)"
   ]
  },
  {
   "cell_type": "code",
   "execution_count": 9,
   "metadata": {},
   "outputs": [
    {
     "name": "stdout",
     "output_type": "stream",
     "text": [
      "1/2\n"
     ]
    }
   ],
   "source": [
    "print(a)"
   ]
  },
  {
   "cell_type": "code",
   "execution_count": 10,
   "metadata": {},
   "outputs": [
    {
     "data": {
      "text/plain": [
       "Rational(1,2)"
      ]
     },
     "execution_count": 10,
     "metadata": {},
     "output_type": "execute_result"
    }
   ],
   "source": [
    "a"
   ]
  },
  {
   "cell_type": "code",
   "execution_count": 11,
   "metadata": {},
   "outputs": [],
   "source": [
    "s = 'hello' # Python String objects also have __repr__ and __str__ methods!"
   ]
  },
  {
   "cell_type": "code",
   "execution_count": 12,
   "metadata": {},
   "outputs": [
    {
     "data": {
      "text/plain": [
       "\"'hello'\""
      ]
     },
     "execution_count": 12,
     "metadata": {},
     "output_type": "execute_result"
    }
   ],
   "source": [
    "repr(s)"
   ]
  },
  {
   "cell_type": "code",
   "execution_count": 13,
   "metadata": {},
   "outputs": [
    {
     "data": {
      "text/plain": [
       "'hello'"
      ]
     },
     "execution_count": 13,
     "metadata": {},
     "output_type": "execute_result"
    }
   ],
   "source": [
    "s # displays the repr string with the outer layer of quotations removed"
   ]
  },
  {
   "cell_type": "code",
   "execution_count": 14,
   "metadata": {},
   "outputs": [
    {
     "data": {
      "text/plain": [
       "'hello'"
      ]
     },
     "execution_count": 14,
     "metadata": {},
     "output_type": "execute_result"
    }
   ],
   "source": [
    "str(s)"
   ]
  },
  {
   "cell_type": "code",
   "execution_count": 15,
   "metadata": {},
   "outputs": [
    {
     "name": "stdout",
     "output_type": "stream",
     "text": [
      "'hello'\n"
     ]
    }
   ],
   "source": [
    "print(repr(s)) # printing the repr string removes the outer layer of quotations"
   ]
  },
  {
   "cell_type": "code",
   "execution_count": 16,
   "metadata": {},
   "outputs": [
    {
     "name": "stdout",
     "output_type": "stream",
     "text": [
      "hello\n"
     ]
    }
   ],
   "source": [
    "print(s)"
   ]
  },
  {
   "cell_type": "markdown",
   "metadata": {},
   "source": [
    "## Q5 WWPD Repr-esentation"
   ]
  },
  {
   "cell_type": "code",
   "execution_count": 18,
   "metadata": {},
   "outputs": [],
   "source": [
    "class A:\n",
    "    def __init__(self, x):\n",
    "        self.x = x\n",
    "\n",
    "    def __repr__(self):\n",
    "         return self.x\n",
    "\n",
    "    def __str__(self):\n",
    "         return self.x * 2\n",
    "\n",
    "class B:\n",
    "    def __init__(self):\n",
    "         print('boo!')\n",
    "         self.a = []\n",
    "\n",
    "    def add_a(self, a):\n",
    "         self.a.append(a)\n",
    "\n",
    "    def __repr__(self):\n",
    "         print(len(self.a))\n",
    "         ret = ''\n",
    "         for a in self.a:\n",
    "             ret += str(a)\n",
    "         return ret"
   ]
  },
  {
   "cell_type": "code",
   "execution_count": 19,
   "metadata": {},
   "outputs": [
    {
     "data": {
      "text/plain": [
       "one"
      ]
     },
     "execution_count": 19,
     "metadata": {},
     "output_type": "execute_result"
    }
   ],
   "source": [
    "A('one')"
   ]
  },
  {
   "cell_type": "code",
   "execution_count": 20,
   "metadata": {},
   "outputs": [
    {
     "name": "stdout",
     "output_type": "stream",
     "text": [
      "oneone\n"
     ]
    }
   ],
   "source": [
    "print(A('one'))"
   ]
  },
  {
   "cell_type": "code",
   "execution_count": 21,
   "metadata": {},
   "outputs": [
    {
     "data": {
      "text/plain": [
       "'two'"
      ]
     },
     "execution_count": 21,
     "metadata": {},
     "output_type": "execute_result"
    }
   ],
   "source": [
    "repr(A('two'))"
   ]
  },
  {
   "cell_type": "code",
   "execution_count": 22,
   "metadata": {},
   "outputs": [
    {
     "name": "stdout",
     "output_type": "stream",
     "text": [
      "boo!\n"
     ]
    }
   ],
   "source": [
    "b = B()"
   ]
  },
  {
   "cell_type": "code",
   "execution_count": 23,
   "metadata": {},
   "outputs": [],
   "source": [
    "b.add_a(A('a'))"
   ]
  },
  {
   "cell_type": "code",
   "execution_count": 24,
   "metadata": {},
   "outputs": [],
   "source": [
    "b.add_a(A('b'))"
   ]
  },
  {
   "cell_type": "code",
   "execution_count": 25,
   "metadata": {},
   "outputs": [
    {
     "name": "stdout",
     "output_type": "stream",
     "text": [
      "2\n"
     ]
    },
    {
     "data": {
      "text/plain": [
       "aabb"
      ]
     },
     "execution_count": 25,
     "metadata": {},
     "output_type": "execute_result"
    }
   ],
   "source": [
    "b"
   ]
  },
  {
   "cell_type": "code",
   "execution_count": 27,
   "metadata": {},
   "outputs": [],
   "source": [
    "cat = Cat(\"felix\",\"kevin\")"
   ]
  },
  {
   "cell_type": "code",
   "execution_count": 28,
   "metadata": {},
   "outputs": [
    {
     "data": {
      "text/plain": [
       "felix, 9 lives"
      ]
     },
     "execution_count": 28,
     "metadata": {},
     "output_type": "execute_result"
    }
   ],
   "source": [
    "cat"
   ]
  },
  {
   "cell_type": "code",
   "execution_count": 29,
   "metadata": {},
   "outputs": [],
   "source": [
    "cat.lose_life()"
   ]
  },
  {
   "cell_type": "code",
   "execution_count": 30,
   "metadata": {},
   "outputs": [
    {
     "data": {
      "text/plain": [
       "felix, 8 lives"
      ]
     },
     "execution_count": 30,
     "metadata": {},
     "output_type": "execute_result"
    }
   ],
   "source": [
    "cat"
   ]
  },
  {
   "cell_type": "code",
   "execution_count": 31,
   "metadata": {},
   "outputs": [
    {
     "name": "stdout",
     "output_type": "stream",
     "text": [
      "felix\n"
     ]
    }
   ],
   "source": [
    "print(cat)"
   ]
  },
  {
   "cell_type": "markdown",
   "metadata": {},
   "source": [
    "## Discussion09 Linked Lists,Efficiency,Mutable Trees"
   ]
  },
  {
   "cell_type": "code",
   "execution_count": 1,
   "metadata": {},
   "outputs": [
    {
     "ename": "NameError",
     "evalue": "name 'link' is not defined",
     "output_type": "error",
     "traceback": [
      "\u001b[1;31m---------------------------------------------------------------------------\u001b[0m",
      "\u001b[1;31mNameError\u001b[0m                                 Traceback (most recent call last)",
      "\u001b[1;32m~\\AppData\\Local\\Temp\\ipykernel_6476\\3699492634.py\u001b[0m in \u001b[0;36m<module>\u001b[1;34m\u001b[0m\n\u001b[1;32m----> 1\u001b[1;33m \u001b[1;32mif\u001b[0m \u001b[0mlink\u001b[0m \u001b[1;32mis\u001b[0m \u001b[0mLink\u001b[0m\u001b[1;33m.\u001b[0m\u001b[0mempty\u001b[0m\u001b[1;33m:\u001b[0m\u001b[1;33m\u001b[0m\u001b[1;33m\u001b[0m\u001b[0m\n\u001b[0m\u001b[0;32m      2\u001b[0m     \u001b[0mprint\u001b[0m\u001b[1;33m(\u001b[0m\u001b[1;34m'This linked list is empty!'\u001b[0m\u001b[1;33m)\u001b[0m\u001b[1;33m\u001b[0m\u001b[1;33m\u001b[0m\u001b[0m\n\u001b[0;32m      3\u001b[0m \u001b[1;32melse\u001b[0m\u001b[1;33m:\u001b[0m\u001b[1;33m\u001b[0m\u001b[1;33m\u001b[0m\u001b[0m\n\u001b[0;32m      4\u001b[0m     \u001b[0mprint\u001b[0m\u001b[1;33m(\u001b[0m\u001b[1;34m'This linked list is not empty!'\u001b[0m\u001b[1;33m)\u001b[0m\u001b[1;33m\u001b[0m\u001b[1;33m\u001b[0m\u001b[0m\n",
      "\u001b[1;31mNameError\u001b[0m: name 'link' is not defined"
     ]
    }
   ],
   "source": [
    "if link is Link.empty:\n",
    "    print('This linked list is empty!')\n",
    "else:\n",
    "    print('This linked list is not empty!')"
   ]
  },
  {
   "cell_type": "code",
   "execution_count": 2,
   "metadata": {},
   "outputs": [],
   "source": [
    "class Link:\n",
    "    empty = ()\n",
    "    def __init__(self,first,rest=empty):\n",
    "        assert rest is Link.empty or isinstance(rest,Link)\n",
    "        self.first = first\n",
    "        self.rest =rest\n",
    "    \n",
    "    def __repr__(self):\n",
    "        if self.rest:\n",
    "            rest_repr = ', '+repr(self.rest)\n",
    "        else:\n",
    "            rest_repr = ''\n",
    "        return 'Link('+repr(self.first)+rest_repr+')'\n",
    "    \n",
    "    def __str__(self):\n",
    "        string = '<'\n",
    "        while self.rest is not Link.empty:\n",
    "            string += str(self.first)+ ' '\n",
    "            self = self.rest\n",
    "        return string + str(self.first) + '>'"
   ]
  },
  {
   "cell_type": "code",
   "execution_count": 3,
   "metadata": {},
   "outputs": [],
   "source": [
    "link = Link(1,Link(2,Link(3)))"
   ]
  },
  {
   "cell_type": "code",
   "execution_count": 4,
   "metadata": {},
   "outputs": [
    {
     "data": {
      "text/plain": [
       "1"
      ]
     },
     "execution_count": 4,
     "metadata": {},
     "output_type": "execute_result"
    }
   ],
   "source": [
    "link.first"
   ]
  },
  {
   "cell_type": "code",
   "execution_count": 5,
   "metadata": {},
   "outputs": [
    {
     "data": {
      "text/plain": [
       "2"
      ]
     },
     "execution_count": 5,
     "metadata": {},
     "output_type": "execute_result"
    }
   ],
   "source": [
    "link.rest.first"
   ]
  },
  {
   "cell_type": "code",
   "execution_count": 6,
   "metadata": {},
   "outputs": [
    {
     "data": {
      "text/plain": [
       "True"
      ]
     },
     "execution_count": 6,
     "metadata": {},
     "output_type": "execute_result"
    }
   ],
   "source": [
    "link.rest.rest.rest is Link.empty"
   ]
  },
  {
   "cell_type": "code",
   "execution_count": 7,
   "metadata": {},
   "outputs": [],
   "source": [
    "link.rest = link.rest.rest"
   ]
  },
  {
   "cell_type": "code",
   "execution_count": 8,
   "metadata": {},
   "outputs": [
    {
     "data": {
      "text/plain": [
       "3"
      ]
     },
     "execution_count": 8,
     "metadata": {},
     "output_type": "execute_result"
    }
   ],
   "source": [
    "link.rest.first"
   ]
  },
  {
   "cell_type": "code",
   "execution_count": 9,
   "metadata": {},
   "outputs": [],
   "source": [
    "link = Link(1)"
   ]
  },
  {
   "cell_type": "code",
   "execution_count": 10,
   "metadata": {},
   "outputs": [],
   "source": [
    "link.rest = link"
   ]
  },
  {
   "cell_type": "code",
   "execution_count": 11,
   "metadata": {},
   "outputs": [
    {
     "data": {
      "text/plain": [
       "1"
      ]
     },
     "execution_count": 11,
     "metadata": {},
     "output_type": "execute_result"
    }
   ],
   "source": [
    "link.rest.rest.rest.rest.first"
   ]
  },
  {
   "cell_type": "code",
   "execution_count": 12,
   "metadata": {},
   "outputs": [],
   "source": [
    "link = Link(2,Link(3,Link(4)))\n",
    "link2 = Link(1,link)"
   ]
  },
  {
   "cell_type": "code",
   "execution_count": 13,
   "metadata": {},
   "outputs": [
    {
     "data": {
      "text/plain": [
       "1"
      ]
     },
     "execution_count": 13,
     "metadata": {},
     "output_type": "execute_result"
    }
   ],
   "source": [
    "link2.first"
   ]
  },
  {
   "cell_type": "code",
   "execution_count": 14,
   "metadata": {},
   "outputs": [
    {
     "data": {
      "text/plain": [
       "2"
      ]
     },
     "execution_count": 14,
     "metadata": {},
     "output_type": "execute_result"
    }
   ],
   "source": [
    "link2.rest.first"
   ]
  },
  {
   "cell_type": "code",
   "execution_count": 15,
   "metadata": {},
   "outputs": [
    {
     "ename": "AssertionError",
     "evalue": "",
     "output_type": "error",
     "traceback": [
      "\u001b[1;31m---------------------------------------------------------------------------\u001b[0m",
      "\u001b[1;31mAssertionError\u001b[0m                            Traceback (most recent call last)",
      "\u001b[1;32m~\\AppData\\Local\\Temp\\ipykernel_6476\\3856127728.py\u001b[0m in \u001b[0;36m<module>\u001b[1;34m\u001b[0m\n\u001b[1;32m----> 1\u001b[1;33m \u001b[0mlink\u001b[0m \u001b[1;33m=\u001b[0m \u001b[0mLink\u001b[0m\u001b[1;33m(\u001b[0m\u001b[1;36m1000\u001b[0m\u001b[1;33m,\u001b[0m\u001b[1;36m2000\u001b[0m\u001b[1;33m)\u001b[0m\u001b[1;33m\u001b[0m\u001b[1;33m\u001b[0m\u001b[0m\n\u001b[0m",
      "\u001b[1;32m~\\AppData\\Local\\Temp\\ipykernel_6476\\3109656111.py\u001b[0m in \u001b[0;36m__init__\u001b[1;34m(self, first, rest)\u001b[0m\n\u001b[0;32m      2\u001b[0m     \u001b[0mempty\u001b[0m \u001b[1;33m=\u001b[0m \u001b[1;33m(\u001b[0m\u001b[1;33m)\u001b[0m\u001b[1;33m\u001b[0m\u001b[1;33m\u001b[0m\u001b[0m\n\u001b[0;32m      3\u001b[0m     \u001b[1;32mdef\u001b[0m \u001b[0m__init__\u001b[0m\u001b[1;33m(\u001b[0m\u001b[0mself\u001b[0m\u001b[1;33m,\u001b[0m\u001b[0mfirst\u001b[0m\u001b[1;33m,\u001b[0m\u001b[0mrest\u001b[0m\u001b[1;33m=\u001b[0m\u001b[0mempty\u001b[0m\u001b[1;33m)\u001b[0m\u001b[1;33m:\u001b[0m\u001b[1;33m\u001b[0m\u001b[1;33m\u001b[0m\u001b[0m\n\u001b[1;32m----> 4\u001b[1;33m         \u001b[1;32massert\u001b[0m \u001b[0mrest\u001b[0m \u001b[1;32mis\u001b[0m \u001b[0mLink\u001b[0m\u001b[1;33m.\u001b[0m\u001b[0mempty\u001b[0m \u001b[1;32mor\u001b[0m \u001b[0misinstance\u001b[0m\u001b[1;33m(\u001b[0m\u001b[0mrest\u001b[0m\u001b[1;33m,\u001b[0m\u001b[0mLink\u001b[0m\u001b[1;33m)\u001b[0m\u001b[1;33m\u001b[0m\u001b[1;33m\u001b[0m\u001b[0m\n\u001b[0m\u001b[0;32m      5\u001b[0m         \u001b[0mself\u001b[0m\u001b[1;33m.\u001b[0m\u001b[0mfirst\u001b[0m \u001b[1;33m=\u001b[0m \u001b[0mfirst\u001b[0m\u001b[1;33m\u001b[0m\u001b[1;33m\u001b[0m\u001b[0m\n\u001b[0;32m      6\u001b[0m         \u001b[0mself\u001b[0m\u001b[1;33m.\u001b[0m\u001b[0mrest\u001b[0m \u001b[1;33m=\u001b[0m\u001b[0mrest\u001b[0m\u001b[1;33m\u001b[0m\u001b[1;33m\u001b[0m\u001b[0m\n",
      "\u001b[1;31mAssertionError\u001b[0m: "
     ]
    }
   ],
   "source": [
    "link = Link(1000,2000)"
   ]
  },
  {
   "cell_type": "code",
   "execution_count": 16,
   "metadata": {},
   "outputs": [
    {
     "ename": "TypeError",
     "evalue": "__init__() missing 1 required positional argument: 'first'",
     "output_type": "error",
     "traceback": [
      "\u001b[1;31m---------------------------------------------------------------------------\u001b[0m",
      "\u001b[1;31mTypeError\u001b[0m                                 Traceback (most recent call last)",
      "\u001b[1;32m~\\AppData\\Local\\Temp\\ipykernel_6476\\2032737346.py\u001b[0m in \u001b[0;36m<module>\u001b[1;34m\u001b[0m\n\u001b[1;32m----> 1\u001b[1;33m \u001b[0mlink\u001b[0m \u001b[1;33m=\u001b[0m \u001b[0mLink\u001b[0m\u001b[1;33m(\u001b[0m\u001b[1;36m1000\u001b[0m\u001b[1;33m,\u001b[0m\u001b[0mLink\u001b[0m\u001b[1;33m(\u001b[0m\u001b[1;33m)\u001b[0m\u001b[1;33m)\u001b[0m\u001b[1;33m\u001b[0m\u001b[1;33m\u001b[0m\u001b[0m\n\u001b[0m",
      "\u001b[1;31mTypeError\u001b[0m: __init__() missing 1 required positional argument: 'first'"
     ]
    }
   ],
   "source": [
    "link = Link(1000,Link())"
   ]
  },
  {
   "cell_type": "code",
   "execution_count": 17,
   "metadata": {},
   "outputs": [],
   "source": [
    "link = Link(Link(\"Hello\"),Link(2))"
   ]
  },
  {
   "cell_type": "code",
   "execution_count": 18,
   "metadata": {},
   "outputs": [
    {
     "data": {
      "text/plain": [
       "Link('Hello')"
      ]
     },
     "execution_count": 18,
     "metadata": {},
     "output_type": "execute_result"
    }
   ],
   "source": [
    "link.first"
   ]
  },
  {
   "cell_type": "code",
   "execution_count": 19,
   "metadata": {},
   "outputs": [
    {
     "data": {
      "text/plain": [
       "True"
      ]
     },
     "execution_count": 19,
     "metadata": {},
     "output_type": "execute_result"
    }
   ],
   "source": [
    "link.first.rest is Link.empty"
   ]
  },
  {
   "cell_type": "code",
   "execution_count": 20,
   "metadata": {},
   "outputs": [],
   "source": [
    "link = Link(Link(\"Hello\"), Link(2))"
   ]
  },
  {
   "cell_type": "code",
   "execution_count": 21,
   "metadata": {},
   "outputs": [
    {
     "data": {
      "text/plain": [
       "Link(2)"
      ]
     },
     "execution_count": 21,
     "metadata": {},
     "output_type": "execute_result"
    }
   ],
   "source": [
    "link.rest"
   ]
  },
  {
   "cell_type": "code",
   "execution_count": 22,
   "metadata": {},
   "outputs": [
    {
     "data": {
      "text/plain": [
       "False"
      ]
     },
     "execution_count": 22,
     "metadata": {},
     "output_type": "execute_result"
    }
   ],
   "source": [
    "link.rest is Link.empty"
   ]
  },
  {
   "cell_type": "markdown",
   "metadata": {},
   "source": [
    "#### Q2 Convert Link"
   ]
  },
  {
   "cell_type": "code",
   "execution_count": null,
   "metadata": {},
   "outputs": [],
   "source": [
    "def convert_link(link):\n",
    "    \"\"\"Takes a linked list and returns a Python list with the same elements.\n",
    "\n",
    "    >>> link = Link(1, Link(2, Link(3, Link(4))))\n",
    "    >>> convert_link(link)\n",
    "    [1, 2, 3, 4]\n",
    "    >>> convert_link(Link.empty)\n",
    "    []\n",
    "    \"\"\"\n",
    "    \"*** YOUR CODE HERE ***\"\n",
    "    ### 迭代版本\n",
    "    result = []\n",
    "    if link == Link.empty:\n",
    "        return result\n",
    "    while link.rest is not Link.empty:\n",
    "        result.append(link.first)\n",
    "        link = link.rest\n",
    "    result.append(link.first)\n",
    "    return result\n",
    "\n",
    "    ### 递归版本\n",
    "    #if link is Link.empty:\n",
    "    #    return []\n",
    "    #\n",
    "    #if link.rest is Link.empty:\n",
    "    #    return [link.first]\n",
    "    #else:\n",
    "    #    return [link.first]+convert_link(link.rest)\n"
   ]
  },
  {
   "cell_type": "markdown",
   "metadata": {},
   "source": [
    "#### Duplicate Link 复制链表"
   ]
  },
  {
   "cell_type": "code",
   "execution_count": 23,
   "metadata": {},
   "outputs": [
    {
     "ename": "SyntaxError",
     "evalue": "unexpected EOF while parsing (1968186307.py, line 22)",
     "output_type": "error",
     "traceback": [
      "\u001b[1;36m  File \u001b[1;32m\"C:\\Users\\Yao\\AppData\\Local\\Temp\\ipykernel_6476\\1968186307.py\"\u001b[1;36m, line \u001b[1;32m22\u001b[0m\n\u001b[1;33m    \u001b[0m\n\u001b[1;37m    ^\u001b[0m\n\u001b[1;31mSyntaxError\u001b[0m\u001b[1;31m:\u001b[0m unexpected EOF while parsing\n"
     ]
    }
   ],
   "source": [
    "def duplicate_link(link,val):\n",
    "    \"\"\"Mutates `link` such that if there is a linked list\n",
    "    node that has a first equal to value, that node will\n",
    "    be duplicated. Note that you should be mutating the\n",
    "    original link list.\n",
    "\n",
    "    >>> x = Link(5, Link(4, Link(3)))\n",
    "    >>> duplicate_link(x, 5)\n",
    "    >>> x\n",
    "    Link(5, Link(5, Link(4, Link(3))))\n",
    "    >>> y = Link(2, Link(4, Link(6, Link(8))))\n",
    "    >>> duplicate_link(y, 10)\n",
    "    >>> y\n",
    "    Link(2, Link(4, Link(6, Link(8))))\n",
    "    >>> z = Link(1, Link(2, (Link(2, Link(3)))))\n",
    "    >>> duplicate_link(z, 2) #ensures that back to back links with val are both duplicated\n",
    "    >>> z\n",
    "    Link(1, Link(2, Link(2, Link(2, Link(2, Link(3))))))\n",
    "    \"\"\"\n",
    "    \"*** YOUR CODE HERE ***\"\n",
    "    while link != Link.empty:\n",
    "        if link.first==val:\n",
    "            temp=link.rest\n",
    "            link.rest= Link(val)\n",
    "            link.rest.rest= temp\n",
    "            link=link.rest.rest\n",
    "        else:\n",
    "            link=link.rest\n",
    "        \n",
    "\n"
   ]
  },
  {
   "cell_type": "markdown",
   "metadata": {},
   "source": [
    "### Multiply Links\n"
   ]
  },
  {
   "cell_type": "code",
   "execution_count": null,
   "metadata": {},
   "outputs": [],
   "source": [
    "def multiply_lnks(lst_of_lnks):\n",
    "    \"\"\"\n",
    "    >>> a = Link(2, Link(3, Link(5)))\n",
    "    >>> b = Link(6, Link(4, Link(2)))\n",
    "    >>> c = Link(4, Link(1, Link(0, Link(2))))\n",
    "    >>> p = multiply_lnks([a, b, c])\n",
    "    >>> p.first\n",
    "    48\n",
    "    >>> p.rest.first\n",
    "    12\n",
    "    >>> p.rest.rest.rest is Link.empty\n",
    "    True\n",
    "    \"\"\"\n",
    "    # Implementation Note: you might not need all lines in this skeleton code\n",
    "    product = 1\n",
    "    for lnk in lst_of_lnks:\n",
    "        if lnk is Link.empty:\n",
    "            return Link.empty\n",
    "        product *= lnk.first\n",
    "    lst_of_lnks_rests = [lnk.rest for lnk in lst_of_lnks]\n",
    "    return Link(product,multiply_lnks(lst_of_lnks_rests))\n",
    "\n"
   ]
  },
  {
   "cell_type": "markdown",
   "metadata": {},
   "source": [
    "### Flip Two"
   ]
  },
  {
   "cell_type": "code",
   "execution_count": null,
   "metadata": {},
   "outputs": [],
   "source": [
    "def flip_two(s):\n",
    "    \"\"\"\n",
    "    >>> one_lnk = Link(1)\n",
    "    >>> flip_two(one_lnk)\n",
    "    >>> one_lnk\n",
    "    Link(1)\n",
    "    >>> lnk = Link(1, Link(2, Link(3, Link(4, Link(5)))))\n",
    "    >>> flip_two(lnk)\n",
    "    >>> lnk\n",
    "    Link(2, Link(1, Link(4, Link(3, Link(5)))))\n",
    "    \"\"\"\n",
    "    \"*** YOUR CODE HERE ***\"\n",
    "\n",
    "    # For an extra challenge, try writing out an iterative approach as well below!\n",
    "    \"*** YOUR CODE HERE ***\"\n",
    "    #if s.rest is Link.empty or s is Link.empty:\n",
    "    #    return\n",
    "    \n",
    "    #s.first,s.rest.first = s.rest.first,s.first\n",
    "    #flip_two(s.rest.rest)\n",
    "\n",
    "    while s is not Link.empty:\n",
    "        if s.rest is Link.empty:\n",
    "            break\n",
    "        s.first,s.rest.first = s.rest.first,s.first\n",
    "        s = s.rest.rest\n",
    "\n",
    "\n",
    "\n",
    "\n",
    "\n"
   ]
  },
  {
   "cell_type": "markdown",
   "metadata": {},
   "source": [
    "### Find Paths"
   ]
  },
  {
   "cell_type": "code",
   "execution_count": null,
   "metadata": {},
   "outputs": [],
   "source": [
    "def find_paths(t, entry):\n",
    "    \"\"\"\n",
    "    >>> tree_ex = Tree(2, [Tree(7, [Tree(3), Tree(6, [Tree(5), Tree(11)])]), Tree(1, [Tree(5)])])\n",
    "    >>> find_paths(tree_ex, 5)\n",
    "    [[2, 7, 6, 5], [2, 1, 5]]\n",
    "    >>> find_paths(tree_ex, 12)\n",
    "    []\n",
    "    \"\"\"\n",
    "\n",
    "    paths = []\n",
    "    if t.label == entry:\n",
    "        paths.append(t.label)\n",
    "    for b in t.branches:\n",
    "        for path in find_paths(b,entry):\n",
    "            paths.append([t.label]+path)\n",
    "    return paths\n",
    "\n"
   ]
  },
  {
   "cell_type": "markdown",
   "metadata": {},
   "source": [
    "# Disc13"
   ]
  },
  {
   "cell_type": "markdown",
   "metadata": {},
   "source": [
    "## Q1 Paths Lists"
   ]
  },
  {
   "cell_type": "code",
   "execution_count": null,
   "metadata": {},
   "outputs": [],
   "source": [
    "def paths(x, y):\n",
    "    \"\"\"Return a list of ways to reach y from x by repeated\n",
    "    incrementing or doubling.\n",
    "    >>> paths(3, 5)\n",
    "    [[3, 4, 5]]\n",
    "    >>> sorted(paths(3, 6))\n",
    "    [[3, 4, 5, 6], [3, 6]]\n",
    "    >>> sorted(paths(3, 9))\n",
    "    [[3, 4, 5, 6, 7, 8, 9], [3, 4, 8, 9], [3, 6, 7, 8, 9]]\n",
    "    >>> paths(3, 3) # No calls is a valid path\n",
    "    [[3]]\n",
    "    >>> paths(5, 3) # There is no valid path from x to y\n",
    "    []\n",
    "    \"\"\"\n",
    "    if x>y:\n",
    "        return []\n",
    "    elif x==y:\n",
    "        return [[y]]\n",
    "    else:\n",
    "        a = paths(x+1,y)\n",
    "        b = paths(2*x,y)\n",
    "        return [[x] +path for path in a+b]\n"
   ]
  },
  {
   "cell_type": "markdown",
   "metadata": {},
   "source": [
    "## Q2: Reverse lst\n"
   ]
  },
  {
   "cell_type": "code",
   "execution_count": null,
   "metadata": {},
   "outputs": [],
   "source": [
    "def reverse(lst):\n",
    "    \"\"\"Reverses lst using mutation.\n",
    "\n",
    "    >>> original_list = [5, -1, 29, 0]\n",
    "    >>> reverse(original_list)\n",
    "    >>> original_list\n",
    "    [0, 29, -1, 5]\n",
    "    >>> odd_list = [42, 72, -8]\n",
    "    >>> reverse(odd_list)\n",
    "    >>> odd_list\n",
    "    [-8, 72, 42]\n",
    "    \"\"\"\n",
    "    \"*** YOUR CODE HERE ***\"\n",
    "    lst[:] = lst[::-1]\n",
    "\n",
    "    # iterative solution\n",
    "    #midpoint = len(lst) // 2\n",
    "    #last = len(lst) - 1\n",
    "    #for i in range(midpoint):\n",
    "    #    lst[i], lst[last - i] = lst[last - i], lst[i]\n",
    "\n",
    "\n",
    "    #if len(lst) > 1:\n",
    "    #    temp = lst.pop()\n",
    "    #    reverse(lst)\n",
    "    #    lst.insert(0, temp)\n",
    "\n",
    "\n",
    "    #midpoint = len(lst) // 2\n",
    "    #last = len(lst) - 1\n",
    "    #def helper(i):\n",
    "    #    if i == midpoint:\n",
    "    #        return\n",
    "    #    lst[i], lst[last - i] = lst[last - i], lst[i]\n",
    "    #    helper(i + 1)\n",
    "    #helper(0)\n",
    "    \n"
   ]
  },
  {
   "cell_type": "markdown",
   "metadata": {},
   "source": [
    "## Q3 widset_level"
   ]
  },
  {
   "cell_type": "code",
   "execution_count": null,
   "metadata": {},
   "outputs": [],
   "source": [
    "def widest_level(t):\n",
    "    \"\"\"\n",
    "    >>> sum([[1], [2]], [])\n",
    "    [1, 2]\n",
    "    >>> t = Tree(3, [Tree(1, [Tree(1), Tree(5)]),\n",
    "    ...              Tree(4, [Tree(9, [Tree(2)])])])\n",
    "    >>> widest_level(t)\n",
    "    [1, 5, 9]\n",
    "    \"\"\"\n",
    "    levels = []\n",
    "    x = [t]\n",
    "    while _____________:\n",
    "         _____________\n",
    "         levels = sum([1 for b in t.branches], [])\n",
    "    return max(levels, key=_________________________________)\n",
    "\n"
   ]
  }
 ],
 "metadata": {
  "kernelspec": {
   "display_name": "meachinelearning",
   "language": "python",
   "name": "python3"
  },
  "language_info": {
   "codemirror_mode": {
    "name": "ipython",
    "version": 3
   },
   "file_extension": ".py",
   "mimetype": "text/x-python",
   "name": "python",
   "nbconvert_exporter": "python",
   "pygments_lexer": "ipython3",
   "version": "3.9.13"
  },
  "orig_nbformat": 4
 },
 "nbformat": 4,
 "nbformat_minor": 2
}
