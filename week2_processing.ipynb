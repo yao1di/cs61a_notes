{
 "cells": [
  {
   "cell_type": "code",
   "execution_count": 1,
   "metadata": {},
   "outputs": [
    {
     "data": {
      "text/plain": [
       "12"
      ]
     },
     "execution_count": 1,
     "metadata": {},
     "output_type": "execute_result"
    }
   ],
   "source": [
    "from operator import mul\n",
    "mul(3,4)"
   ]
  },
  {
   "cell_type": "code",
   "execution_count": 2,
   "metadata": {},
   "outputs": [],
   "source": [
    "def square(square):\n",
    "    return mul(square,square)"
   ]
  },
  {
   "cell_type": "code",
   "execution_count": 3,
   "metadata": {},
   "outputs": [
    {
     "data": {
      "text/plain": [
       "<function __main__.square(square)>"
      ]
     },
     "execution_count": 3,
     "metadata": {},
     "output_type": "execute_result"
    }
   ],
   "source": [
    "square"
   ]
  },
  {
   "cell_type": "code",
   "execution_count": 4,
   "metadata": {},
   "outputs": [
    {
     "data": {
      "text/plain": [
       "16"
      ]
     },
     "execution_count": 4,
     "metadata": {},
     "output_type": "execute_result"
    }
   ],
   "source": [
    "square(4)"
   ]
  },
  {
   "cell_type": "code",
   "execution_count": 5,
   "metadata": {},
   "outputs": [],
   "source": [
    "a =1\n",
    "b =2 \n",
    "b,a = a+b,b"
   ]
  },
  {
   "cell_type": "code",
   "execution_count": 6,
   "metadata": {},
   "outputs": [
    {
     "data": {
      "text/plain": [
       "(3, 2)"
      ]
     },
     "execution_count": 6,
     "metadata": {},
     "output_type": "execute_result"
    }
   ],
   "source": [
    "b,a"
   ]
  },
  {
   "cell_type": "code",
   "execution_count": 7,
   "metadata": {},
   "outputs": [
    {
     "data": {
      "text/plain": [
       "201.3"
      ]
     },
     "execution_count": 7,
     "metadata": {},
     "output_type": "execute_result"
    }
   ],
   "source": [
    "from operator import truediv,floordiv\n",
    "truediv(2013,10)"
   ]
  },
  {
   "cell_type": "code",
   "execution_count": 8,
   "metadata": {},
   "outputs": [
    {
     "data": {
      "text/plain": [
       "201"
      ]
     },
     "execution_count": 8,
     "metadata": {},
     "output_type": "execute_result"
    }
   ],
   "source": [
    "floordiv(2013,10)"
   ]
  },
  {
   "cell_type": "code",
   "execution_count": 9,
   "metadata": {},
   "outputs": [
    {
     "data": {
      "text/plain": [
       "3"
      ]
     },
     "execution_count": 9,
     "metadata": {},
     "output_type": "execute_result"
    }
   ],
   "source": [
    "from operator import mod\n",
    "mod(2013,10)"
   ]
  },
  {
   "cell_type": "code",
   "execution_count": 10,
   "metadata": {},
   "outputs": [
    {
     "data": {
      "text/plain": [
       "1.6666666666666667"
      ]
     },
     "execution_count": 10,
     "metadata": {},
     "output_type": "execute_result"
    }
   ],
   "source": [
    "5/3\n"
   ]
  },
  {
   "cell_type": "code",
   "execution_count": 11,
   "metadata": {},
   "outputs": [
    {
     "data": {
      "text/plain": [
       "1"
      ]
     },
     "execution_count": 11,
     "metadata": {},
     "output_type": "execute_result"
    }
   ],
   "source": [
    "5//3"
   ]
  },
  {
   "cell_type": "code",
   "execution_count": 12,
   "metadata": {},
   "outputs": [],
   "source": [
    "def divide_exacct(n,d):\n",
    "    return n//d,n%d\n"
   ]
  },
  {
   "cell_type": "code",
   "execution_count": 13,
   "metadata": {},
   "outputs": [],
   "source": [
    "quotient,remainder = divide_exacct(2013,10)"
   ]
  },
  {
   "cell_type": "code",
   "execution_count": 15,
   "metadata": {},
   "outputs": [
    {
     "data": {
      "text/plain": [
       "201"
      ]
     },
     "execution_count": 15,
     "metadata": {},
     "output_type": "execute_result"
    }
   ],
   "source": [
    "quotient\n"
   ]
  },
  {
   "cell_type": "code",
   "execution_count": 16,
   "metadata": {},
   "outputs": [
    {
     "data": {
      "text/plain": [
       "3"
      ]
     },
     "execution_count": 16,
     "metadata": {},
     "output_type": "execute_result"
    }
   ],
   "source": [
    "remainder"
   ]
  },
  {
   "cell_type": "code",
   "execution_count": 19,
   "metadata": {},
   "outputs": [],
   "source": [
    "def pressure(v,t,n=6.022e23):\n",
    "    \"\"\"\n",
    "    Compute the pressure in pascals of an ideal gas.\n",
    "\n",
    "        Applies the ideal gas law: http://en.wikipedia.org/wiki/Ideal_gas_law\n",
    "\n",
    "        v -- volume of gas, in cubic meters\n",
    "        t -- absolute temperature in degrees kelvin\n",
    "        n -- particles of gas\n",
    "    \"\"\"\n",
    "    k = 1.38e-23\n",
    "    return n*k*t/v"
   ]
  },
  {
   "cell_type": "code",
   "execution_count": 20,
   "metadata": {},
   "outputs": [
    {
     "name": "stdout",
     "output_type": "stream",
     "text": [
      "Help on function pressure in module __main__:\n",
      "\n",
      "pressure(v, t, n=6.022e+23)\n",
      "    Compute the pressure in pascals of an ideal gas.\n",
      "    \n",
      "        Applies the ideal gas law: http://en.wikipedia.org/wiki/Ideal_gas_law\n",
      "    \n",
      "        v -- volume of gas, in cubic meters\n",
      "        t -- absolute temperature in degrees kelvin\n",
      "        n -- particles of gas\n",
      "\n"
     ]
    }
   ],
   "source": [
    "help(pressure)"
   ]
  },
  {
   "cell_type": "code",
   "execution_count": 21,
   "metadata": {},
   "outputs": [],
   "source": [
    "def absolute_value(x):\n",
    "    if x<0:\n",
    "        return -x\n",
    "    elif x==0:\n",
    "        return 0\n",
    "    else:\n",
    "        return x"
   ]
  },
  {
   "cell_type": "code",
   "execution_count": 22,
   "metadata": {},
   "outputs": [
    {
     "data": {
      "text/plain": [
       "0"
      ]
     },
     "execution_count": 22,
     "metadata": {},
     "output_type": "execute_result"
    }
   ],
   "source": [
    "absolute_value(0)"
   ]
  },
  {
   "cell_type": "code",
   "execution_count": 23,
   "metadata": {},
   "outputs": [
    {
     "data": {
      "text/plain": [
       "2"
      ]
     },
     "execution_count": 23,
     "metadata": {},
     "output_type": "execute_result"
    }
   ],
   "source": [
    "absolute_value(-2)\n"
   ]
  },
  {
   "cell_type": "code",
   "execution_count": 24,
   "metadata": {},
   "outputs": [
    {
     "data": {
      "text/plain": [
       "2"
      ]
     },
     "execution_count": 24,
     "metadata": {},
     "output_type": "execute_result"
    }
   ],
   "source": [
    "absolute_value(2)"
   ]
  },
  {
   "cell_type": "code",
   "execution_count": 25,
   "metadata": {},
   "outputs": [],
   "source": [
    "def fib(n):\n",
    "    \n",
    "    pred,curr = 0,1\n",
    "    k =2 \n",
    "    while k<n:\n",
    "        pred,curr = curr,pred+curr\n",
    "        k +=1\n",
    "    return curr"
   ]
  },
  {
   "cell_type": "code",
   "execution_count": 26,
   "metadata": {},
   "outputs": [],
   "source": [
    "result = fib(8)"
   ]
  },
  {
   "cell_type": "code",
   "execution_count": 27,
   "metadata": {},
   "outputs": [
    {
     "data": {
      "text/plain": [
       "13"
      ]
     },
     "execution_count": 27,
     "metadata": {},
     "output_type": "execute_result"
    }
   ],
   "source": [
    "result"
   ]
  },
  {
   "cell_type": "code",
   "execution_count": 30,
   "metadata": {},
   "outputs": [
    {
     "ename": "AssertionError",
     "evalue": "the 8th fib number is 13",
     "output_type": "error",
     "traceback": [
      "\u001b[1;31m---------------------------------------------------------------------------\u001b[0m",
      "\u001b[1;31mAssertionError\u001b[0m                            Traceback (most recent call last)",
      "\u001b[1;32me:\\收藏夹\\cs61a\\week1\\lab00\\lab00\\week2_processing.ipynb 单元格 25\u001b[0m in \u001b[0;36m<cell line: 1>\u001b[1;34m()\u001b[0m\n\u001b[1;32m----> <a href='vscode-notebook-cell:/e%3A/%E6%94%B6%E8%97%8F%E5%A4%B9/cs61a/week1/lab00/lab00/week2_processing.ipynb#X34sZmlsZQ%3D%3D?line=0'>1</a>\u001b[0m \u001b[39massert\u001b[39;00m fib(\u001b[39m8\u001b[39m)\u001b[39m==\u001b[39m\u001b[39m12\u001b[39m ,\u001b[39m'\u001b[39m\u001b[39mthe 8th fib number is 13\u001b[39m\u001b[39m'\u001b[39m\n",
      "\u001b[1;31mAssertionError\u001b[0m: the 8th fib number is 13"
     ]
    }
   ],
   "source": [
    "assert fib(8)==12 ,'the 8th fib number is 13'"
   ]
  },
  {
   "cell_type": "code",
   "execution_count": 31,
   "metadata": {},
   "outputs": [],
   "source": [
    "def fib_test():\n",
    "    assert fib(2)==1,'The 2nd fib number is 1.'\n",
    "    assert fib(3)==1,'The 3rd fib number is 1.'\n",
    "    assert fib(50)==7778742049,'error at the 50th fib number'"
   ]
  },
  {
   "cell_type": "code",
   "execution_count": 32,
   "metadata": {},
   "outputs": [],
   "source": [
    "fib_test()"
   ]
  },
  {
   "cell_type": "code",
   "execution_count": 33,
   "metadata": {},
   "outputs": [],
   "source": [
    "def sum_naturals(n):\n",
    "    \"\"\"返回前n个自然数的和\n",
    "\n",
    "    >>> sum_naturals(50)\n",
    "    55\n",
    "    >>> sum_naturals(100)\n",
    "    5050\n",
    "    \"\"\"\n",
    "    total,k = 0,1\n",
    "    while k<=n:\n",
    "        total,k = total+k,k+1\n",
    "    return total"
   ]
  },
  {
   "cell_type": "code",
   "execution_count": 34,
   "metadata": {},
   "outputs": [
    {
     "name": "stdout",
     "output_type": "stream",
     "text": [
      "**********************************************************************\n",
      "File \"__main__\", line 4, in __main__.sum_naturals\n",
      "Failed example:\n",
      "    sum_naturals(50)\n",
      "Expected:\n",
      "    55\n",
      "Got:\n",
      "    1275\n",
      "**********************************************************************\n",
      "1 items had failures:\n",
      "   1 of   2 in __main__.sum_naturals\n",
      "***Test Failed*** 1 failures.\n"
     ]
    },
    {
     "data": {
      "text/plain": [
       "TestResults(failed=1, attempted=2)"
      ]
     },
     "execution_count": 34,
     "metadata": {},
     "output_type": "execute_result"
    }
   ],
   "source": [
    "from doctest import testmod\n",
    "testmod()"
   ]
  },
  {
   "cell_type": "code",
   "execution_count": 36,
   "metadata": {},
   "outputs": [
    {
     "name": "stdout",
     "output_type": "stream",
     "text": [
      "Finding tests in NoName\n",
      "Trying:\n",
      "    sum_naturals(50)\n",
      "Expecting:\n",
      "    55\n",
      "**********************************************************************\n",
      "File \"__main__\", line 4, in NoName\n",
      "Failed example:\n",
      "    sum_naturals(50)\n",
      "Expected:\n",
      "    55\n",
      "Got:\n",
      "    1275\n",
      "Trying:\n",
      "    sum_naturals(100)\n",
      "Expecting:\n",
      "    5050\n",
      "ok\n"
     ]
    }
   ],
   "source": [
    "from doctest import run_docstring_examples\n",
    "run_docstring_examples(sum_naturals,globals(),True)"
   ]
  },
  {
   "cell_type": "code",
   "execution_count": 39,
   "metadata": {},
   "outputs": [],
   "source": [
    "def special_case():\n",
    "    x = 10\n",
    "    if x > 0:\n",
    "        x += 2   #12\n",
    "    if x < 13: \n",
    "        x += 3\n",
    "    if x % 2 == 1:\n",
    "        x += 4\n",
    "    return x"
   ]
  },
  {
   "cell_type": "code",
   "execution_count": 40,
   "metadata": {},
   "outputs": [
    {
     "data": {
      "text/plain": [
       "19"
      ]
     },
     "execution_count": 40,
     "metadata": {},
     "output_type": "execute_result"
    }
   ],
   "source": [
    "special_case()"
   ]
  },
  {
   "cell_type": "code",
   "execution_count": 41,
   "metadata": {},
   "outputs": [],
   "source": [
    "def case_in_point():\n",
    "    x = 10\n",
    "    if x > 0:\n",
    "        return x + 2\n",
    "    if x < 13:\n",
    "        return x + 3\n",
    "    if x % 2 == 1:\n",
    "        return x + 4\n",
    "    return x"
   ]
  },
  {
   "cell_type": "code",
   "execution_count": 42,
   "metadata": {},
   "outputs": [
    {
     "data": {
      "text/plain": [
       "12"
      ]
     },
     "execution_count": 42,
     "metadata": {},
     "output_type": "execute_result"
    }
   ],
   "source": [
    "case_in_point()"
   ]
  },
  {
   "cell_type": "code",
   "execution_count": null,
   "metadata": {},
   "outputs": [],
   "source": [
    "def square(x):\n",
    "    print(\"here!\")\n",
    "    return x * x\n",
    "\n",
    "def so_slow(num):\n",
    "    x = num # 5\n",
    "    while x > 0:# \n",
    "        x = x + 1 #6\n",
    "    return x / 0\n",
    "\n",
    "square(so_slow(5))"
   ]
  },
  {
   "attachments": {},
   "cell_type": "markdown",
   "metadata": {},
   "source": [
    "## Disc 01\n",
    "### Q1:Case Conundrum"
   ]
  },
  {
   "cell_type": "code",
   "execution_count": null,
   "metadata": {},
   "outputs": [],
   "source": [
    "12\n",
    "19\n",
    "12"
   ]
  },
  {
   "attachments": {},
   "cell_type": "markdown",
   "metadata": {},
   "source": [
    "### Q2 Jacket Weather?"
   ]
  },
  {
   "cell_type": "code",
   "execution_count": null,
   "metadata": {},
   "outputs": [],
   "source": [
    "def wears_jacket_with_if(temp, raining):\n",
    "    \"\"\"\n",
    "    >>> wears_jacket_with_if(90, False)\n",
    "    False\n",
    "    >>> wears_jacket_with_if(40, False)\n",
    "    True\n",
    "    >>> wears_jacket_with_if(100, True)\n",
    "    True\n",
    "    \"\"\"\n",
    "    \"*** YOUR CODE HERE ***\"\n",
    "    if temp<60 or raining:\n",
    "        return True\n",
    "    else:\n",
    "        return False\n",
    "   "
   ]
  },
  {
   "attachments": {},
   "cell_type": "markdown",
   "metadata": {},
   "source": [
    "### Q3 Square So Slow"
   ]
  },
  {
   "cell_type": "code",
   "execution_count": null,
   "metadata": {},
   "outputs": [],
   "source": [
    "#死循环"
   ]
  },
  {
   "attachments": {},
   "cell_type": "markdown",
   "metadata": {},
   "source": [
    "### Is Prime?"
   ]
  },
  {
   "cell_type": "code",
   "execution_count": null,
   "metadata": {},
   "outputs": [],
   "source": [
    "def is_prime(n):\n",
    "    \"\"\"\n",
    "    >>> is_prime(10)\n",
    "    False\n",
    "    >>> is_prime(7)\n",
    "    True\n",
    "    >>> is_prime(1) # one is not a prime number!!\n",
    "    False\n",
    "    \"\"\"\n",
    "    \"*** YOUR CODE HERE ***\"\n",
    "    x = n-1\n",
    "    while x>1:\n",
    "        if n%x==0:\n",
    "            return False\n",
    "        x-=1\n",
    "    return True\n"
   ]
  },
  {
   "attachments": {},
   "cell_type": "markdown",
   "metadata": {},
   "source": [
    "### Q5: Fizzbuzz"
   ]
  },
  {
   "cell_type": "code",
   "execution_count": null,
   "metadata": {},
   "outputs": [],
   "source": [
    "def fizzbuzz(n):\n",
    "    \"\"\"\n",
    "    >>> result = fizzbuzz(16)\n",
    "    1\n",
    "    2\n",
    "    fizz\n",
    "    4\n",
    "    buzz\n",
    "    fizz\n",
    "    7\n",
    "    8\n",
    "    fizz\n",
    "    buzz\n",
    "    11\n",
    "    fizz\n",
    "    13\n",
    "    14\n",
    "    fizzbuzz\n",
    "    16\n",
    "    >>> result is None  # No return value\n",
    "    True\n",
    "    \"\"\"\n",
    "    \"*** YOUR CODE HERE ***\"\n",
    "    x = 1\n",
    "    while x<=n:\n",
    "        if x%3==0 and x%5==0:\n",
    "            print('fizzbuzz')\n",
    "        elif x%3==0:\n",
    "            print('fizz')\n",
    "        elif x%5 ==0:\n",
    "            print('buzz')\n",
    "        else:\n",
    "            print(x)\n",
    "        x +=1\n",
    "\n"
   ]
  },
  {
   "attachments": {},
   "cell_type": "markdown",
   "metadata": {},
   "source": [
    "### Q6: Unique Digits"
   ]
  },
  {
   "cell_type": "code",
   "execution_count": null,
   "metadata": {},
   "outputs": [],
   "source": [
    "def unique_digits(n):\n",
    "    \"\"\"Return the number of unique digits in positive integer n.\n",
    "\n",
    "    >>> unique_digits(8675309) # All are unique\n",
    "    7\n",
    "    >>> unique_digits(1313131) # 1 and 3\n",
    "    2\n",
    "    >>> unique_digits(13173131) # 1, 3, and 7\n",
    "    3\n",
    "    >>> unique_digits(10000) # 0 and 1\n",
    "    2\n",
    "    >>> unique_digits(101) # 0 and 1\n",
    "    2\n",
    "    >>> unique_digits(10) # 0 and 1\n",
    "    2\n",
    "    \"\"\"\n",
    "    \"*** YOUR CODE HERE ***\"\n",
    "    #temp = n\n",
    "   # k = 0\n",
    "  #  unique = 0\n",
    "  #  while temp//10 != 0:\n",
    "   #     digits[k] = temp%10\n",
    "   #     if has_digit(temp,10):\n",
    "    #        temp = temp //10\n",
    "  #         digits[k]=0\n",
    "    #    else:\n",
    "    #        temp = temp//10\n",
    "          #  digits[k]=temp%10\n",
    "   #     k+=1\n",
    "   # for i in range(len(digits)):\n",
    "   #     for digit in digits:\n",
    "    #        if digits[i] == digit:\n",
    "               # unique += 1\n",
    "    #            break\n",
    "    unique = 0\n",
    "    while n>0:\n",
    "        last = n%10\n",
    "        n = n//10\n",
    "        if not has_digit(n,last):\n",
    "            unique +=1\n",
    "    return unique\n",
    "        \n",
    "\n",
    "\n",
    "def has_digit(n, k):\n",
    "    \"\"\"Returns whether K is a digit in N.\n",
    "    >>> has_digit(10, 1)\n",
    "    True\n",
    "    >>> has_digit(12, 7)\n",
    "    False\n",
    "    \"\"\"\n",
    "    \"*** YOUR CODE HERE ***\"\n",
    "    while n>0:\n",
    "        last = n%10\n",
    "        n = n//10\n",
    "        if last==k:\n",
    "            return True\n",
    "        \n",
    "    return False\n",
    "\n",
    "\n"
   ]
  },
  {
   "attachments": {},
   "cell_type": "markdown",
   "metadata": {},
   "source": [
    "## CH1.6 Higher-Order Functions\n"
   ]
  },
  {
   "cell_type": "code",
   "execution_count": 6,
   "metadata": {},
   "outputs": [],
   "source": [
    "\"\"\"Generalization\"\"\"\n",
    "\n",
    "from math import pi,sqrt\n",
    "\n",
    "def area(r,shape_constant):\n",
    "    assert r >0 ,'A length must be positive'\n",
    "    return r*r*shape_constant\n",
    "\n",
    "def area_square(r):\n",
    "    return area(r,1)\n",
    "\n",
    "def area_cicle(r):\n",
    "    \n",
    "    return area(r,pi)\n",
    "\n",
    "def area_hexagon(r):\n",
    "    return area(r,3*sqrt(3)/2)"
   ]
  },
  {
   "cell_type": "code",
   "execution_count": 2,
   "metadata": {},
   "outputs": [
    {
     "data": {
      "text/plain": [
       "259.8076211353316"
      ]
     },
     "execution_count": 2,
     "metadata": {},
     "output_type": "execute_result"
    }
   ],
   "source": [
    "area_hexagon(10)"
   ]
  },
  {
   "cell_type": "code",
   "execution_count": 7,
   "metadata": {},
   "outputs": [
    {
     "ename": "AssertionError",
     "evalue": "A length must be positive",
     "output_type": "error",
     "traceback": [
      "\u001b[1;31m---------------------------------------------------------------------------\u001b[0m",
      "\u001b[1;31mAssertionError\u001b[0m                            Traceback (most recent call last)",
      "\u001b[1;32me:\\收藏夹\\cs61a\\week1\\lab00\\lab00\\week2_processing.ipynb 单元格 51\u001b[0m in \u001b[0;36m<cell line: 1>\u001b[1;34m()\u001b[0m\n\u001b[1;32m----> <a href='vscode-notebook-cell:/e%3A/%E6%94%B6%E8%97%8F%E5%A4%B9/cs61a/week1/lab00/lab00/week2_processing.ipynb#Y101sZmlsZQ%3D%3D?line=0'>1</a>\u001b[0m area_hexagon(\u001b[39m-\u001b[39;49m\u001b[39m10\u001b[39;49m)\n",
      "\u001b[1;32me:\\收藏夹\\cs61a\\week1\\lab00\\lab00\\week2_processing.ipynb 单元格 51\u001b[0m in \u001b[0;36marea_hexagon\u001b[1;34m(r)\u001b[0m\n\u001b[0;32m     <a href='vscode-notebook-cell:/e%3A/%E6%94%B6%E8%97%8F%E5%A4%B9/cs61a/week1/lab00/lab00/week2_processing.ipynb#Y101sZmlsZQ%3D%3D?line=15'>16</a>\u001b[0m \u001b[39mdef\u001b[39;00m \u001b[39marea_hexagon\u001b[39m(r):\n\u001b[1;32m---> <a href='vscode-notebook-cell:/e%3A/%E6%94%B6%E8%97%8F%E5%A4%B9/cs61a/week1/lab00/lab00/week2_processing.ipynb#Y101sZmlsZQ%3D%3D?line=16'>17</a>\u001b[0m     \u001b[39mreturn\u001b[39;00m area(r,\u001b[39m3\u001b[39;49m\u001b[39m*\u001b[39;49msqrt(\u001b[39m3\u001b[39;49m)\u001b[39m/\u001b[39;49m\u001b[39m2\u001b[39;49m)\n",
      "\u001b[1;32me:\\收藏夹\\cs61a\\week1\\lab00\\lab00\\week2_processing.ipynb 单元格 51\u001b[0m in \u001b[0;36marea\u001b[1;34m(r, shape_constant)\u001b[0m\n\u001b[0;32m      <a href='vscode-notebook-cell:/e%3A/%E6%94%B6%E8%97%8F%E5%A4%B9/cs61a/week1/lab00/lab00/week2_processing.ipynb#Y101sZmlsZQ%3D%3D?line=4'>5</a>\u001b[0m \u001b[39mdef\u001b[39;00m \u001b[39marea\u001b[39m(r,shape_constant):\n\u001b[1;32m----> <a href='vscode-notebook-cell:/e%3A/%E6%94%B6%E8%97%8F%E5%A4%B9/cs61a/week1/lab00/lab00/week2_processing.ipynb#Y101sZmlsZQ%3D%3D?line=5'>6</a>\u001b[0m     \u001b[39massert\u001b[39;00m r \u001b[39m>\u001b[39m\u001b[39m0\u001b[39m ,\u001b[39m'\u001b[39m\u001b[39mA length must be positive\u001b[39m\u001b[39m'\u001b[39m\n\u001b[0;32m      <a href='vscode-notebook-cell:/e%3A/%E6%94%B6%E8%97%8F%E5%A4%B9/cs61a/week1/lab00/lab00/week2_processing.ipynb#Y101sZmlsZQ%3D%3D?line=6'>7</a>\u001b[0m     \u001b[39mreturn\u001b[39;00m r\u001b[39m*\u001b[39mr\u001b[39m*\u001b[39mshape_constant\n",
      "\u001b[1;31mAssertionError\u001b[0m: A length must be positive"
     ]
    }
   ],
   "source": [
    "area_hexagon(-10)\n"
   ]
  },
  {
   "cell_type": "code",
   "execution_count": 4,
   "metadata": {},
   "outputs": [],
   "source": [
    "assert 3>2, 'math is broken'"
   ]
  },
  {
   "cell_type": "code",
   "execution_count": 5,
   "metadata": {},
   "outputs": [
    {
     "ename": "AssertionError",
     "evalue": "math is broken",
     "output_type": "error",
     "traceback": [
      "\u001b[1;31m---------------------------------------------------------------------------\u001b[0m",
      "\u001b[1;31mAssertionError\u001b[0m                            Traceback (most recent call last)",
      "\u001b[1;32me:\\收藏夹\\cs61a\\week1\\lab00\\lab00\\week2_processing.ipynb 单元格 53\u001b[0m in \u001b[0;36m<cell line: 1>\u001b[1;34m()\u001b[0m\n\u001b[1;32m----> <a href='vscode-notebook-cell:/e%3A/%E6%94%B6%E8%97%8F%E5%A4%B9/cs61a/week1/lab00/lab00/week2_processing.ipynb#Y103sZmlsZQ%3D%3D?line=0'>1</a>\u001b[0m \u001b[39massert\u001b[39;00m \u001b[39m2\u001b[39m\u001b[39m>\u001b[39m\u001b[39m3\u001b[39m, \u001b[39m'\u001b[39m\u001b[39mmath is broken\u001b[39m\u001b[39m'\u001b[39m\n",
      "\u001b[1;31mAssertionError\u001b[0m: math is broken"
     ]
    }
   ],
   "source": [
    "assert 2>3, 'math is broken'\n"
   ]
  },
  {
   "cell_type": "code",
   "execution_count": 15,
   "metadata": {},
   "outputs": [],
   "source": [
    "\"\"\"Generalization\"\"\"\n",
    "def identity(k):\n",
    "    return k\n",
    "def cube(k):\n",
    "    return pow(k,3)\n",
    "def summation(n,term):\n",
    "    total , k = 0,1\n",
    "    while k<=n:\n",
    "        total,k = total + term(k),k+1\n",
    "    return total\n",
    "\n",
    "def sum_naturals(n):\n",
    "    \"\"\" 前n个自然数的和\n",
    "    >>> sum_naturals(5)\n",
    "    15\n",
    "    \"\"\"\n",
    "    return summation(n,identity)\n",
    "def sum_cubes(n):\n",
    "    return summation(n,cube)"
   ]
  },
  {
   "cell_type": "code",
   "execution_count": 14,
   "metadata": {},
   "outputs": [
    {
     "data": {
      "text/plain": [
       "225"
      ]
     },
     "execution_count": 14,
     "metadata": {},
     "output_type": "execute_result"
    }
   ],
   "source": [
    "summation(5,cube)"
   ]
  },
  {
   "cell_type": "code",
   "execution_count": 16,
   "metadata": {},
   "outputs": [
    {
     "data": {
      "text/plain": [
       "15"
      ]
     },
     "execution_count": 16,
     "metadata": {},
     "output_type": "execute_result"
    }
   ],
   "source": [
    "sum_naturals(5)"
   ]
  },
  {
   "cell_type": "code",
   "execution_count": 17,
   "metadata": {},
   "outputs": [
    {
     "data": {
      "text/plain": [
       "225"
      ]
     },
     "execution_count": 17,
     "metadata": {},
     "output_type": "execute_result"
    }
   ],
   "source": [
    "sum_cubes(5)"
   ]
  },
  {
   "cell_type": "code",
   "execution_count": 9,
   "metadata": {},
   "outputs": [],
   "source": [
    "def square_root(a):\n",
    "    x = 1\n",
    "    while x*x != a:\n",
    "        print(x)\n",
    "        x = square_root_update(x,a)\n",
    "    return x\n",
    "\n",
    "def square_root_update(x,a):\n",
    "    return (x+a/x)/2"
   ]
  },
  {
   "cell_type": "code",
   "execution_count": 6,
   "metadata": {},
   "outputs": [
    {
     "name": "stdout",
     "output_type": "stream",
     "text": [
      "1\n",
      "2.5\n",
      "2.05\n",
      "2.000609756097561\n",
      "2.0000000929222947\n",
      "2.000000000000002\n"
     ]
    },
    {
     "data": {
      "text/plain": [
       "2.0"
      ]
     },
     "execution_count": 6,
     "metadata": {},
     "output_type": "execute_result"
    }
   ],
   "source": [
    "square_root(4)"
   ]
  },
  {
   "cell_type": "code",
   "execution_count": 7,
   "metadata": {},
   "outputs": [
    {
     "name": "stdout",
     "output_type": "stream",
     "text": [
      "1\n",
      "8.5\n",
      "5.1911764705882355\n",
      "4.136664722546242\n",
      "4.002257524798522\n",
      "4.000000636692939\n",
      "4.000000000000051\n"
     ]
    },
    {
     "data": {
      "text/plain": [
       "4.0"
      ]
     },
     "execution_count": 7,
     "metadata": {},
     "output_type": "execute_result"
    }
   ],
   "source": [
    "square_root(16)\n"
   ]
  },
  {
   "cell_type": "code",
   "execution_count": 8,
   "metadata": {},
   "outputs": [
    {
     "name": "stdout",
     "output_type": "stream",
     "text": [
      "1\n",
      "8.5\n",
      "5.1911764705882355\n",
      "4.136664722546242\n",
      "4.002257524798522\n",
      "4.000000636692939\n",
      "4.000000000000051\n"
     ]
    },
    {
     "data": {
      "text/plain": [
       "4.0"
      ]
     },
     "execution_count": 8,
     "metadata": {},
     "output_type": "execute_result"
    }
   ],
   "source": [
    "square_root(16)\n"
   ]
  },
  {
   "cell_type": "code",
   "execution_count": 23,
   "metadata": {},
   "outputs": [],
   "source": [
    "def cube_root(a):\n",
    "    x=1\n",
    "    while x*x*x != a:\n",
    "        x = cube_root_update(x,a)\n",
    "    return x\n",
    "\n",
    "def cube_root_update(x,a):\n",
    "    return (2*x+a/(x*x))/3\n",
    "\n",
    "\n",
    "def improve(update,close,guess=1,max_update =100):\n",
    "    k = 0\n",
    "    while not close(guess) and k<max_update:\n",
    "        guess = update(guess)\n",
    "    return guess\n",
    "\n",
    "def approx_eq(x,y,tol = 1e-15):\n",
    "    return abs(x-y) <tol\n",
    "\n",
    "def square_root(a):\n",
    "    def update(x):\n",
    "        return square_root_update(x,a)\n",
    "    def close(x):\n",
    "        return approx_eq(x*x,a)\n",
    "    return improve(update,close)\n",
    "\n",
    "def cube_root(a):\n",
    "    return improve(lambda x: cube_root_update(x,a),\n",
    "                   lambda x: approx_eq(x*x*x,a))"
   ]
  },
  {
   "cell_type": "code",
   "execution_count": 11,
   "metadata": {},
   "outputs": [
    {
     "data": {
      "text/plain": [
       "3.0"
      ]
     },
     "execution_count": 11,
     "metadata": {},
     "output_type": "execute_result"
    }
   ],
   "source": [
    "cube_root(27)"
   ]
  },
  {
   "cell_type": "code",
   "execution_count": 12,
   "metadata": {},
   "outputs": [
    {
     "data": {
      "text/plain": [
       "9.0"
      ]
     },
     "execution_count": 12,
     "metadata": {},
     "output_type": "execute_result"
    }
   ],
   "source": [
    "cube_root(729)\n"
   ]
  },
  {
   "cell_type": "code",
   "execution_count": 13,
   "metadata": {},
   "outputs": [
    {
     "ename": "KeyboardInterrupt",
     "evalue": "",
     "output_type": "error",
     "traceback": [
      "\u001b[1;31m---------------------------------------------------------------------------\u001b[0m",
      "\u001b[1;31mKeyboardInterrupt\u001b[0m                         Traceback (most recent call last)",
      "\u001b[1;32me:\\收藏夹\\cs61a\\week1\\lab00\\lab00\\week2_processing.ipynb 单元格 66\u001b[0m in \u001b[0;36m<cell line: 1>\u001b[1;34m()\u001b[0m\n\u001b[1;32m----> <a href='vscode-notebook-cell:/e%3A/%E6%94%B6%E8%97%8F%E5%A4%B9/cs61a/week1/lab00/lab00/week2_processing.ipynb#Y122sZmlsZQ%3D%3D?line=0'>1</a>\u001b[0m cube_root(\u001b[39m4\u001b[39;49m)\n",
      "\u001b[1;32me:\\收藏夹\\cs61a\\week1\\lab00\\lab00\\week2_processing.ipynb 单元格 66\u001b[0m in \u001b[0;36mcube_root\u001b[1;34m(a)\u001b[0m\n\u001b[0;32m      <a href='vscode-notebook-cell:/e%3A/%E6%94%B6%E8%97%8F%E5%A4%B9/cs61a/week1/lab00/lab00/week2_processing.ipynb#Y122sZmlsZQ%3D%3D?line=1'>2</a>\u001b[0m x\u001b[39m=\u001b[39m\u001b[39m1\u001b[39m\n\u001b[0;32m      <a href='vscode-notebook-cell:/e%3A/%E6%94%B6%E8%97%8F%E5%A4%B9/cs61a/week1/lab00/lab00/week2_processing.ipynb#Y122sZmlsZQ%3D%3D?line=2'>3</a>\u001b[0m \u001b[39mwhile\u001b[39;00m x\u001b[39m*\u001b[39mx\u001b[39m*\u001b[39mx \u001b[39m!=\u001b[39m a:\n\u001b[1;32m----> <a href='vscode-notebook-cell:/e%3A/%E6%94%B6%E8%97%8F%E5%A4%B9/cs61a/week1/lab00/lab00/week2_processing.ipynb#Y122sZmlsZQ%3D%3D?line=3'>4</a>\u001b[0m     x \u001b[39m=\u001b[39m cube_root_update(x,a)\n\u001b[0;32m      <a href='vscode-notebook-cell:/e%3A/%E6%94%B6%E8%97%8F%E5%A4%B9/cs61a/week1/lab00/lab00/week2_processing.ipynb#Y122sZmlsZQ%3D%3D?line=4'>5</a>\u001b[0m \u001b[39mreturn\u001b[39;00m x\n",
      "\u001b[1;32me:\\收藏夹\\cs61a\\week1\\lab00\\lab00\\week2_processing.ipynb 单元格 66\u001b[0m in \u001b[0;36mcube_root_update\u001b[1;34m(x, a)\u001b[0m\n\u001b[0;32m      <a href='vscode-notebook-cell:/e%3A/%E6%94%B6%E8%97%8F%E5%A4%B9/cs61a/week1/lab00/lab00/week2_processing.ipynb#Y122sZmlsZQ%3D%3D?line=6'>7</a>\u001b[0m \u001b[39mdef\u001b[39;00m \u001b[39mcube_root_update\u001b[39m(x,a):\n\u001b[1;32m----> <a href='vscode-notebook-cell:/e%3A/%E6%94%B6%E8%97%8F%E5%A4%B9/cs61a/week1/lab00/lab00/week2_processing.ipynb#Y122sZmlsZQ%3D%3D?line=7'>8</a>\u001b[0m     \u001b[39mreturn\u001b[39;00m (\u001b[39m2\u001b[39m\u001b[39m*\u001b[39mx\u001b[39m+\u001b[39ma\u001b[39m/\u001b[39;49m(x\u001b[39m*\u001b[39;49mx))\u001b[39m/\u001b[39m\u001b[39m3\u001b[39m\n",
      "\u001b[1;31mKeyboardInterrupt\u001b[0m: "
     ]
    }
   ],
   "source": [
    "cube_root(4)"
   ]
  },
  {
   "cell_type": "code",
   "execution_count": 7,
   "metadata": {},
   "outputs": [
    {
     "data": {
      "text/plain": [
       "True"
      ]
     },
     "execution_count": 7,
     "metadata": {},
     "output_type": "execute_result"
    }
   ],
   "source": [
    "approx_eq(2,2.00000000000000000001)"
   ]
  },
  {
   "cell_type": "code",
   "execution_count": 13,
   "metadata": {},
   "outputs": [
    {
     "data": {
      "text/plain": [
       "2.0"
      ]
     },
     "execution_count": 13,
     "metadata": {},
     "output_type": "execute_result"
    }
   ],
   "source": [
    "square_root(4)"
   ]
  },
  {
   "cell_type": "code",
   "execution_count": 14,
   "metadata": {},
   "outputs": [
    {
     "data": {
      "text/plain": [
       "4.0"
      ]
     },
     "execution_count": 14,
     "metadata": {},
     "output_type": "execute_result"
    }
   ],
   "source": [
    "square_root(16)"
   ]
  },
  {
   "cell_type": "code",
   "execution_count": 15,
   "metadata": {},
   "outputs": [
    {
     "data": {
      "text/plain": [
       "1.414213562373095"
      ]
     },
     "execution_count": 15,
     "metadata": {},
     "output_type": "execute_result"
    }
   ],
   "source": [
    "square_root(2)"
   ]
  },
  {
   "cell_type": "code",
   "execution_count": 16,
   "metadata": {},
   "outputs": [
    {
     "data": {
      "text/plain": [
       "True"
      ]
     },
     "execution_count": 16,
     "metadata": {},
     "output_type": "execute_result"
    }
   ],
   "source": [
    "approx_eq(2,1.414213562373095*1.414213562373095)"
   ]
  },
  {
   "cell_type": "code",
   "execution_count": 20,
   "metadata": {},
   "outputs": [
    {
     "data": {
      "text/plain": [
       "3.0"
      ]
     },
     "execution_count": 20,
     "metadata": {},
     "output_type": "execute_result"
    }
   ],
   "source": [
    "cube_root(27)"
   ]
  },
  {
   "cell_type": "code",
   "execution_count": 21,
   "metadata": {},
   "outputs": [
    {
     "data": {
      "text/plain": [
       "1.5874010519681994"
      ]
     },
     "execution_count": 21,
     "metadata": {},
     "output_type": "execute_result"
    }
   ],
   "source": [
    "cube_root(4)"
   ]
  },
  {
   "cell_type": "code",
   "execution_count": 25,
   "metadata": {},
   "outputs": [],
   "source": [
    "def improve(update,close,guess=1):\n",
    "    while not close(guess):\n",
    "        guess = update(guess)\n",
    "    \n",
    "    return guess\n",
    "\n",
    "def golden_update(guess):\n",
    "    return 1/guess+1\n",
    "\n",
    "def square_close_to_successor(guess):\n",
    "    return approx_eq(guess*guess,guess+1)\n",
    "\n",
    "def approx_eq(x,y,tol=1e-3):\n",
    "    return abs(x-y)<tol\n",
    "\n"
   ]
  },
  {
   "cell_type": "code",
   "execution_count": 26,
   "metadata": {},
   "outputs": [
    {
     "data": {
      "text/plain": [
       "1.6180339887498951"
      ]
     },
     "execution_count": 26,
     "metadata": {},
     "output_type": "execute_result"
    }
   ],
   "source": [
    "improve(golden_update,square_close_to_successor)"
   ]
  },
  {
   "cell_type": "code",
   "execution_count": 27,
   "metadata": {},
   "outputs": [],
   "source": [
    "from math import sqrt\n",
    "phi = 1/2+sqrt(5)/2\n",
    "def improve_test():\n",
    "    approx_phi = improve(golden_update,square_close_to_successor)\n",
    "    assert approx_eq(phi,approx_phi), 'phi 不同于他的估计值'"
   ]
  },
  {
   "cell_type": "code",
   "execution_count": 28,
   "metadata": {},
   "outputs": [],
   "source": [
    "improve_test()"
   ]
  },
  {
   "cell_type": "code",
   "execution_count": 29,
   "metadata": {},
   "outputs": [],
   "source": [
    "def averge(x,y):\n",
    "    return (x+y)/2\n",
    "\n",
    "def sqrt_update(x,a):\n",
    "    return averge(x,a/x)"
   ]
  },
  {
   "cell_type": "code",
   "execution_count": 30,
   "metadata": {},
   "outputs": [],
   "source": [
    "def sqrt(a):\n",
    "    def sqrt_update(x):\n",
    "        return averge(x,a/x)\n",
    "    def sqrt_close(x):\n",
    "        return approx_eq(x*x,a)\n",
    "    return improve(sqrt_update,sqrt_close)"
   ]
  },
  {
   "cell_type": "code",
   "execution_count": 31,
   "metadata": {},
   "outputs": [],
   "source": [
    "def square(x):\n",
    "    return x*x\n",
    "\n",
    "def successor(x):\n",
    "    return x+1\n",
    "\n",
    "\n",
    "def composel(f,g):\n",
    "    def h(x):\n",
    "        return f(g(x))\n",
    "    return h\n",
    "\n",
    "\n",
    "def f(x):\n",
    "    return -x"
   ]
  },
  {
   "cell_type": "code",
   "execution_count": 32,
   "metadata": {},
   "outputs": [],
   "source": [
    "square_succesor = composel(square,successor)\n",
    "result = square_succesor(12)"
   ]
  },
  {
   "cell_type": "code",
   "execution_count": 33,
   "metadata": {},
   "outputs": [
    {
     "data": {
      "text/plain": [
       "169"
      ]
     },
     "execution_count": 33,
     "metadata": {},
     "output_type": "execute_result"
    }
   ],
   "source": [
    "result"
   ]
  },
  {
   "cell_type": "code",
   "execution_count": 34,
   "metadata": {},
   "outputs": [
    {
     "data": {
      "text/plain": [
       "169"
      ]
     },
     "execution_count": 34,
     "metadata": {},
     "output_type": "execute_result"
    }
   ],
   "source": [
    "composel(square,successor)(12)"
   ]
  },
  {
   "cell_type": "code",
   "execution_count": 35,
   "metadata": {},
   "outputs": [],
   "source": [
    "f = lambda x:x*x-2\n",
    "df = lambda x:2*x\n"
   ]
  },
  {
   "cell_type": "code",
   "execution_count": 39,
   "metadata": {},
   "outputs": [
    {
     "data": {
      "text/plain": [
       "1.4142135623730951"
      ]
     },
     "execution_count": 39,
     "metadata": {},
     "output_type": "execute_result"
    }
   ],
   "source": [
    "find_zero(f,df)"
   ]
  },
  {
   "cell_type": "code",
   "execution_count": 37,
   "metadata": {},
   "outputs": [],
   "source": [
    "def newton_update(f,df):\n",
    "    def update(x):\n",
    "        return x - f(x)/df(x)\n",
    "    return update\n"
   ]
  },
  {
   "cell_type": "code",
   "execution_count": 38,
   "metadata": {},
   "outputs": [],
   "source": [
    "def find_zero(f,df):\n",
    "    def near_zero(x):\n",
    "        return approx_eq(f(x),0)\n",
    "    return improve(newton_update(f,df),near_zero)"
   ]
  },
  {
   "cell_type": "code",
   "execution_count": 40,
   "metadata": {},
   "outputs": [],
   "source": [
    "def square_root_newton(a):\n",
    "    def f(x):\n",
    "        return x*x-a\n",
    "    def df(x):\n",
    "        return 2*x\n",
    "    \n",
    "    return find_zero(f,df)"
   ]
  },
  {
   "cell_type": "code",
   "execution_count": 41,
   "metadata": {},
   "outputs": [
    {
     "data": {
      "text/plain": [
       "8.0"
      ]
     },
     "execution_count": 41,
     "metadata": {},
     "output_type": "execute_result"
    }
   ],
   "source": [
    "square_root_newton(64)"
   ]
  },
  {
   "cell_type": "code",
   "execution_count": 42,
   "metadata": {},
   "outputs": [],
   "source": [
    "def power(x,n):\n",
    "    product,k =1,0\n",
    "    while k<n:\n",
    "        product,k = product*x,k+1\n",
    "    return product\n",
    "\n",
    "def nth_root_of_a(n,a):\n",
    "    def f(x):\n",
    "        return power(x,n)-a\n",
    "    def df(x):\n",
    "        return n*power(x,n-1)\n",
    "    return find_zero(f,df)"
   ]
  },
  {
   "cell_type": "code",
   "execution_count": 43,
   "metadata": {},
   "outputs": [
    {
     "data": {
      "text/plain": [
       "8.0"
      ]
     },
     "execution_count": 43,
     "metadata": {},
     "output_type": "execute_result"
    }
   ],
   "source": [
    "nth_root_of_a(2,64)"
   ]
  },
  {
   "cell_type": "code",
   "execution_count": 44,
   "metadata": {},
   "outputs": [
    {
     "data": {
      "text/plain": [
       "4.0"
      ]
     },
     "execution_count": 44,
     "metadata": {},
     "output_type": "execute_result"
    }
   ],
   "source": [
    "nth_root_of_a(3,64)\n"
   ]
  },
  {
   "cell_type": "code",
   "execution_count": 45,
   "metadata": {},
   "outputs": [
    {
     "data": {
      "text/plain": [
       "2.0"
      ]
     },
     "execution_count": 45,
     "metadata": {},
     "output_type": "execute_result"
    }
   ],
   "source": [
    "nth_root_of_a(6,64)\n"
   ]
  },
  {
   "cell_type": "code",
   "execution_count": 54,
   "metadata": {},
   "outputs": [],
   "source": [
    "def curried_pow(x):\n",
    "    def h(y):\n",
    "        return pow(x,y)\n",
    "    return h"
   ]
  },
  {
   "cell_type": "code",
   "execution_count": 55,
   "metadata": {},
   "outputs": [
    {
     "data": {
      "text/plain": [
       "8"
      ]
     },
     "execution_count": 55,
     "metadata": {},
     "output_type": "execute_result"
    }
   ],
   "source": [
    "curried_pow(2)(3)"
   ]
  },
  {
   "cell_type": "code",
   "execution_count": 56,
   "metadata": {},
   "outputs": [],
   "source": [
    "def map_to_eange(start,end,f):\n",
    "    while start<end:\n",
    "        print(f(start))\n",
    "        start += 1"
   ]
  },
  {
   "cell_type": "code",
   "execution_count": 57,
   "metadata": {},
   "outputs": [
    {
     "name": "stdout",
     "output_type": "stream",
     "text": [
      "1\n",
      "2\n",
      "4\n",
      "8\n",
      "16\n",
      "32\n",
      "64\n",
      "128\n",
      "256\n",
      "512\n"
     ]
    }
   ],
   "source": [
    "map_to_eange(0,10,curried_pow(2))"
   ]
  },
  {
   "cell_type": "code",
   "execution_count": 46,
   "metadata": {},
   "outputs": [],
   "source": [
    "def curry2(f):\n",
    "    def g(x):\n",
    "        def h(y):\n",
    "            return f(x,y)\n",
    "        return h\n",
    "    return g"
   ]
  },
  {
   "cell_type": "code",
   "execution_count": 58,
   "metadata": {},
   "outputs": [],
   "source": [
    "def uncurry2(g):\n",
    "    def f(x,y):\n",
    "        return g(x)(y)\n",
    "    return f"
   ]
  },
  {
   "cell_type": "code",
   "execution_count": 59,
   "metadata": {},
   "outputs": [],
   "source": [
    "pow_curried = curry2(pow)"
   ]
  },
  {
   "cell_type": "code",
   "execution_count": 60,
   "metadata": {},
   "outputs": [
    {
     "data": {
      "text/plain": [
       "32"
      ]
     },
     "execution_count": 60,
     "metadata": {},
     "output_type": "execute_result"
    }
   ],
   "source": [
    "pow_curried(2)(5)"
   ]
  },
  {
   "cell_type": "code",
   "execution_count": 61,
   "metadata": {},
   "outputs": [
    {
     "name": "stdout",
     "output_type": "stream",
     "text": [
      "1\n",
      "2\n",
      "4\n",
      "8\n",
      "16\n",
      "32\n",
      "64\n",
      "128\n",
      "256\n",
      "512\n"
     ]
    }
   ],
   "source": [
    "map_to_eange(0,10,pow_curried(2))"
   ]
  },
  {
   "cell_type": "code",
   "execution_count": 62,
   "metadata": {},
   "outputs": [
    {
     "data": {
      "text/plain": [
       "32"
      ]
     },
     "execution_count": 62,
     "metadata": {},
     "output_type": "execute_result"
    }
   ],
   "source": [
    "uncurry2(pow_curried)(2,5)"
   ]
  },
  {
   "cell_type": "code",
   "execution_count": 47,
   "metadata": {},
   "outputs": [],
   "source": [
    "from operator import add\n",
    "m = curry2(add)"
   ]
  },
  {
   "cell_type": "code",
   "execution_count": 48,
   "metadata": {},
   "outputs": [],
   "source": [
    "add_three = m(3)"
   ]
  },
  {
   "cell_type": "code",
   "execution_count": 50,
   "metadata": {},
   "outputs": [
    {
     "data": {
      "text/plain": [
       "2013"
      ]
     },
     "execution_count": 50,
     "metadata": {},
     "output_type": "execute_result"
    }
   ],
   "source": [
    "add_three(2010)"
   ]
  },
  {
   "cell_type": "code",
   "execution_count": 51,
   "metadata": {},
   "outputs": [],
   "source": [
    "curry2 = lambda f: lambda x: lambda y: f(x,y)"
   ]
  },
  {
   "cell_type": "code",
   "execution_count": 52,
   "metadata": {},
   "outputs": [],
   "source": [
    "m = curry2(add)"
   ]
  },
  {
   "cell_type": "code",
   "execution_count": 53,
   "metadata": {},
   "outputs": [
    {
     "data": {
      "text/plain": [
       "5"
      ]
     },
     "execution_count": 53,
     "metadata": {},
     "output_type": "execute_result"
    }
   ],
   "source": [
    "m(2)(3)"
   ]
  },
  {
   "cell_type": "code",
   "execution_count": 63,
   "metadata": {},
   "outputs": [],
   "source": [
    "square = lambda x:x*x"
   ]
  },
  {
   "cell_type": "code",
   "execution_count": 64,
   "metadata": {},
   "outputs": [
    {
     "data": {
      "text/plain": [
       "9"
      ]
     },
     "execution_count": 64,
     "metadata": {},
     "output_type": "execute_result"
    }
   ],
   "source": [
    "square(3)"
   ]
  },
  {
   "cell_type": "code",
   "execution_count": 65,
   "metadata": {},
   "outputs": [
    {
     "data": {
      "text/plain": [
       "25"
      ]
     },
     "execution_count": 65,
     "metadata": {},
     "output_type": "execute_result"
    }
   ],
   "source": [
    "square(5)\n"
   ]
  },
  {
   "cell_type": "code",
   "execution_count": 66,
   "metadata": {},
   "outputs": [
    {
     "data": {
      "text/plain": [
       "9"
      ]
     },
     "execution_count": 66,
     "metadata": {},
     "output_type": "execute_result"
    }
   ],
   "source": [
    "(lambda x:x*x)(3)"
   ]
  },
  {
   "cell_type": "code",
   "execution_count": 67,
   "metadata": {},
   "outputs": [
    {
     "data": {
      "text/plain": [
       "<function __main__.<lambda>(x)>"
      ]
     },
     "execution_count": 67,
     "metadata": {},
     "output_type": "execute_result"
    }
   ],
   "source": [
    "square"
   ]
  },
  {
   "cell_type": "code",
   "execution_count": 68,
   "metadata": {},
   "outputs": [],
   "source": [
    "def square(x):\n",
    "    return x*x"
   ]
  },
  {
   "cell_type": "code",
   "execution_count": 69,
   "metadata": {},
   "outputs": [
    {
     "data": {
      "text/plain": [
       "<function __main__.square(x)>"
      ]
     },
     "execution_count": 69,
     "metadata": {},
     "output_type": "execute_result"
    }
   ],
   "source": [
    "square"
   ]
  },
  {
   "cell_type": "code",
   "execution_count": 4,
   "metadata": {},
   "outputs": [],
   "source": [
    "def trace(fn):\n",
    "    def wrapped(x):\n",
    "        print('->',fn,'(',x,')')\n",
    "        return fn(x)\n",
    "    return wrapped\n",
    "\n",
    "@trace\n",
    "def tripe(x):\n",
    "    return x*x\n",
    "\n",
    "@trace\n",
    "def sum_squares_up_to(n):\n",
    "    k,total=1,0\n",
    "    while k<=n:\n",
    "        total,k =total+tripe(k),k+1\n",
    "    return total\n"
   ]
  },
  {
   "cell_type": "code",
   "execution_count": 5,
   "metadata": {},
   "outputs": [
    {
     "name": "stdout",
     "output_type": "stream",
     "text": [
      "-> <function tripe at 0x0000020902B6A3A8> ( 12 )\n"
     ]
    },
    {
     "data": {
      "text/plain": [
       "144"
      ]
     },
     "execution_count": 5,
     "metadata": {},
     "output_type": "execute_result"
    }
   ],
   "source": [
    "tripe(12)"
   ]
  },
  {
   "cell_type": "code",
   "execution_count": 6,
   "metadata": {},
   "outputs": [
    {
     "name": "stdout",
     "output_type": "stream",
     "text": [
      "-> <function sum_squares_up_to at 0x0000020902B6A5E8> ( 5 )\n",
      "-> <function tripe at 0x0000020902B6A3A8> ( 1 )\n",
      "-> <function tripe at 0x0000020902B6A3A8> ( 2 )\n",
      "-> <function tripe at 0x0000020902B6A3A8> ( 3 )\n",
      "-> <function tripe at 0x0000020902B6A3A8> ( 4 )\n",
      "-> <function tripe at 0x0000020902B6A3A8> ( 5 )\n"
     ]
    },
    {
     "data": {
      "text/plain": [
       "55"
      ]
     },
     "execution_count": 6,
     "metadata": {},
     "output_type": "execute_result"
    }
   ],
   "source": [
    "sum_squares_up_to(5)"
   ]
  },
  {
   "cell_type": "code",
   "execution_count": null,
   "metadata": {},
   "outputs": [],
   "source": []
  }
 ],
 "metadata": {
  "kernelspec": {
   "display_name": "pytorch",
   "language": "python",
   "name": "python3"
  },
  "language_info": {
   "codemirror_mode": {
    "name": "ipython",
    "version": 3
   },
   "file_extension": ".py",
   "mimetype": "text/x-python",
   "name": "python",
   "nbconvert_exporter": "python",
   "pygments_lexer": "ipython3",
   "version": "3.7.6"
  },
  "orig_nbformat": 4
 },
 "nbformat": 4,
 "nbformat_minor": 2
}
