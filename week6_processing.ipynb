{
 "cells": [
  {
   "cell_type": "code",
   "execution_count": 14,
   "metadata": {},
   "outputs": [],
   "source": [
    "def tree(label,branches=[]):\n",
    "    for branch in branches:\n",
    "        assert is_tree(branch),'branches must be tree'\n",
    "    return [label]+list(branches)\n",
    "\n",
    "def label(tree):\n",
    "    return tree[0]\n",
    "\n",
    "def branches(tree):\n",
    "    return tree[1:]\n",
    "\n",
    "def is_tree(tree):\n",
    "    if type(tree)!=list or len(tree)<1:\n",
    "        return False\n",
    "    for branch in branches(tree):\n",
    "        if not is_tree(branch):\n",
    "            return False\n",
    "    return True\n",
    "\n",
    "def is_leaf(tree):\n",
    "    return not branches(tree)\n",
    "\n",
    "def fib_tree(n):\n",
    "    if n<=1:\n",
    "        return tree(n)\n",
    "    else:\n",
    "        left,right = fib_tree(n-2),fib_tree(n-1)\n",
    "        return tree(label(left)+label(right),[left,right])"
   ]
  },
  {
   "cell_type": "code",
   "execution_count": 4,
   "metadata": {},
   "outputs": [
    {
     "data": {
      "text/plain": [
       "[1]"
      ]
     },
     "execution_count": 4,
     "metadata": {},
     "output_type": "execute_result"
    }
   ],
   "source": [
    "tree(1)"
   ]
  },
  {
   "cell_type": "code",
   "execution_count": 5,
   "metadata": {},
   "outputs": [
    {
     "data": {
      "text/plain": [
       "True"
      ]
     },
     "execution_count": 5,
     "metadata": {},
     "output_type": "execute_result"
    }
   ],
   "source": [
    "is_leaf(tree(1))"
   ]
  },
  {
   "cell_type": "code",
   "execution_count": 6,
   "metadata": {},
   "outputs": [
    {
     "ename": "AssertionError",
     "evalue": "branches ",
     "output_type": "error",
     "traceback": [
      "\u001b[1;31m---------------------------------------------------------------------------\u001b[0m",
      "\u001b[1;31mAssertionError\u001b[0m                            Traceback (most recent call last)",
      "\u001b[1;32me:\\收藏夹\\cs61a\\week1\\week6_processing.ipynb 单元格 4\u001b[0m in \u001b[0;36m<cell line: 1>\u001b[1;34m()\u001b[0m\n\u001b[1;32m----> <a href='vscode-notebook-cell:/e%3A/%E6%94%B6%E8%97%8F%E5%A4%B9/cs61a/week1/week6_processing.ipynb#W3sZmlsZQ%3D%3D?line=0'>1</a>\u001b[0m tree(\u001b[39m1\u001b[39;49m,[\u001b[39m5\u001b[39;49m])\n",
      "\u001b[1;32me:\\收藏夹\\cs61a\\week1\\week6_processing.ipynb 单元格 4\u001b[0m in \u001b[0;36mtree\u001b[1;34m(label, branches)\u001b[0m\n\u001b[0;32m      <a href='vscode-notebook-cell:/e%3A/%E6%94%B6%E8%97%8F%E5%A4%B9/cs61a/week1/week6_processing.ipynb#W3sZmlsZQ%3D%3D?line=0'>1</a>\u001b[0m \u001b[39mdef\u001b[39;00m \u001b[39mtree\u001b[39m(label,branches\u001b[39m=\u001b[39m[]):\n\u001b[0;32m      <a href='vscode-notebook-cell:/e%3A/%E6%94%B6%E8%97%8F%E5%A4%B9/cs61a/week1/week6_processing.ipynb#W3sZmlsZQ%3D%3D?line=1'>2</a>\u001b[0m     \u001b[39mfor\u001b[39;00m branch \u001b[39min\u001b[39;00m branches:\n\u001b[1;32m----> <a href='vscode-notebook-cell:/e%3A/%E6%94%B6%E8%97%8F%E5%A4%B9/cs61a/week1/week6_processing.ipynb#W3sZmlsZQ%3D%3D?line=2'>3</a>\u001b[0m         \u001b[39massert\u001b[39;00m is_tree(branch),\u001b[39m'\u001b[39m\u001b[39mbranches \u001b[39m\u001b[39m'\u001b[39m\n\u001b[0;32m      <a href='vscode-notebook-cell:/e%3A/%E6%94%B6%E8%97%8F%E5%A4%B9/cs61a/week1/week6_processing.ipynb#W3sZmlsZQ%3D%3D?line=3'>4</a>\u001b[0m     \u001b[39mreturn\u001b[39;00m [label]\u001b[39m+\u001b[39m\u001b[39mlist\u001b[39m(branches)\n",
      "\u001b[1;31mAssertionError\u001b[0m: branches "
     ]
    }
   ],
   "source": [
    "tree(1,[5])\n"
   ]
  },
  {
   "cell_type": "code",
   "execution_count": 7,
   "metadata": {},
   "outputs": [
    {
     "data": {
      "text/plain": [
       "[1, [5, [7]]]"
      ]
     },
     "execution_count": 7,
     "metadata": {},
     "output_type": "execute_result"
    }
   ],
   "source": [
    "tree(1,[tree(5,[tree(7)])])"
   ]
  },
  {
   "cell_type": "code",
   "execution_count": 8,
   "metadata": {},
   "outputs": [],
   "source": [
    "t = tree(1,[tree(5,[tree(7)]),tree(6)])"
   ]
  },
  {
   "cell_type": "code",
   "execution_count": 9,
   "metadata": {},
   "outputs": [
    {
     "data": {
      "text/plain": [
       "[1, [5, [7]], [6]]"
      ]
     },
     "execution_count": 9,
     "metadata": {},
     "output_type": "execute_result"
    }
   ],
   "source": [
    "t\n"
   ]
  },
  {
   "cell_type": "code",
   "execution_count": 10,
   "metadata": {},
   "outputs": [
    {
     "data": {
      "text/plain": [
       "1"
      ]
     },
     "execution_count": 10,
     "metadata": {},
     "output_type": "execute_result"
    }
   ],
   "source": [
    "label(t)"
   ]
  },
  {
   "cell_type": "code",
   "execution_count": 11,
   "metadata": {},
   "outputs": [
    {
     "data": {
      "text/plain": [
       "[[5, [7]], [6]]"
      ]
     },
     "execution_count": 11,
     "metadata": {},
     "output_type": "execute_result"
    }
   ],
   "source": [
    "branches(t)"
   ]
  },
  {
   "cell_type": "code",
   "execution_count": 12,
   "metadata": {},
   "outputs": [
    {
     "data": {
      "text/plain": [
       "[5, [7]]"
      ]
     },
     "execution_count": 12,
     "metadata": {},
     "output_type": "execute_result"
    }
   ],
   "source": [
    "branches(t)[0]"
   ]
  },
  {
   "cell_type": "code",
   "execution_count": 13,
   "metadata": {},
   "outputs": [
    {
     "data": {
      "text/plain": [
       "True"
      ]
     },
     "execution_count": 13,
     "metadata": {},
     "output_type": "execute_result"
    }
   ],
   "source": [
    "is_tree(branches(t)[0])"
   ]
  },
  {
   "cell_type": "code",
   "execution_count": 15,
   "metadata": {},
   "outputs": [
    {
     "data": {
      "text/plain": [
       "[1]"
      ]
     },
     "execution_count": 15,
     "metadata": {},
     "output_type": "execute_result"
    }
   ],
   "source": [
    "fib_tree(1)"
   ]
  },
  {
   "cell_type": "code",
   "execution_count": 16,
   "metadata": {},
   "outputs": [
    {
     "data": {
      "text/plain": [
       "[0]"
      ]
     },
     "execution_count": 16,
     "metadata": {},
     "output_type": "execute_result"
    }
   ],
   "source": [
    "fib_tree(0)"
   ]
  },
  {
   "cell_type": "code",
   "execution_count": 17,
   "metadata": {},
   "outputs": [
    {
     "data": {
      "text/plain": [
       "[3, [1, [0], [1]], [2, [1], [1, [0], [1]]]]"
      ]
     },
     "execution_count": 17,
     "metadata": {},
     "output_type": "execute_result"
    }
   ],
   "source": [
    "fib_tree(4)"
   ]
  },
  {
   "cell_type": "code",
   "execution_count": 18,
   "metadata": {},
   "outputs": [
    {
     "data": {
      "text/plain": [
       "[1, [0], [1]]"
      ]
     },
     "execution_count": 18,
     "metadata": {},
     "output_type": "execute_result"
    }
   ],
   "source": [
    "fib_tree(2)"
   ]
  },
  {
   "cell_type": "code",
   "execution_count": 19,
   "metadata": {},
   "outputs": [],
   "source": [
    "def count_leaves(t):\n",
    "    if is_leaf(t):\n",
    "        return 1\n",
    "    else:\n",
    "        return sum([count_leaves(b) for b in branches(t)])"
   ]
  },
  {
   "cell_type": "code",
   "execution_count": 20,
   "metadata": {},
   "outputs": [
    {
     "data": {
      "text/plain": [
       "5"
      ]
     },
     "execution_count": 20,
     "metadata": {},
     "output_type": "execute_result"
    }
   ],
   "source": [
    "count_leaves(fib_tree(4))"
   ]
  },
  {
   "cell_type": "code",
   "execution_count": 21,
   "metadata": {},
   "outputs": [
    {
     "data": {
      "text/plain": [
       "[55,\n",
       " [21,\n",
       "  [8,\n",
       "   [3, [1, [0], [1]], [2, [1], [1, [0], [1]]]],\n",
       "   [5, [2, [1], [1, [0], [1]]], [3, [1, [0], [1]], [2, [1], [1, [0], [1]]]]]],\n",
       "  [13,\n",
       "   [5, [2, [1], [1, [0], [1]]], [3, [1, [0], [1]], [2, [1], [1, [0], [1]]]]],\n",
       "   [8,\n",
       "    [3, [1, [0], [1]], [2, [1], [1, [0], [1]]]],\n",
       "    [5,\n",
       "     [2, [1], [1, [0], [1]]],\n",
       "     [3, [1, [0], [1]], [2, [1], [1, [0], [1]]]]]]]],\n",
       " [34,\n",
       "  [13,\n",
       "   [5, [2, [1], [1, [0], [1]]], [3, [1, [0], [1]], [2, [1], [1, [0], [1]]]]],\n",
       "   [8,\n",
       "    [3, [1, [0], [1]], [2, [1], [1, [0], [1]]]],\n",
       "    [5,\n",
       "     [2, [1], [1, [0], [1]]],\n",
       "     [3, [1, [0], [1]], [2, [1], [1, [0], [1]]]]]]],\n",
       "  [21,\n",
       "   [8,\n",
       "    [3, [1, [0], [1]], [2, [1], [1, [0], [1]]]],\n",
       "    [5, [2, [1], [1, [0], [1]]], [3, [1, [0], [1]], [2, [1], [1, [0], [1]]]]]],\n",
       "   [13,\n",
       "    [5, [2, [1], [1, [0], [1]]], [3, [1, [0], [1]], [2, [1], [1, [0], [1]]]]],\n",
       "    [8,\n",
       "     [3, [1, [0], [1]], [2, [1], [1, [0], [1]]]],\n",
       "     [5,\n",
       "      [2, [1], [1, [0], [1]]],\n",
       "      [3, [1, [0], [1]], [2, [1], [1, [0], [1]]]]]]]]]]"
      ]
     },
     "execution_count": 21,
     "metadata": {},
     "output_type": "execute_result"
    }
   ],
   "source": [
    "fib_tree(10)"
   ]
  },
  {
   "cell_type": "code",
   "execution_count": 22,
   "metadata": {},
   "outputs": [
    {
     "data": {
      "text/plain": [
       "89"
      ]
     },
     "execution_count": 22,
     "metadata": {},
     "output_type": "execute_result"
    }
   ],
   "source": [
    "count_leaves(fib_tree(10))"
   ]
  },
  {
   "cell_type": "code",
   "execution_count": 23,
   "metadata": {},
   "outputs": [],
   "source": [
    "def leaves(tree):\n",
    "    if is_leaf(tree):\n",
    "        return [label(tree)]\n",
    "    else:\n",
    "        return sum([leaves(b) for b in branches(tree)],[])"
   ]
  },
  {
   "cell_type": "code",
   "execution_count": 24,
   "metadata": {},
   "outputs": [],
   "source": [
    "def increment_leaves(t):\n",
    "    if is_leaf(t):\n",
    "        return t\n",
    "    else:\n",
    "        bs = [increment_leaves(b) for b in branches(t)]\n",
    "        return tree(label(t),bs)\n",
    "\n",
    "def increment(t):\n",
    "    return tree(label(t)+1,[increment(b)for b in branches(t)])"
   ]
  },
  {
   "cell_type": "code",
   "execution_count": 1,
   "metadata": {},
   "outputs": [],
   "source": [
    "from datetime import date\n",
    "tues = date(2023,6,29)"
   ]
  },
  {
   "cell_type": "code",
   "execution_count": 2,
   "metadata": {},
   "outputs": [
    {
     "name": "stdout",
     "output_type": "stream",
     "text": [
      "2023-06-29\n"
     ]
    }
   ],
   "source": [
    "print(tues)"
   ]
  },
  {
   "cell_type": "code",
   "execution_count": 3,
   "metadata": {},
   "outputs": [
    {
     "name": "stdout",
     "output_type": "stream",
     "text": [
      "9 days, 0:00:00\n"
     ]
    }
   ],
   "source": [
    "print(date(2023,7,8)-tues)"
   ]
  },
  {
   "cell_type": "code",
   "execution_count": 4,
   "metadata": {},
   "outputs": [
    {
     "data": {
      "text/plain": [
       "2023"
      ]
     },
     "execution_count": 4,
     "metadata": {},
     "output_type": "execute_result"
    }
   ],
   "source": [
    "tues.year"
   ]
  },
  {
   "cell_type": "code",
   "execution_count": 5,
   "metadata": {},
   "outputs": [
    {
     "data": {
      "text/plain": [
       "'Thursday,June,29'"
      ]
     },
     "execution_count": 5,
     "metadata": {},
     "output_type": "execute_result"
    }
   ],
   "source": [
    "tues.strftime('%A,%B,%d')"
   ]
  },
  {
   "cell_type": "code",
   "execution_count": 6,
   "metadata": {},
   "outputs": [
    {
     "data": {
      "text/plain": [
       "True"
      ]
     },
     "execution_count": 6,
     "metadata": {},
     "output_type": "execute_result"
    }
   ],
   "source": [
    "'12345'.isnumeric()"
   ]
  },
  {
   "cell_type": "code",
   "execution_count": 7,
   "metadata": {},
   "outputs": [
    {
     "data": {
      "text/plain": [
       "'Robasdas ds ASDASD'"
      ]
     },
     "execution_count": 7,
     "metadata": {},
     "output_type": "execute_result"
    }
   ],
   "source": [
    "'rOBASDAS DS asdasd'.swapcase()"
   ]
  },
  {
   "cell_type": "code",
   "execution_count": 9,
   "metadata": {},
   "outputs": [
    {
     "data": {
      "text/plain": [
       "True"
      ]
     },
     "execution_count": 9,
     "metadata": {},
     "output_type": "execute_result"
    }
   ],
   "source": [
    "'eyes'.upper().endswith('ES')"
   ]
  },
  {
   "cell_type": "code",
   "execution_count": 10,
   "metadata": {},
   "outputs": [],
   "source": [
    "chinese_card = ['coin','string','myraid']"
   ]
  },
  {
   "cell_type": "code",
   "execution_count": 11,
   "metadata": {},
   "outputs": [],
   "source": [
    "suits = chinese_card"
   ]
  },
  {
   "cell_type": "code",
   "execution_count": 12,
   "metadata": {},
   "outputs": [
    {
     "data": {
      "text/plain": [
       "'myraid'"
      ]
     },
     "execution_count": 12,
     "metadata": {},
     "output_type": "execute_result"
    }
   ],
   "source": [
    "suits.pop()"
   ]
  },
  {
   "cell_type": "code",
   "execution_count": 13,
   "metadata": {},
   "outputs": [],
   "source": [
    "suits.remove('string')"
   ]
  },
  {
   "cell_type": "code",
   "execution_count": 14,
   "metadata": {},
   "outputs": [],
   "source": [
    "suits.append('cup')"
   ]
  },
  {
   "cell_type": "code",
   "execution_count": 15,
   "metadata": {},
   "outputs": [],
   "source": [
    "suits.extend(['sword','club'])"
   ]
  },
  {
   "cell_type": "code",
   "execution_count": 16,
   "metadata": {},
   "outputs": [],
   "source": [
    "suits[2] = 'spade'"
   ]
  },
  {
   "cell_type": "code",
   "execution_count": 17,
   "metadata": {},
   "outputs": [
    {
     "data": {
      "text/plain": [
       "['coin', 'cup', 'spade', 'club']"
      ]
     },
     "execution_count": 17,
     "metadata": {},
     "output_type": "execute_result"
    }
   ],
   "source": [
    "suits"
   ]
  },
  {
   "cell_type": "code",
   "execution_count": 18,
   "metadata": {},
   "outputs": [],
   "source": [
    "suits[0:2] = ['heart','diamond']"
   ]
  },
  {
   "cell_type": "code",
   "execution_count": 19,
   "metadata": {},
   "outputs": [
    {
     "data": {
      "text/plain": [
       "['heart', 'diamond', 'spade', 'club']"
      ]
     },
     "execution_count": 19,
     "metadata": {},
     "output_type": "execute_result"
    }
   ],
   "source": [
    "suits"
   ]
  },
  {
   "cell_type": "code",
   "execution_count": 20,
   "metadata": {},
   "outputs": [
    {
     "data": {
      "text/plain": [
       "['heart', 'diamond', 'spade', 'club']"
      ]
     },
     "execution_count": 20,
     "metadata": {},
     "output_type": "execute_result"
    }
   ],
   "source": [
    "chinese_card"
   ]
  },
  {
   "cell_type": "code",
   "execution_count": 21,
   "metadata": {},
   "outputs": [],
   "source": [
    "# copy list\n",
    "nest = list(suits)"
   ]
  },
  {
   "cell_type": "code",
   "execution_count": 22,
   "metadata": {},
   "outputs": [],
   "source": [
    "nest[0] = suits"
   ]
  },
  {
   "cell_type": "code",
   "execution_count": 23,
   "metadata": {},
   "outputs": [],
   "source": [
    "suits.insert(2,'Jocker')"
   ]
  },
  {
   "cell_type": "code",
   "execution_count": 24,
   "metadata": {},
   "outputs": [
    {
     "data": {
      "text/plain": [
       "[['heart', 'diamond', 'Jocker', 'spade', 'club'], 'diamond', 'spade', 'club']"
      ]
     },
     "execution_count": 24,
     "metadata": {},
     "output_type": "execute_result"
    }
   ],
   "source": [
    "nest\n"
   ]
  },
  {
   "cell_type": "code",
   "execution_count": 25,
   "metadata": {},
   "outputs": [
    {
     "data": {
      "text/plain": [
       "['heart', 'diamond', 'Jocker', 'spade', 'club']"
      ]
     },
     "execution_count": 25,
     "metadata": {},
     "output_type": "execute_result"
    }
   ],
   "source": [
    "suits"
   ]
  },
  {
   "cell_type": "code",
   "execution_count": 26,
   "metadata": {},
   "outputs": [
    {
     "data": {
      "text/plain": [
       "'Jocker'"
      ]
     },
     "execution_count": 26,
     "metadata": {},
     "output_type": "execute_result"
    }
   ],
   "source": [
    "nest[0].pop(2)"
   ]
  },
  {
   "cell_type": "code",
   "execution_count": 27,
   "metadata": {},
   "outputs": [
    {
     "data": {
      "text/plain": [
       "[['heart', 'diamond', 'spade', 'club'], 'diamond', 'spade', 'club']"
      ]
     },
     "execution_count": 27,
     "metadata": {},
     "output_type": "execute_result"
    }
   ],
   "source": [
    "nest"
   ]
  },
  {
   "cell_type": "code",
   "execution_count": 28,
   "metadata": {},
   "outputs": [
    {
     "data": {
      "text/plain": [
       "['heart', 'diamond', 'spade', 'club']"
      ]
     },
     "execution_count": 28,
     "metadata": {},
     "output_type": "execute_result"
    }
   ],
   "source": [
    "suits"
   ]
  },
  {
   "cell_type": "code",
   "execution_count": 29,
   "metadata": {},
   "outputs": [
    {
     "data": {
      "text/plain": [
       "True"
      ]
     },
     "execution_count": 29,
     "metadata": {},
     "output_type": "execute_result"
    }
   ],
   "source": [
    "suits is nest[0]"
   ]
  },
  {
   "cell_type": "code",
   "execution_count": 30,
   "metadata": {},
   "outputs": [
    {
     "data": {
      "text/plain": [
       "False"
      ]
     },
     "execution_count": 30,
     "metadata": {},
     "output_type": "execute_result"
    }
   ],
   "source": [
    "suits is ['heart', 'diamond', 'spade', 'club']"
   ]
  },
  {
   "cell_type": "code",
   "execution_count": 31,
   "metadata": {},
   "outputs": [
    {
     "data": {
      "text/plain": [
       "True"
      ]
     },
     "execution_count": 31,
     "metadata": {},
     "output_type": "execute_result"
    }
   ],
   "source": [
    "suits == ['heart', 'diamond', 'spade', 'club']"
   ]
  },
  {
   "cell_type": "code",
   "execution_count": 35,
   "metadata": {},
   "outputs": [
    {
     "data": {
      "text/plain": [
       "['♡', '♢', '♤', '♧']"
      ]
     },
     "execution_count": 35,
     "metadata": {},
     "output_type": "execute_result"
    }
   ],
   "source": [
    "from unicodedata import lookup\n",
    "[lookup('WHITE '+s.upper()+' SUIT') for s in suits]"
   ]
  },
  {
   "cell_type": "code",
   "execution_count": 36,
   "metadata": {},
   "outputs": [
    {
     "data": {
      "text/plain": [
       "(1, 5)"
      ]
     },
     "execution_count": 36,
     "metadata": {},
     "output_type": "execute_result"
    }
   ],
   "source": [
    "1,2+3"
   ]
  },
  {
   "cell_type": "code",
   "execution_count": 37,
   "metadata": {},
   "outputs": [
    {
     "data": {
      "text/plain": [
       "('the', 1, ('and', 'only'))"
      ]
     },
     "execution_count": 37,
     "metadata": {},
     "output_type": "execute_result"
    }
   ],
   "source": [
    "(\"the\",1,(\"and\",\"only\"))"
   ]
  },
  {
   "cell_type": "code",
   "execution_count": 38,
   "metadata": {},
   "outputs": [
    {
     "data": {
      "text/plain": [
       "tuple"
      ]
     },
     "execution_count": 38,
     "metadata": {},
     "output_type": "execute_result"
    }
   ],
   "source": [
    "type((10,20))"
   ]
  },
  {
   "cell_type": "code",
   "execution_count": 39,
   "metadata": {},
   "outputs": [
    {
     "data": {
      "text/plain": [
       "()"
      ]
     },
     "execution_count": 39,
     "metadata": {},
     "output_type": "execute_result"
    }
   ],
   "source": [
    "()"
   ]
  },
  {
   "cell_type": "code",
   "execution_count": 40,
   "metadata": {},
   "outputs": [
    {
     "data": {
      "text/plain": [
       "(10,)"
      ]
     },
     "execution_count": 40,
     "metadata": {},
     "output_type": "execute_result"
    }
   ],
   "source": [
    "(10,)"
   ]
  },
  {
   "cell_type": "code",
   "execution_count": 41,
   "metadata": {},
   "outputs": [],
   "source": [
    "code = (\"up\",\"up\",\"down\",\"down\")+(\"left\",\"right\")*2"
   ]
  },
  {
   "cell_type": "code",
   "execution_count": 42,
   "metadata": {},
   "outputs": [
    {
     "data": {
      "text/plain": [
       "8"
      ]
     },
     "execution_count": 42,
     "metadata": {},
     "output_type": "execute_result"
    }
   ],
   "source": [
    "len(code)"
   ]
  },
  {
   "cell_type": "code",
   "execution_count": 43,
   "metadata": {},
   "outputs": [
    {
     "data": {
      "text/plain": [
       "('up', 'up', 'down', 'down', 'left', 'right', 'left', 'right')"
      ]
     },
     "execution_count": 43,
     "metadata": {},
     "output_type": "execute_result"
    }
   ],
   "source": [
    "code"
   ]
  },
  {
   "cell_type": "code",
   "execution_count": 44,
   "metadata": {},
   "outputs": [
    {
     "data": {
      "text/plain": [
       "'down'"
      ]
     },
     "execution_count": 44,
     "metadata": {},
     "output_type": "execute_result"
    }
   ],
   "source": [
    "code[3]"
   ]
  },
  {
   "cell_type": "code",
   "execution_count": 45,
   "metadata": {},
   "outputs": [
    {
     "data": {
      "text/plain": [
       "2"
      ]
     },
     "execution_count": 45,
     "metadata": {},
     "output_type": "execute_result"
    }
   ],
   "source": [
    "code.count(\"down\")  #可以用于列表"
   ]
  },
  {
   "cell_type": "code",
   "execution_count": 46,
   "metadata": {},
   "outputs": [
    {
     "data": {
      "text/plain": [
       "4"
      ]
     },
     "execution_count": 46,
     "metadata": {},
     "output_type": "execute_result"
    }
   ],
   "source": [
    "code.index(\"left\")   #可以用于列表"
   ]
  },
  {
   "cell_type": "code",
   "execution_count": 47,
   "metadata": {},
   "outputs": [
    {
     "data": {
      "text/plain": [
       "{'I': 1, 'V': 5, 'X': 10, 'L': 50}"
      ]
     },
     "execution_count": 47,
     "metadata": {},
     "output_type": "execute_result"
    }
   ],
   "source": [
    "numerals = {'I': 1.0, 'V': 5, 'X': 10}\n",
    "numerals['X']\n",
    "numerals['I'] = 1\n",
    "numerals['L'] = 50\n",
    "numerals"
   ]
  },
  {
   "cell_type": "code",
   "execution_count": 48,
   "metadata": {},
   "outputs": [
    {
     "data": {
      "text/plain": [
       "66"
      ]
     },
     "execution_count": 48,
     "metadata": {},
     "output_type": "execute_result"
    }
   ],
   "source": [
    "sum(numerals.values())"
   ]
  },
  {
   "cell_type": "code",
   "execution_count": 52,
   "metadata": {},
   "outputs": [
    {
     "data": {
      "text/plain": [
       "dict_values([1, 5, 10, 50])"
      ]
     },
     "execution_count": 52,
     "metadata": {},
     "output_type": "execute_result"
    }
   ],
   "source": [
    "numerals.values()"
   ]
  },
  {
   "cell_type": "code",
   "execution_count": 53,
   "metadata": {},
   "outputs": [
    {
     "data": {
      "text/plain": [
       "{3: 9, 4: 16, 5: 25}"
      ]
     },
     "execution_count": 53,
     "metadata": {},
     "output_type": "execute_result"
    }
   ],
   "source": [
    "dict([(3,9),(4,16),(5,25)])"
   ]
  },
  {
   "cell_type": "code",
   "execution_count": 55,
   "metadata": {},
   "outputs": [
    {
     "data": {
      "text/plain": [
       "0"
      ]
     },
     "execution_count": 55,
     "metadata": {},
     "output_type": "execute_result"
    }
   ],
   "source": [
    "numerals.get('A', 0)"
   ]
  },
  {
   "cell_type": "code",
   "execution_count": 56,
   "metadata": {},
   "outputs": [
    {
     "data": {
      "text/plain": [
       "5"
      ]
     },
     "execution_count": 56,
     "metadata": {},
     "output_type": "execute_result"
    }
   ],
   "source": [
    "numerals.get('V', 0)"
   ]
  },
  {
   "cell_type": "code",
   "execution_count": 57,
   "metadata": {},
   "outputs": [
    {
     "data": {
      "text/plain": [
       "{3: 9, 4: 16, 5: 25}"
      ]
     },
     "execution_count": 57,
     "metadata": {},
     "output_type": "execute_result"
    }
   ],
   "source": [
    "{x:x*x for x in range(3,6)}"
   ]
  },
  {
   "cell_type": "code",
   "execution_count": 58,
   "metadata": {},
   "outputs": [],
   "source": [
    "def make_withdraw(balance):\n",
    "    def withdraw(amount):\n",
    "        nonlocal balance\n",
    "        if amount>balance:\n",
    "            return 'Insufficient funds'\n",
    "        balance = balance - amount\n",
    "        return balance\n",
    "    return withdraw"
   ]
  },
  {
   "cell_type": "code",
   "execution_count": 61,
   "metadata": {},
   "outputs": [
    {
     "ename": "SyntaxError",
     "evalue": "no binding for nonlocal 'contents' found (2995390092.py, line 4)",
     "output_type": "error",
     "traceback": [
      "\u001b[1;36m  Input \u001b[1;32mIn [61]\u001b[1;36m\u001b[0m\n\u001b[1;33m    nonlocal contents\u001b[0m\n\u001b[1;37m    ^\u001b[0m\n\u001b[1;31mSyntaxError\u001b[0m\u001b[1;31m:\u001b[0m no binding for nonlocal 'contents' found\n"
     ]
    }
   ],
   "source": [
    "def mutable_link():\n",
    "    contents = empty\n",
    "    def dispatch(message,value = None):\n",
    "        nonlocal contents\n",
    "        if message=='len':\n",
    "            return len_link(contents)\n",
    "        elif message =='getitem':\n",
    "            return getitem_link(contents,values)\n",
    "        elif message=='push_first':\n",
    "            contents = link(value,contents)\n",
    "        elif message =='pop_first':\n",
    "            f = first(contents)\n",
    "            contents = rest(contents)\n",
    "            return f\n",
    "        elif message=='str':\n",
    "            return join_link(contents,', ')\n",
    "        \n",
    "    return dispatch\n",
    "\n",
    "def to_mutable_link(source):\n",
    "    s = mutable_link()\n",
    "    for element in reversed(source):\n",
    "        s('push_first',element)\n",
    "    return s\n"
   ]
  },
  {
   "cell_type": "code",
   "execution_count": 62,
   "metadata": {},
   "outputs": [
    {
     "ename": "NameError",
     "evalue": "name 'empty' is not defined",
     "output_type": "error",
     "traceback": [
      "\u001b[1;31m---------------------------------------------------------------------------\u001b[0m",
      "\u001b[1;31mNameError\u001b[0m                                 Traceback (most recent call last)",
      "\u001b[1;32me:\\收藏夹\\cs61a\\week1\\week6_processing.ipynb 单元格 73\u001b[0m in \u001b[0;36m<cell line: 1>\u001b[1;34m()\u001b[0m\n\u001b[1;32m----> <a href='vscode-notebook-cell:/e%3A/%E6%94%B6%E8%97%8F%E5%A4%B9/cs61a/week1/week6_processing.ipynb#Y134sZmlsZQ%3D%3D?line=0'>1</a>\u001b[0m s \u001b[39m=\u001b[39m to_mutable_link(suits)\n",
      "\u001b[1;32me:\\收藏夹\\cs61a\\week1\\week6_processing.ipynb 单元格 73\u001b[0m in \u001b[0;36mto_mutable_link\u001b[1;34m(source)\u001b[0m\n\u001b[0;32m     <a href='vscode-notebook-cell:/e%3A/%E6%94%B6%E8%97%8F%E5%A4%B9/cs61a/week1/week6_processing.ipynb#Y134sZmlsZQ%3D%3D?line=19'>20</a>\u001b[0m \u001b[39mdef\u001b[39;00m \u001b[39mto_mutable_link\u001b[39m(source):\n\u001b[1;32m---> <a href='vscode-notebook-cell:/e%3A/%E6%94%B6%E8%97%8F%E5%A4%B9/cs61a/week1/week6_processing.ipynb#Y134sZmlsZQ%3D%3D?line=20'>21</a>\u001b[0m     s \u001b[39m=\u001b[39m mutable_link()\n\u001b[0;32m     <a href='vscode-notebook-cell:/e%3A/%E6%94%B6%E8%97%8F%E5%A4%B9/cs61a/week1/week6_processing.ipynb#Y134sZmlsZQ%3D%3D?line=21'>22</a>\u001b[0m     \u001b[39mfor\u001b[39;00m element \u001b[39min\u001b[39;00m \u001b[39mreversed\u001b[39m(source):\n\u001b[0;32m     <a href='vscode-notebook-cell:/e%3A/%E6%94%B6%E8%97%8F%E5%A4%B9/cs61a/week1/week6_processing.ipynb#Y134sZmlsZQ%3D%3D?line=22'>23</a>\u001b[0m         s(\u001b[39m'\u001b[39m\u001b[39mpush_first\u001b[39m\u001b[39m'\u001b[39m,element)\n",
      "\u001b[1;32me:\\收藏夹\\cs61a\\week1\\week6_processing.ipynb 单元格 73\u001b[0m in \u001b[0;36mmutable_link\u001b[1;34m()\u001b[0m\n\u001b[0;32m      <a href='vscode-notebook-cell:/e%3A/%E6%94%B6%E8%97%8F%E5%A4%B9/cs61a/week1/week6_processing.ipynb#Y134sZmlsZQ%3D%3D?line=0'>1</a>\u001b[0m \u001b[39mdef\u001b[39;00m \u001b[39mmutable_link\u001b[39m():\n\u001b[1;32m----> <a href='vscode-notebook-cell:/e%3A/%E6%94%B6%E8%97%8F%E5%A4%B9/cs61a/week1/week6_processing.ipynb#Y134sZmlsZQ%3D%3D?line=1'>2</a>\u001b[0m     contents \u001b[39m=\u001b[39m empty\n\u001b[0;32m      <a href='vscode-notebook-cell:/e%3A/%E6%94%B6%E8%97%8F%E5%A4%B9/cs61a/week1/week6_processing.ipynb#Y134sZmlsZQ%3D%3D?line=2'>3</a>\u001b[0m     \u001b[39mdef\u001b[39;00m \u001b[39mdispatch\u001b[39m(message,value \u001b[39m=\u001b[39m \u001b[39mNone\u001b[39;00m):\n\u001b[0;32m      <a href='vscode-notebook-cell:/e%3A/%E6%94%B6%E8%97%8F%E5%A4%B9/cs61a/week1/week6_processing.ipynb#Y134sZmlsZQ%3D%3D?line=3'>4</a>\u001b[0m         \u001b[39mnonlocal\u001b[39;00m contents\n",
      "\u001b[1;31mNameError\u001b[0m: name 'empty' is not defined"
     ]
    }
   ],
   "source": [
    "s = to_mutable_link(suits)"
   ]
  },
  {
   "cell_type": "code",
   "execution_count": null,
   "metadata": {},
   "outputs": [],
   "source": []
  }
 ],
 "metadata": {
  "kernelspec": {
   "display_name": "pytorch",
   "language": "python",
   "name": "python3"
  },
  "language_info": {
   "codemirror_mode": {
    "name": "ipython",
    "version": 3
   },
   "file_extension": ".py",
   "mimetype": "text/x-python",
   "name": "python",
   "nbconvert_exporter": "python",
   "pygments_lexer": "ipython3",
   "version": "3.9.13"
  },
  "orig_nbformat": 4
 },
 "nbformat": 4,
 "nbformat_minor": 2
}
