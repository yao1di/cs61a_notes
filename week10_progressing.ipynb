{
 "cells": [
  {
   "cell_type": "code",
   "execution_count": 6,
   "metadata": {},
   "outputs": [],
   "source": [
    "class Tree:\n",
    "    def __init__(self,label):\n",
    "        self.label = label\n",
    "        self.branches = []\n",
    "\n",
    "    def add_child(self,val):\n",
    "        if not self.branches:\n",
    "            self.branches = [Tree(val)]\n",
    "        else:\n",
    "            self.branches.append(Tree(val))\n",
    "\n",
    "    def get_subtree(self,num):\n",
    "        if self.branches and num<len(self.branches):\n",
    "            return self.branches[num]\n",
    "        else:\n",
    "            return None\n",
    "        \n",
    "    def __repr__(self):\n",
    "        if self.branches:\n",
    "            return 'T[{0},{1}]'.format(self.label,repr(self.branches))\n",
    "        else:\n",
    "            return 'T[{0}]'.format(repr(self.label))\n",
    "        \n"
   ]
  },
  {
   "cell_type": "code",
   "execution_count": null,
   "metadata": {},
   "outputs": [],
   "source": []
  },
  {
   "cell_type": "code",
   "execution_count": 7,
   "metadata": {},
   "outputs": [],
   "source": [
    "t = Tree(3)\n",
    "t.add_child(1)\n",
    "t.add_child(2)\n",
    "c = t.get_subtree(1)"
   ]
  },
  {
   "cell_type": "code",
   "execution_count": 8,
   "metadata": {},
   "outputs": [
    {
     "name": "stdout",
     "output_type": "stream",
     "text": [
      "T[2]\n"
     ]
    }
   ],
   "source": [
    "print(c)"
   ]
  },
  {
   "cell_type": "code",
   "execution_count": 9,
   "metadata": {},
   "outputs": [],
   "source": [
    "c.add_child(4)\n",
    "c.add_child(5)"
   ]
  },
  {
   "cell_type": "code",
   "execution_count": 10,
   "metadata": {},
   "outputs": [
    {
     "name": "stdout",
     "output_type": "stream",
     "text": [
      "T[2,[T[4], T[5]]]\n"
     ]
    }
   ],
   "source": [
    "print(c)"
   ]
  },
  {
   "cell_type": "code",
   "execution_count": 11,
   "metadata": {},
   "outputs": [
    {
     "name": "stdout",
     "output_type": "stream",
     "text": [
      "T[3,[T[1], T[2,[T[4], T[5]]]]]\n"
     ]
    }
   ],
   "source": [
    "print(t)"
   ]
  },
  {
   "cell_type": "code",
   "execution_count": 12,
   "metadata": {},
   "outputs": [],
   "source": [
    "# 二叉树\n",
    "class Node:\n",
    "    def __init__(self,data):\n",
    "        self.label = data\n",
    "        self.left = None\n",
    "        self.right =None"
   ]
  },
  {
   "cell_type": "code",
   "execution_count": 13,
   "metadata": {},
   "outputs": [],
   "source": [
    "root  = Node(1)"
   ]
  },
  {
   "cell_type": "code",
   "execution_count": 14,
   "metadata": {},
   "outputs": [],
   "source": [
    "root.left = Node(2)"
   ]
  },
  {
   "cell_type": "code",
   "execution_count": 15,
   "metadata": {},
   "outputs": [],
   "source": [
    "root.right = Node(3)"
   ]
  },
  {
   "cell_type": "code",
   "execution_count": 16,
   "metadata": {},
   "outputs": [],
   "source": [
    "root.left.left = Node(4)"
   ]
  },
  {
   "cell_type": "code",
   "execution_count": 17,
   "metadata": {},
   "outputs": [],
   "source": [
    "root.left.right = Node(5)"
   ]
  },
  {
   "cell_type": "code",
   "execution_count": 7,
   "metadata": {},
   "outputs": [],
   "source": [
    "class Link:\n",
    "    empty = ()\n",
    "    def __init__(self,first,rest=empty):\n",
    "        self.first = first\n",
    "        self.rest = rest\n",
    "    \n",
    "    def insertAfter(self,l):\n",
    "        temp = self.rest\n",
    "        self.rest = l\n",
    "        l.next = temp"
   ]
  },
  {
   "cell_type": "code",
   "execution_count": 2,
   "metadata": {},
   "outputs": [],
   "source": [
    "L = Link(0)\n",
    "L1 = Link(1)\n",
    "L2 = Link(2)"
   ]
  },
  {
   "cell_type": "code",
   "execution_count": 3,
   "metadata": {},
   "outputs": [],
   "source": [
    "L.rest = L1\n",
    "L1.rest = L2"
   ]
  },
  {
   "cell_type": "code",
   "execution_count": 4,
   "metadata": {},
   "outputs": [],
   "source": [
    "L = Link(0,Link(1,Link(2)))"
   ]
  },
  {
   "cell_type": "code",
   "execution_count": 5,
   "metadata": {},
   "outputs": [
    {
     "ename": "NameError",
     "evalue": "name 'empty' is not defined",
     "output_type": "error",
     "traceback": [
      "\u001b[1;31m---------------------------------------------------------------------------\u001b[0m",
      "\u001b[1;31mNameError\u001b[0m                                 Traceback (most recent call last)",
      "\u001b[1;32me:\\收藏夹\\cs61a\\week1\\week10_progressing.ipynb 单元格 18\u001b[0m in \u001b[0;36m<cell line: 2>\u001b[1;34m()\u001b[0m\n\u001b[0;32m      <a href='vscode-notebook-cell:/e%3A/%E6%94%B6%E8%97%8F%E5%A4%B9/cs61a/week1/week10_progressing.ipynb#X23sZmlsZQ%3D%3D?line=0'>1</a>\u001b[0m l\u001b[39m=\u001b[39mL\n\u001b[1;32m----> <a href='vscode-notebook-cell:/e%3A/%E6%94%B6%E8%97%8F%E5%A4%B9/cs61a/week1/week10_progressing.ipynb#X23sZmlsZQ%3D%3D?line=1'>2</a>\u001b[0m \u001b[39mwhile\u001b[39;00m l\u001b[39m!=\u001b[39mempty:\n\u001b[0;32m      <a href='vscode-notebook-cell:/e%3A/%E6%94%B6%E8%97%8F%E5%A4%B9/cs61a/week1/week10_progressing.ipynb#X23sZmlsZQ%3D%3D?line=2'>3</a>\u001b[0m     \u001b[39mprint\u001b[39m(l\u001b[39m.\u001b[39mfirst)\n\u001b[0;32m      <a href='vscode-notebook-cell:/e%3A/%E6%94%B6%E8%97%8F%E5%A4%B9/cs61a/week1/week10_progressing.ipynb#X23sZmlsZQ%3D%3D?line=3'>4</a>\u001b[0m     l\u001b[39m=\u001b[39ml\u001b[39m.\u001b[39mrest\n",
      "\u001b[1;31mNameError\u001b[0m: name 'empty' is not defined"
     ]
    }
   ],
   "source": [
    "l=L\n",
    "while l!=empty:\n",
    "    print(l.first)\n",
    "    l=l.rest"
   ]
  },
  {
   "cell_type": "code",
   "execution_count": 6,
   "metadata": {},
   "outputs": [
    {
     "name": "stdout",
     "output_type": "stream",
     "text": [
      "0\n"
     ]
    }
   ],
   "source": [
    "print(l.first)"
   ]
  },
  {
   "cell_type": "code",
   "execution_count": 11,
   "metadata": {},
   "outputs": [],
   "source": [
    "L = Link(\"A\")"
   ]
  },
  {
   "cell_type": "code",
   "execution_count": 12,
   "metadata": {},
   "outputs": [],
   "source": [
    "L.insertAfter(Link(\"B\"))"
   ]
  },
  {
   "cell_type": "code",
   "execution_count": 10,
   "metadata": {},
   "outputs": [],
   "source": [
    "L.insertAfter(Link(\"AA\"))"
   ]
  },
  {
   "cell_type": "code",
   "execution_count": 13,
   "metadata": {},
   "outputs": [],
   "source": [
    "L.rest.insertAfter(Link(\"AA\"))"
   ]
  },
  {
   "cell_type": "code",
   "execution_count": null,
   "metadata": {},
   "outputs": [],
   "source": []
  }
 ],
 "metadata": {
  "kernelspec": {
   "display_name": "pytorch",
   "language": "python",
   "name": "python3"
  },
  "language_info": {
   "codemirror_mode": {
    "name": "ipython",
    "version": 3
   },
   "file_extension": ".py",
   "mimetype": "text/x-python",
   "name": "python",
   "nbconvert_exporter": "python",
   "pygments_lexer": "ipython3",
   "version": "3.9.13"
  },
  "orig_nbformat": 4
 },
 "nbformat": 4,
 "nbformat_minor": 2
}
