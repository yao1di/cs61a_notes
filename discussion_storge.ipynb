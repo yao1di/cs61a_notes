{
 "cells": [
  {
   "attachments": {},
   "cell_type": "markdown",
   "metadata": {},
   "source": [
    "# Disc03"
   ]
  },
  {
   "cell_type": "code",
   "execution_count": null,
   "metadata": {},
   "outputs": [],
   "source": [
    "def is_prime(n):\n",
    "    \"\"\"Returns True if n is a prime number and False otherwise.\n",
    "\n",
    "    >>> is_prime(2)\n",
    "    True\n",
    "    >>> is_prime(16)\n",
    "    False\n",
    "    >>> is_prime(521)\n",
    "    True\n",
    "    *** YOUR CODE HERE ***\n",
    "    \"\"\"\n",
    "    \n",
    "    def helper_func(n,i):\n",
    "        if i==1:\n",
    "            return True\n",
    "        if n%i==0:\n",
    "            return False\n",
    "        return helper_func(n,i-1)\n",
    "    \n",
    "    return helper_func(n,n-1)\n"
   ]
  },
  {
   "attachments": {},
   "cell_type": "markdown",
   "metadata": {},
   "source": [
    "## Q5"
   ]
  },
  {
   "cell_type": "code",
   "execution_count": null,
   "metadata": {},
   "outputs": [],
   "source": [
    "def hailstone(n):\n",
    "    \"\"\"Print out the hailstone sequence starting at n, and return the number of elements in the sequence.\n",
    "    >>> a = hailstone(10)\n",
    "    10\n",
    "    5\n",
    "    16\n",
    "    8\n",
    "    4\n",
    "    2\n",
    "    1\n",
    "    >>> a\n",
    "    7\n",
    "    >>> b = hailstone(1)\n",
    "    1\n",
    "    >>> b\n",
    "    1\n",
    "    \"\"\"\n",
    "    \"*** YOUR CODE HERE ***\"\n",
    "    if n==1:\n",
    "        print(n)\n",
    "        return 1\n",
    "    else:\n",
    "        if n%2==0:\n",
    "            print(n/2)\n",
    "            return hailstone(n/2)\n",
    "        else:\n",
    "            print(3*n+1)\n",
    "            return hailstone(3*n+1)\n",
    "\n"
   ]
  },
  {
   "attachments": {},
   "cell_type": "markdown",
   "metadata": {},
   "source": [
    "## Q6 Merge Numbers\n"
   ]
  },
  {
   "cell_type": "code",
   "execution_count": null,
   "metadata": {},
   "outputs": [],
   "source": [
    "def merge(n1, n2):\n",
    "    \"\"\" Merges two numbers by digit in decreasing order\n",
    "    >>> merge(31, 42)\n",
    "    4321\n",
    "    >>> merge(21, 0)\n",
    "    21\n",
    "    >>> merge (21, 31) \n",
    "    3211\n",
    "    \"\"\"\n",
    "    \"*** YOUR CODE HERE ***\"\n",
    "    if n2==0:\n",
    "        return n1\n",
    "    if n1==0:\n",
    "        return n2\n",
    "    \n",
    "    last_number1 = n1%10\n",
    "    last_number2 = n2%10\n",
    "    if last_number1<last_number2:\n",
    "        return last_number1+merge(n1//10,n2)*10\n",
    "    else:\n",
    "        return last_number2+merge(n1,n2//10)*10\n"
   ]
  },
  {
   "attachments": {},
   "cell_type": "markdown",
   "metadata": {},
   "source": [
    "# Disc05 Trees\n"
   ]
  },
  {
   "attachments": {},
   "cell_type": "markdown",
   "metadata": {},
   "source": [
    "## Q2"
   ]
  },
  {
   "cell_type": "code",
   "execution_count": null,
   "metadata": {},
   "outputs": [],
   "source": [
    "def height(t):\n",
    "    \"\"\"Return the height of a tree.\n",
    "\n",
    "    >>> t = tree(3, [tree(5, [tree(1)]), tree(2)])\n",
    "    >>> height(t)\n",
    "    2\n",
    "    >>> t = tree(3, [tree(1), tree(2, [tree(5, [tree(6)]), tree(1)])])\n",
    "    >>> height(t)\n",
    "    3\n",
    "    \"\"\"\n",
    "    \"*** YOUR CODE HERE ***\"\n",
    "    if is_leaf(t):\n",
    "        return 0\n",
    "    else:\n",
    "        H = [height(b) for b in branches(t)]\n",
    "        return max(H) +1   \n",
    "    # 回溯的时候加一个"
   ]
  },
  {
   "attachments": {},
   "cell_type": "markdown",
   "metadata": {},
   "source": [
    "## Q3 "
   ]
  },
  {
   "cell_type": "code",
   "execution_count": null,
   "metadata": {},
   "outputs": [],
   "source": [
    "def max_path_sum(t):\n",
    "    \"\"\"Return the maximum path sum of the tree.\n",
    "\n",
    "    >>> t = tree(1, [tree(5, [tree(1), tree(3)]), tree(10)])\n",
    "    >>> max_path_sum(t)\n",
    "    11\n",
    "    \"\"\"\n",
    "    \"*** YOUR CODE HERE ***\"\n",
    "\n",
    "    if is_leaf(t):\n",
    "        return label(t)\n",
    "    else:\n",
    "        path = sum([[max_path_sum(b)] for b in branches(t)],[])\n",
    "        return max(path)+label(t)"
   ]
  },
  {
   "attachments": {},
   "cell_type": "markdown",
   "metadata": {},
   "source": [
    "## Q4 \n"
   ]
  },
  {
   "cell_type": "code",
   "execution_count": null,
   "metadata": {},
   "outputs": [],
   "source": [
    "def find_path(t, x):\n",
    "    \"\"\"\n",
    "    >>> t = tree(2, [tree(7, [tree(3), tree(6, [tree(5), tree(11)])] ), tree(15)])\n",
    "    >>> find_path(t, 5)\n",
    "    [2, 7, 6, 5]\n",
    "    >>> find_path(t, 10)  # returns None\n",
    "    \"\"\"\n",
    "    if label(t)==x:\n",
    "        return [label(t)]\n",
    "    for b in branches(t):\n",
    "        path = find_path(b,x)\n",
    "        if path:\n",
    "            return[label(t)]+ path\n",
    "\n"
   ]
  },
  {
   "attachments": {},
   "cell_type": "markdown",
   "metadata": {},
   "source": [
    "## Q5\n"
   ]
  },
  {
   "cell_type": "code",
   "execution_count": null,
   "metadata": {},
   "outputs": [],
   "source": [
    "def sum_tree(t):\n",
    "    \"\"\"\n",
    "    Add all elements in a tree.\n",
    "    >>> t = tree(4, [tree(2, [tree(3)]), tree(6)])\n",
    "    >>> sum_tree(t)\n",
    "    15\n",
    "    \"\"\"\n",
    "    \"*** YOUR CODE HERE ***\"\n",
    "    return label(t)+sum([sum_tree(b) for b in branches(t)])\n"
   ]
  },
  {
   "cell_type": "code",
   "execution_count": null,
   "metadata": {},
   "outputs": [],
   "source": [
    "def balanced(t):\n",
    "    \"\"\"\n",
    "    Checks if each branch has same sum of all elements and\n",
    "    if each branch is balanced.\n",
    "    >>> t = tree(1, [tree(3), tree(1, [tree(2)]), tree(1, [tree(1), tree(1)])])\n",
    "    >>> balanced(t)\n",
    "    True\n",
    "    >>> t = tree(1, [t, tree(1)])\n",
    "    >>> balanced(t)\n",
    "    False\n",
    "    >>> t = tree(1, [tree(4), tree(1, [tree(2), tree(1)]), tree(1, [tree(3)])])\n",
    "    >>> balanced(t)\n",
    "    False\n",
    "    \"\"\"\n",
    "    \"*** YOUR CODE HERE ***\"\n",
    "    def sum_tree(t):\n",
    "        return label(t)+sum([sum_tree(b) for b in branches(t)])\n",
    "\n",
    "    return [False for b in branches(t) if sum_tree(branches(t)[0])!=sum_tree(b)] == []\n"
   ]
  },
  {
   "attachments": {},
   "cell_type": "markdown",
   "metadata": {},
   "source": [
    "## Q6 Sprout Leaves"
   ]
  },
  {
   "cell_type": "code",
   "execution_count": null,
   "metadata": {},
   "outputs": [],
   "source": [
    "def sprout_leaves(t, leaves):\n",
    "    \"\"\"Sprout new leaves containing the data in leaves at each leaf in\n",
    "    the original tree t and return the resulting tree.\n",
    "\n",
    "    >>> t1 = tree(1, [tree(2), tree(3)])\n",
    "    >>> print_tree(t1)\n",
    "    1\n",
    "      2\n",
    "      3\n",
    "    >>> new1 = sprout_leaves(t1, [4, 5])\n",
    "    >>> print_tree(new1)\n",
    "    1\n",
    "      2\n",
    "        4\n",
    "        5\n",
    "      3\n",
    "        4\n",
    "        5\n",
    "\n",
    "    >>> t2 = tree(1, [tree(2, [tree(3)])])\n",
    "    >>> print_tree(t2)\n",
    "    1\n",
    "      2\n",
    "        3\n",
    "    >>> new2 = sprout_leaves(t2, [6, 1, 2])\n",
    "    >>> print_tree(new2)\n",
    "    1\n",
    "      2\n",
    "        3\n",
    "          6\n",
    "          1\n",
    "          2\n",
    "    \"\"\"\n",
    "    \"*** YOUR CODE HERE ***\"\n",
    "    if is_leaf(t):\n",
    "        return tree(label(t),[tree(item) for item in leaves])\n",
    "    else:\n",
    "        return tree(label(t),[sprout_leaves(b,leaves) for b in branches(t)])\n",
    "\n"
   ]
  },
  {
   "attachments": {},
   "cell_type": "markdown",
   "metadata": {},
   "source": [
    "## Q7 Hailstone Tree\n"
   ]
  },
  {
   "cell_type": "code",
   "execution_count": null,
   "metadata": {},
   "outputs": [],
   "source": [
    "def hailstone_tree(n, h):\n",
    "    \"\"\"Generates a tree of hailstone numbers that will reach N, with height H.\n",
    "    >>> print_tree(hailstone_tree(1, 0))\n",
    "    1\n",
    "    >>> print_tree(hailstone_tree(1, 4))\n",
    "    1\n",
    "        2\n",
    "            4\n",
    "                8\n",
    "                    16\n",
    "    >>> print_tree(hailstone_tree(8, 3))\n",
    "    8\n",
    "        16\n",
    "            32\n",
    "                64\n",
    "            5\n",
    "                10\n",
    "    \"\"\"\n",
    "    if h==0:\n",
    "        return tree(n)\n",
    "    branches = [hailstone_tree(2*n,h-1)]\n",
    "    if (n-1)%3==0 and ((n-1)//3)%2!=0 and (n-1)//3>1:\n",
    "        branches += [hailstone_tree((n-1)//3,h-1)]\n",
    "    return tree(n, branches)\n",
    "\n",
    "def print_tree(t):\n",
    "    def helper(i, t):\n",
    "        print(\"    \" * i + str(label(t)))\n",
    "        for b in branches(t):\n",
    "            helper(i + 1, b)\n",
    "    helper(0, t)\n"
   ]
  },
  {
   "attachments": {},
   "cell_type": "markdown",
   "metadata": {},
   "source": [
    "# Disc06"
   ]
  },
  {
   "attachments": {},
   "cell_type": "markdown",
   "metadata": {},
   "source": [
    "Aside from `append`, there are various other list mutation methods:\n",
    "除了 之外，还有其他各种列表突变方法：\n",
    "\n",
    "`append(el)`: Add `el` to the end of the list. Return None.\n",
    "：添加到列表末尾。返回。\n",
    "\n",
    "`extend(lst)`: Extend the list by concatenating it with `lst`. Return None.\n",
    "：通过将列表与 连接来扩展列表。返回。\n",
    "\n",
    "`insert(i, el)`: Insert `el` at index `i`. This does not replace any existing elements, but only adds the new element `el`. Return None.\n",
    "：在索引处插入。这不会替换任何现有元素，而只会添加新元素。返回。\n",
    "\n",
    "`remove(el)`: Remove the first occurrence of `el` in list. Errors if `el` is not in the list. Return None otherwise.\n",
    "：删除 in 列表中的第一个匹配项。错误（如果不在列表中）。否则返回。\n",
    "\n",
    "`pop(i)`: Remove and return the element at index `i`.\n",
    "：删除并返回索引处的元素。"
   ]
  },
  {
   "cell_type": "code",
   "execution_count": 14,
   "metadata": {},
   "outputs": [
    {
     "data": {
      "text/plain": [
       "[1, 2, 3, 4]"
      ]
     },
     "execution_count": 14,
     "metadata": {},
     "output_type": "execute_result"
    }
   ],
   "source": [
    "x = [1,2,3]\n",
    "y=x \n",
    "x+=[4]\n",
    "x"
   ]
  },
  {
   "cell_type": "code",
   "execution_count": 15,
   "metadata": {},
   "outputs": [
    {
     "data": {
      "text/plain": [
       "[1, 2, 3, 4]"
      ]
     },
     "execution_count": 15,
     "metadata": {},
     "output_type": "execute_result"
    }
   ],
   "source": [
    "y"
   ]
  },
  {
   "cell_type": "code",
   "execution_count": 16,
   "metadata": {},
   "outputs": [
    {
     "data": {
      "text/plain": [
       "[1, 2, 3, 4]"
      ]
     },
     "execution_count": 16,
     "metadata": {},
     "output_type": "execute_result"
    }
   ],
   "source": [
    "x = [1,2,3]\n",
    "y=x \n",
    "x= x +[4]   ##创建了一个新列表。。。。。。\n",
    "x"
   ]
  },
  {
   "cell_type": "code",
   "execution_count": 17,
   "metadata": {},
   "outputs": [
    {
     "data": {
      "text/plain": [
       "[1, 2, 3]"
      ]
     },
     "execution_count": 17,
     "metadata": {},
     "output_type": "execute_result"
    }
   ],
   "source": [
    "y  ## y保持不变"
   ]
  },
  {
   "cell_type": "code",
   "execution_count": 18,
   "metadata": {},
   "outputs": [
    {
     "data": {
      "text/plain": [
       "True"
      ]
     },
     "execution_count": 18,
     "metadata": {},
     "output_type": "execute_result"
    }
   ],
   "source": [
    "s1=[1,2,3]\n",
    "s2=s1\n",
    "s1 is s2"
   ]
  },
  {
   "cell_type": "code",
   "execution_count": 19,
   "metadata": {},
   "outputs": [],
   "source": [
    "s2.extend([4,5])"
   ]
  },
  {
   "cell_type": "code",
   "execution_count": 20,
   "metadata": {},
   "outputs": [
    {
     "data": {
      "text/plain": [
       "5"
      ]
     },
     "execution_count": 20,
     "metadata": {},
     "output_type": "execute_result"
    }
   ],
   "source": [
    "s1[4]"
   ]
  },
  {
   "cell_type": "code",
   "execution_count": 21,
   "metadata": {},
   "outputs": [],
   "source": [
    "s1.append([-1,0,1])"
   ]
  },
  {
   "cell_type": "code",
   "execution_count": 22,
   "metadata": {},
   "outputs": [
    {
     "data": {
      "text/plain": [
       "[1, 2, 3, 4, 5, [-1, 0, 1]]"
      ]
     },
     "execution_count": 22,
     "metadata": {},
     "output_type": "execute_result"
    }
   ],
   "source": [
    "s1"
   ]
  },
  {
   "cell_type": "code",
   "execution_count": 23,
   "metadata": {},
   "outputs": [
    {
     "data": {
      "text/plain": [
       "[-1, 0, 1]"
      ]
     },
     "execution_count": 23,
     "metadata": {},
     "output_type": "execute_result"
    }
   ],
   "source": [
    "s2[5]"
   ]
  },
  {
   "cell_type": "code",
   "execution_count": 24,
   "metadata": {},
   "outputs": [
    {
     "data": {
      "text/plain": [
       "5"
      ]
     },
     "execution_count": 24,
     "metadata": {},
     "output_type": "execute_result"
    }
   ],
   "source": [
    "s3 = s2[:]\n",
    "s3.insert(3,s2.pop(3))\n",
    "len(s1)"
   ]
  },
  {
   "cell_type": "code",
   "execution_count": 25,
   "metadata": {},
   "outputs": [
    {
     "data": {
      "text/plain": [
       "True"
      ]
     },
     "execution_count": 25,
     "metadata": {},
     "output_type": "execute_result"
    }
   ],
   "source": [
    "s1[4] is s3[6]"
   ]
  },
  {
   "cell_type": "code",
   "execution_count": 26,
   "metadata": {},
   "outputs": [
    {
     "data": {
      "text/plain": [
       "1"
      ]
     },
     "execution_count": 26,
     "metadata": {},
     "output_type": "execute_result"
    }
   ],
   "source": [
    "s3[s2[4][1]]"
   ]
  },
  {
   "cell_type": "code",
   "execution_count": 27,
   "metadata": {},
   "outputs": [
    {
     "data": {
      "text/plain": [
       "False"
      ]
     },
     "execution_count": 27,
     "metadata": {},
     "output_type": "execute_result"
    }
   ],
   "source": [
    "s1[:3] is s2[:3]"
   ]
  },
  {
   "cell_type": "code",
   "execution_count": 28,
   "metadata": {},
   "outputs": [
    {
     "data": {
      "text/plain": [
       "2"
      ]
     },
     "execution_count": 28,
     "metadata": {},
     "output_type": "execute_result"
    }
   ],
   "source": [
    "s1[4].append(2)\n",
    "s3[6][3]"
   ]
  },
  {
   "attachments": {},
   "cell_type": "markdown",
   "metadata": {},
   "source": [
    "## Add This Many"
   ]
  },
  {
   "cell_type": "code",
   "execution_count": null,
   "metadata": {},
   "outputs": [],
   "source": [
    "def add_this_many(x, el, s):\n",
    "    \"\"\" Adds el to the end of s the number of times x occurs in s.\n",
    "    >>> s = [1, 2, 4, 2, 1]\n",
    "    >>> add_this_many(1, 5, s)\n",
    "    >>> s\n",
    "    [1, 2, 4, 2, 1, 5, 5]\n",
    "    >>> add_this_many(2, 2, s)\n",
    "    >>> s\n",
    "    [1, 2, 4, 2, 1, 5, 5, 2, 2]\n",
    "    \"\"\"\n",
    "    \"*** YOUR CODE HERE ***\"\n",
    "    flag =0\n",
    "    for item in s:\n",
    "        if item == x:\n",
    "            flag +=1\n",
    "    return s.extend([el]*flag)\n"
   ]
  },
  {
   "cell_type": "code",
   "execution_count": 29,
   "metadata": {},
   "outputs": [
    {
     "data": {
      "text/plain": [
       "'c'"
      ]
     },
     "execution_count": 29,
     "metadata": {},
     "output_type": "execute_result"
    }
   ],
   "source": [
    "s='cs61a'\n",
    "s_iter = iter(s)\n",
    "next(s_iter)"
   ]
  },
  {
   "cell_type": "code",
   "execution_count": 30,
   "metadata": {},
   "outputs": [
    {
     "data": {
      "text/plain": [
       "'s'"
      ]
     },
     "execution_count": 30,
     "metadata": {},
     "output_type": "execute_result"
    }
   ],
   "source": [
    "next(s_iter)"
   ]
  },
  {
   "cell_type": "code",
   "execution_count": 31,
   "metadata": {},
   "outputs": [
    {
     "data": {
      "text/plain": [
       "['6', '1', 'a']"
      ]
     },
     "execution_count": 31,
     "metadata": {},
     "output_type": "execute_result"
    }
   ],
   "source": [
    "list(s_iter)"
   ]
  },
  {
   "cell_type": "code",
   "execution_count": 32,
   "metadata": {},
   "outputs": [
    {
     "data": {
      "text/plain": [
       "1"
      ]
     },
     "execution_count": 32,
     "metadata": {},
     "output_type": "execute_result"
    }
   ],
   "source": [
    "s= [[1,2,3,4]]\n",
    "i = iter(s)\n",
    "j = iter(next(i))\n",
    "next(j)"
   ]
  },
  {
   "cell_type": "code",
   "execution_count": 33,
   "metadata": {},
   "outputs": [
    {
     "data": {
      "text/plain": [
       "5"
      ]
     },
     "execution_count": 33,
     "metadata": {},
     "output_type": "execute_result"
    }
   ],
   "source": [
    "s.append(5)\n",
    "next(i)"
   ]
  },
  {
   "cell_type": "code",
   "execution_count": 34,
   "metadata": {},
   "outputs": [
    {
     "data": {
      "text/plain": [
       "2"
      ]
     },
     "execution_count": 34,
     "metadata": {},
     "output_type": "execute_result"
    }
   ],
   "source": [
    "next(j)"
   ]
  },
  {
   "cell_type": "code",
   "execution_count": 35,
   "metadata": {},
   "outputs": [
    {
     "data": {
      "text/plain": [
       "[3, 4]"
      ]
     },
     "execution_count": 35,
     "metadata": {},
     "output_type": "execute_result"
    }
   ],
   "source": [
    "list(j)"
   ]
  },
  {
   "cell_type": "code",
   "execution_count": 36,
   "metadata": {},
   "outputs": [
    {
     "ename": "StopIteration",
     "evalue": "",
     "output_type": "error",
     "traceback": [
      "\u001b[1;31m---------------------------------------------------------------------------\u001b[0m",
      "\u001b[1;31mStopIteration\u001b[0m                             Traceback (most recent call last)",
      "\u001b[1;32m~\\AppData\\Local\\Temp\\ipykernel_16768\\1939748483.py\u001b[0m in \u001b[0;36m<module>\u001b[1;34m\u001b[0m\n\u001b[1;32m----> 1\u001b[1;33m \u001b[0mnext\u001b[0m\u001b[1;33m(\u001b[0m\u001b[0mi\u001b[0m\u001b[1;33m)\u001b[0m\u001b[1;33m\u001b[0m\u001b[1;33m\u001b[0m\u001b[0m\n\u001b[0m",
      "\u001b[1;31mStopIteration\u001b[0m: "
     ]
    }
   ],
   "source": [
    "next(i)"
   ]
  },
  {
   "cell_type": "code",
   "execution_count": 37,
   "metadata": {},
   "outputs": [],
   "source": [
    "def infinite_generator(n):\n",
    "    yield n\n",
    "    while True:\n",
    "        n+=1\n",
    "        yield n"
   ]
  },
  {
   "cell_type": "code",
   "execution_count": 40,
   "metadata": {},
   "outputs": [
    {
     "ename": "TypeError",
     "evalue": "'function' object is not an iterator",
     "output_type": "error",
     "traceback": [
      "\u001b[1;31m---------------------------------------------------------------------------\u001b[0m",
      "\u001b[1;31mTypeError\u001b[0m                                 Traceback (most recent call last)",
      "\u001b[1;32m~\\AppData\\Local\\Temp\\ipykernel_16768\\1476305190.py\u001b[0m in \u001b[0;36m<module>\u001b[1;34m\u001b[0m\n\u001b[1;32m----> 1\u001b[1;33m \u001b[0mnext\u001b[0m\u001b[1;33m(\u001b[0m\u001b[0minfinite_generator\u001b[0m\u001b[1;33m)\u001b[0m\u001b[1;33m\u001b[0m\u001b[1;33m\u001b[0m\u001b[0m\n\u001b[0m",
      "\u001b[1;31mTypeError\u001b[0m: 'function' object is not an iterator"
     ]
    }
   ],
   "source": [
    "next(infinite_generator)"
   ]
  },
  {
   "cell_type": "code",
   "execution_count": 41,
   "metadata": {},
   "outputs": [],
   "source": [
    "gen_obj = infinite_generator(1)"
   ]
  },
  {
   "cell_type": "code",
   "execution_count": 42,
   "metadata": {},
   "outputs": [
    {
     "data": {
      "text/plain": [
       "1"
      ]
     },
     "execution_count": 42,
     "metadata": {},
     "output_type": "execute_result"
    }
   ],
   "source": [
    "next(gen_obj)"
   ]
  },
  {
   "cell_type": "code",
   "execution_count": 43,
   "metadata": {},
   "outputs": [
    {
     "data": {
      "text/plain": [
       "2"
      ]
     },
     "execution_count": 43,
     "metadata": {},
     "output_type": "execute_result"
    }
   ],
   "source": [
    "next(gen_obj)\n"
   ]
  },
  {
   "cell_type": "code",
   "execution_count": 44,
   "metadata": {},
   "outputs": [
    {
     "ename": "KeyboardInterrupt",
     "evalue": "",
     "output_type": "error",
     "traceback": [
      "\u001b[1;31m---------------------------------------------------------------------------\u001b[0m",
      "\u001b[1;31mKeyboardInterrupt\u001b[0m                         Traceback (most recent call last)",
      "\u001b[1;32m~\\AppData\\Local\\Temp\\ipykernel_16768\\70810004.py\u001b[0m in \u001b[0;36m<module>\u001b[1;34m\u001b[0m\n\u001b[1;32m----> 1\u001b[1;33m \u001b[0mlist\u001b[0m\u001b[1;33m(\u001b[0m\u001b[0mgen_obj\u001b[0m\u001b[1;33m)\u001b[0m\u001b[1;33m\u001b[0m\u001b[1;33m\u001b[0m\u001b[0m\n\u001b[0m",
      "\u001b[1;32m~\\AppData\\Local\\Temp\\ipykernel_16768\\1363023900.py\u001b[0m in \u001b[0;36minfinite_generator\u001b[1;34m(n)\u001b[0m\n\u001b[0;32m      3\u001b[0m     \u001b[1;32mwhile\u001b[0m \u001b[1;32mTrue\u001b[0m\u001b[1;33m:\u001b[0m\u001b[1;33m\u001b[0m\u001b[1;33m\u001b[0m\u001b[0m\n\u001b[0;32m      4\u001b[0m         \u001b[0mn\u001b[0m\u001b[1;33m+=\u001b[0m\u001b[1;36m1\u001b[0m\u001b[1;33m\u001b[0m\u001b[1;33m\u001b[0m\u001b[0m\n\u001b[1;32m----> 5\u001b[1;33m         \u001b[1;32myield\u001b[0m \u001b[0mn\u001b[0m\u001b[1;33m\u001b[0m\u001b[1;33m\u001b[0m\u001b[0m\n\u001b[0m",
      "\u001b[1;31mKeyboardInterrupt\u001b[0m: "
     ]
    }
   ],
   "source": [
    "list(gen_obj)"
   ]
  },
  {
   "cell_type": "code",
   "execution_count": 45,
   "metadata": {},
   "outputs": [],
   "source": [
    "def rev_str(s):\n",
    "    for i in range(len(s)):\n",
    "        yield from s[i::-1]"
   ]
  },
  {
   "cell_type": "code",
   "execution_count": 84,
   "metadata": {},
   "outputs": [],
   "source": [
    "hey = rev_str(\"hey\")"
   ]
  },
  {
   "cell_type": "code",
   "execution_count": 85,
   "metadata": {},
   "outputs": [
    {
     "data": {
      "text/plain": [
       "'h'"
      ]
     },
     "execution_count": 85,
     "metadata": {},
     "output_type": "execute_result"
    }
   ],
   "source": [
    "next(hey)\n"
   ]
  },
  {
   "cell_type": "code",
   "execution_count": 86,
   "metadata": {},
   "outputs": [
    {
     "data": {
      "text/plain": [
       "'e'"
      ]
     },
     "execution_count": 86,
     "metadata": {},
     "output_type": "execute_result"
    }
   ],
   "source": [
    "next(hey)"
   ]
  },
  {
   "cell_type": "code",
   "execution_count": 87,
   "metadata": {},
   "outputs": [
    {
     "data": {
      "text/plain": [
       "'h'"
      ]
     },
     "execution_count": 87,
     "metadata": {},
     "output_type": "execute_result"
    }
   ],
   "source": [
    "next(hey)\n"
   ]
  },
  {
   "cell_type": "code",
   "execution_count": 88,
   "metadata": {},
   "outputs": [
    {
     "data": {
      "text/plain": [
       "['y', 'e', 'h']"
      ]
     },
     "execution_count": 88,
     "metadata": {},
     "output_type": "execute_result"
    }
   ],
   "source": [
    "list(hey)\n"
   ]
  },
  {
   "cell_type": "code",
   "execution_count": 74,
   "metadata": {},
   "outputs": [
    {
     "data": {
      "text/plain": [
       "'e'"
      ]
     },
     "execution_count": 74,
     "metadata": {},
     "output_type": "execute_result"
    }
   ],
   "source": [
    "next(hey)\n"
   ]
  },
  {
   "cell_type": "code",
   "execution_count": 75,
   "metadata": {},
   "outputs": [
    {
     "data": {
      "text/plain": [
       "'h'"
      ]
     },
     "execution_count": 75,
     "metadata": {},
     "output_type": "execute_result"
    }
   ],
   "source": [
    "next(hey)\n"
   ]
  },
  {
   "cell_type": "code",
   "execution_count": 76,
   "metadata": {},
   "outputs": [
    {
     "ename": "StopIteration",
     "evalue": "",
     "output_type": "error",
     "traceback": [
      "\u001b[1;31m---------------------------------------------------------------------------\u001b[0m",
      "\u001b[1;31mStopIteration\u001b[0m                             Traceback (most recent call last)",
      "\u001b[1;32m~\\AppData\\Local\\Temp\\ipykernel_16768\\4256087679.py\u001b[0m in \u001b[0;36m<module>\u001b[1;34m\u001b[0m\n\u001b[1;32m----> 1\u001b[1;33m \u001b[0mnext\u001b[0m\u001b[1;33m(\u001b[0m\u001b[0mhey\u001b[0m\u001b[1;33m)\u001b[0m\u001b[1;33m\u001b[0m\u001b[1;33m\u001b[0m\u001b[0m\n\u001b[0m",
      "\u001b[1;31mStopIteration\u001b[0m: "
     ]
    }
   ],
   "source": [
    "next(hey)\n"
   ]
  },
  {
   "cell_type": "code",
   "execution_count": 77,
   "metadata": {},
   "outputs": [],
   "source": [
    "a=[1,2,3]"
   ]
  },
  {
   "cell_type": "code",
   "execution_count": 83,
   "metadata": {},
   "outputs": [
    {
     "data": {
      "text/plain": [
       "[1]"
      ]
     },
     "execution_count": 83,
     "metadata": {},
     "output_type": "execute_result"
    }
   ],
   "source": [
    "a[0::-1]"
   ]
  },
  {
   "cell_type": "code",
   "execution_count": 89,
   "metadata": {},
   "outputs": [],
   "source": [
    "def add_prefix(s,pre):\n",
    "    if not pre:\n",
    "        return \n",
    "    yield pre[0]+s\n",
    "    yield from add_prefix(s,pre[1:])"
   ]
  },
  {
   "cell_type": "code",
   "execution_count": 90,
   "metadata": {},
   "outputs": [],
   "source": [
    "school = add_prefix(\"schooler\", [\"pre\", \"middle\", \"high\"])"
   ]
  },
  {
   "cell_type": "code",
   "execution_count": 91,
   "metadata": {},
   "outputs": [
    {
     "data": {
      "text/plain": [
       "'preschooler'"
      ]
     },
     "execution_count": 91,
     "metadata": {},
     "output_type": "execute_result"
    }
   ],
   "source": [
    "next(school)"
   ]
  },
  {
   "cell_type": "code",
   "execution_count": 92,
   "metadata": {},
   "outputs": [
    {
     "data": {
      "text/plain": [
       "['middleschool', 'highschool']"
      ]
     },
     "execution_count": 92,
     "metadata": {},
     "output_type": "execute_result"
    }
   ],
   "source": [
    "list(map(lambda x: x[:-2], school))"
   ]
  },
  {
   "attachments": {},
   "cell_type": "markdown",
   "metadata": {},
   "source": [
    "## Q5  Filter-Ite\n"
   ]
  },
  {
   "cell_type": "code",
   "execution_count": null,
   "metadata": {},
   "outputs": [],
   "source": [
    "def filter_iter(iterable, f):\n",
    "    \"\"\"\n",
    "    >>> is_even = lambda x: x % 2 == 0\n",
    "    >>> list(filter_iter(range(5), is_even)) # a list of the values yielded from the call to filter_iter\n",
    "    [0, 2, 4]\n",
    "    >>> all_odd = (2*y-1 for y in range(5))\n",
    "    >>> list(filter_iter(all_odd, is_even))\n",
    "    []\n",
    "    >>> naturals = (n for n in range(1, 100))\n",
    "    >>> s = filter_iter(naturals, is_even)\n",
    "    >>> next(s)\n",
    "    2\n",
    "    >>> next(s)\n",
    "    4\n",
    "    \"\"\"\n",
    "    \"*** YOUR CODE HERE ***\"\n",
    "    for item in iterable:\n",
    "        if f(item):\n",
    "            yield item\n",
    "    \n",
    "\n"
   ]
  },
  {
   "attachments": {},
   "cell_type": "markdown",
   "metadata": {},
   "source": [
    "## Q6 Primes Generator"
   ]
  },
  {
   "cell_type": "code",
   "execution_count": null,
   "metadata": {},
   "outputs": [],
   "source": [
    "def is_prime(n):\n",
    "    \"\"\"Returns True if n is a prime number and False otherwise.\n",
    "    >>> is_prime(2)\n",
    "    True\n",
    "    >>> is_prime(16)\n",
    "    False\n",
    "    >>> is_prime(521)\n",
    "    True\n",
    "    \"\"\"\n",
    "    def helper(i):\n",
    "        if i > (n ** 0.5): # Could replace with i == n\n",
    "            return True\n",
    "        elif n % i == 0:\n",
    "            return False\n",
    "        return helper(i + 1)\n",
    "    return helper(2)\n",
    "\n",
    "def primes_gen(n):\n",
    "    \"\"\"Generates primes in decreasing order.\n",
    "    >>> pg = primes_gen(7)\n",
    "    >>> list(pg)\n",
    "    [7, 5, 3, 2]\n",
    "    \"\"\"\n",
    "    \"*** YOUR CODE HERE ***\"\n",
    "    list = []\n",
    "    for i in range(n+1,1,-1):\n",
    "        if is_prime(i):\n",
    "            list.append(i)\n",
    "    return list\n",
    "    \n"
   ]
  },
  {
   "cell_type": "code",
   "execution_count": null,
   "metadata": {},
   "outputs": [],
   "source": [
    "def is_prime(n):\n",
    "    \"\"\"Returns True if n is a prime number and False otherwise.\n",
    "    >>> is_prime(2)\n",
    "    True\n",
    "    >>> is_prime(16)\n",
    "    False\n",
    "    >>> is_prime(521)\n",
    "    True\n",
    "    \"\"\"\n",
    "    def helper(i):\n",
    "        if i > (n ** 0.5): # Could replace with i == n\n",
    "            return True\n",
    "        elif n % i == 0:\n",
    "            return False\n",
    "        return helper(i + 1)\n",
    "    return helper(2)\n",
    "\n",
    "def primes_gen(n):\n",
    "    \"\"\"Generates primes in decreasing order.\n",
    "    >>> pg = primes_gen(7)\n",
    "    >>> list(pg)\n",
    "    [7, 5, 3, 2]\n",
    "    \"\"\"\n",
    "    if n<=1:\n",
    "        return\n",
    "    if is_prime(n):\n",
    "        yield n\n",
    "    yield from primes_gen(n-1)\n",
    "\n"
   ]
  },
  {
   "attachments": {},
   "cell_type": "markdown",
   "metadata": {},
   "source": [
    "## Q7 Generate Preorder"
   ]
  },
  {
   "cell_type": "code",
   "execution_count": null,
   "metadata": {},
   "outputs": [],
   "source": [
    "def preorder(t):\n",
    "    \"\"\"Return a list of the entries in this tree in the order that they\n",
    "    would be visited by a preorder traversal (see problem description).\n",
    "\n",
    "    >>> numbers = tree(1, [tree(2), tree(3, [tree(4), tree(5)]), tree(6, [tree(7)])])\n",
    "    >>> preorder(numbers)\n",
    "    [1, 2, 3, 4, 5, 6, 7]\n",
    "    >>> preorder(tree(2, [tree(4, [tree(6)])]))\n",
    "    [2, 4, 6]\n",
    "    \"\"\"\n",
    "    \"*** YOUR CODE HERE ***\"\n",
    "    if is_leaf(t):\n",
    "        return [label(t)]\n",
    "    else:\n",
    "        return [label(t)] + sum([preorder(b) for b in branches(t)],[])\n",
    "\n"
   ]
  },
  {
   "cell_type": "code",
   "execution_count": null,
   "metadata": {},
   "outputs": [],
   "source": [
    "def generate_preorder(t):\n",
    "    \"\"\"Yield the entries in this tree in the order that they\n",
    "    would be visited by a preorder traversal (see problem description).\n",
    "\n",
    "    >>> numbers = tree(1, [tree(2), tree(3, [tree(4), tree(5)]), tree(6, [tree(7)])])\n",
    "    >>> gen = generate_preorder(numbers)\n",
    "    >>> next(gen)\n",
    "    1\n",
    "    >>> list(gen)\n",
    "    [2, 3, 4, 5, 6, 7]\n",
    "    \"\"\"\n",
    "    \"*** YOUR CODE HERE ***\"\n",
    "    yield label(t)\n",
    "    for b in branches(t):\n",
    "        yield from generate_preorder(b)\n",
    "\n"
   ]
  },
  {
   "attachments": {},
   "cell_type": "markdown",
   "metadata": {},
   "source": [
    "## Mystery Reverse Environment Diagram"
   ]
  },
  {
   "cell_type": "code",
   "execution_count": null,
   "metadata": {},
   "outputs": [],
   "source": [
    "def mystery(p, q):\n",
    "    p[1].extend(q)\n",
    "    q.append(p[1:])\n",
    "\n",
    "p = [2, 3]\n",
    "q = [4, [p]]\n",
    "mystery(q,p)\n",
    "\n"
   ]
  }
 ],
 "metadata": {
  "kernelspec": {
   "display_name": "meachinelearning",
   "language": "python",
   "name": "python3"
  },
  "language_info": {
   "codemirror_mode": {
    "name": "ipython",
    "version": 3
   },
   "file_extension": ".py",
   "mimetype": "text/x-python",
   "name": "python",
   "nbconvert_exporter": "python",
   "pygments_lexer": "ipython3",
   "version": "3.7.6"
  },
  "orig_nbformat": 4
 },
 "nbformat": 4,
 "nbformat_minor": 2
}
