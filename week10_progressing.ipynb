{
 "cells": [
  {
   "cell_type": "code",
   "execution_count": 6,
   "metadata": {},
   "outputs": [],
   "source": [
    "class Tree:\n",
    "    def __init__(self,label):\n",
    "        self.label = label\n",
    "        self.branches = []\n",
    "\n",
    "    def add_child(self,val):\n",
    "        if not self.branches:\n",
    "            self.branches = [Tree(val)]\n",
    "        else:\n",
    "            self.branches.append(Tree(val))\n",
    "\n",
    "    def get_subtree(self,num):\n",
    "        if self.branches and num<len(self.branches):\n",
    "            return self.branches[num]\n",
    "        else:\n",
    "            return None\n",
    "        \n",
    "    def __repr__(self):\n",
    "        if self.branches:\n",
    "            return 'T[{0},{1}]'.format(self.label,repr(self.branches))\n",
    "        else:\n",
    "            return 'T[{0}]'.format(repr(self.label))\n",
    "        \n"
   ]
  },
  {
   "cell_type": "code",
   "execution_count": null,
   "metadata": {},
   "outputs": [],
   "source": []
  },
  {
   "cell_type": "code",
   "execution_count": 7,
   "metadata": {},
   "outputs": [],
   "source": [
    "t = Tree(3)\n",
    "t.add_child(1)\n",
    "t.add_child(2)\n",
    "c = t.get_subtree(1)"
   ]
  },
  {
   "cell_type": "code",
   "execution_count": 8,
   "metadata": {},
   "outputs": [
    {
     "name": "stdout",
     "output_type": "stream",
     "text": [
      "T[2]\n"
     ]
    }
   ],
   "source": [
    "print(c)"
   ]
  },
  {
   "cell_type": "code",
   "execution_count": 9,
   "metadata": {},
   "outputs": [],
   "source": [
    "c.add_child(4)\n",
    "c.add_child(5)"
   ]
  },
  {
   "cell_type": "code",
   "execution_count": 10,
   "metadata": {},
   "outputs": [
    {
     "name": "stdout",
     "output_type": "stream",
     "text": [
      "T[2,[T[4], T[5]]]\n"
     ]
    }
   ],
   "source": [
    "print(c)"
   ]
  },
  {
   "cell_type": "code",
   "execution_count": 11,
   "metadata": {},
   "outputs": [
    {
     "name": "stdout",
     "output_type": "stream",
     "text": [
      "T[3,[T[1], T[2,[T[4], T[5]]]]]\n"
     ]
    }
   ],
   "source": [
    "print(t)"
   ]
  },
  {
   "cell_type": "code",
   "execution_count": 12,
   "metadata": {},
   "outputs": [],
   "source": [
    "# 二叉树\n",
    "class Node:\n",
    "    def __init__(self,data):\n",
    "        self.label = data\n",
    "        self.left = None\n",
    "        self.right =None"
   ]
  },
  {
   "cell_type": "code",
   "execution_count": 13,
   "metadata": {},
   "outputs": [],
   "source": [
    "root  = Node(1)"
   ]
  },
  {
   "cell_type": "code",
   "execution_count": 14,
   "metadata": {},
   "outputs": [],
   "source": [
    "root.left = Node(2)"
   ]
  },
  {
   "cell_type": "code",
   "execution_count": 15,
   "metadata": {},
   "outputs": [],
   "source": [
    "root.right = Node(3)"
   ]
  },
  {
   "cell_type": "code",
   "execution_count": 16,
   "metadata": {},
   "outputs": [],
   "source": [
    "root.left.left = Node(4)"
   ]
  },
  {
   "cell_type": "code",
   "execution_count": 17,
   "metadata": {},
   "outputs": [],
   "source": [
    "root.left.right = Node(5)"
   ]
  },
  {
   "cell_type": "code",
   "execution_count": 1,
   "metadata": {},
   "outputs": [],
   "source": [
    "class Link:\n",
    "    empty = ()\n",
    "    def __init__(self,first,rest=empty):\n",
    "        assert rest is Link.empty or isinstance(rest,Link)\n",
    "        self.first = first\n",
    "        self.rest = rest\n",
    "    \n",
    "    def insertAfter(self,l):\n",
    "        temp = self.rest\n",
    "        self.rest = l\n",
    "        l.next = temp\n",
    "\n",
    "    def __getitem__(self,i):\n",
    "        if i==0:\n",
    "            return self.first\n",
    "        else:\n",
    "            return self.rest[i-1]\n",
    "        \n",
    "    def __len__(self):\n",
    "        return 1 + len(self.rest)"
   ]
  },
  {
   "cell_type": "code",
   "execution_count": 2,
   "metadata": {},
   "outputs": [],
   "source": [
    "L = Link(0)\n",
    "L1 = Link(1)\n",
    "L2 = Link(2)"
   ]
  },
  {
   "cell_type": "code",
   "execution_count": 3,
   "metadata": {},
   "outputs": [],
   "source": [
    "L.rest = L1\n",
    "L1.rest = L2"
   ]
  },
  {
   "cell_type": "code",
   "execution_count": 4,
   "metadata": {},
   "outputs": [],
   "source": [
    "L = Link(0,Link(1,Link(2)))"
   ]
  },
  {
   "cell_type": "code",
   "execution_count": 5,
   "metadata": {},
   "outputs": [
    {
     "ename": "NameError",
     "evalue": "name 'empty' is not defined",
     "output_type": "error",
     "traceback": [
      "\u001b[1;31m---------------------------------------------------------------------------\u001b[0m",
      "\u001b[1;31mNameError\u001b[0m                                 Traceback (most recent call last)",
      "\u001b[1;32me:\\收藏夹\\cs61a\\week1\\week10_progressing.ipynb 单元格 18\u001b[0m in \u001b[0;36m<cell line: 2>\u001b[1;34m()\u001b[0m\n\u001b[0;32m      <a href='vscode-notebook-cell:/e%3A/%E6%94%B6%E8%97%8F%E5%A4%B9/cs61a/week1/week10_progressing.ipynb#X23sZmlsZQ%3D%3D?line=0'>1</a>\u001b[0m l\u001b[39m=\u001b[39mL\n\u001b[1;32m----> <a href='vscode-notebook-cell:/e%3A/%E6%94%B6%E8%97%8F%E5%A4%B9/cs61a/week1/week10_progressing.ipynb#X23sZmlsZQ%3D%3D?line=1'>2</a>\u001b[0m \u001b[39mwhile\u001b[39;00m l\u001b[39m!=\u001b[39mempty:\n\u001b[0;32m      <a href='vscode-notebook-cell:/e%3A/%E6%94%B6%E8%97%8F%E5%A4%B9/cs61a/week1/week10_progressing.ipynb#X23sZmlsZQ%3D%3D?line=2'>3</a>\u001b[0m     \u001b[39mprint\u001b[39m(l\u001b[39m.\u001b[39mfirst)\n\u001b[0;32m      <a href='vscode-notebook-cell:/e%3A/%E6%94%B6%E8%97%8F%E5%A4%B9/cs61a/week1/week10_progressing.ipynb#X23sZmlsZQ%3D%3D?line=3'>4</a>\u001b[0m     l\u001b[39m=\u001b[39ml\u001b[39m.\u001b[39mrest\n",
      "\u001b[1;31mNameError\u001b[0m: name 'empty' is not defined"
     ]
    }
   ],
   "source": [
    "l=L\n",
    "while l!=empty:\n",
    "    print(l.first)\n",
    "    l=l.rest"
   ]
  },
  {
   "cell_type": "code",
   "execution_count": 6,
   "metadata": {},
   "outputs": [
    {
     "name": "stdout",
     "output_type": "stream",
     "text": [
      "0\n"
     ]
    }
   ],
   "source": [
    "print(l.first)"
   ]
  },
  {
   "cell_type": "code",
   "execution_count": 11,
   "metadata": {},
   "outputs": [],
   "source": [
    "L = Link(\"A\")"
   ]
  },
  {
   "cell_type": "code",
   "execution_count": 12,
   "metadata": {},
   "outputs": [],
   "source": [
    "L.insertAfter(Link(\"B\"))"
   ]
  },
  {
   "cell_type": "code",
   "execution_count": 10,
   "metadata": {},
   "outputs": [],
   "source": [
    "L.insertAfter(Link(\"AA\"))"
   ]
  },
  {
   "cell_type": "code",
   "execution_count": 13,
   "metadata": {},
   "outputs": [],
   "source": [
    "L.rest.insertAfter(Link(\"AA\"))"
   ]
  },
  {
   "cell_type": "code",
   "execution_count": 2,
   "metadata": {},
   "outputs": [],
   "source": [
    "s = Link(3,Link(4,Link(5)))"
   ]
  },
  {
   "cell_type": "code",
   "execution_count": 3,
   "metadata": {},
   "outputs": [
    {
     "data": {
      "text/plain": [
       "3"
      ]
     },
     "execution_count": 3,
     "metadata": {},
     "output_type": "execute_result"
    }
   ],
   "source": [
    "len(s)"
   ]
  },
  {
   "cell_type": "code",
   "execution_count": 4,
   "metadata": {},
   "outputs": [
    {
     "data": {
      "text/plain": [
       "4"
      ]
     },
     "execution_count": 4,
     "metadata": {},
     "output_type": "execute_result"
    }
   ],
   "source": [
    "s[1]"
   ]
  },
  {
   "cell_type": "code",
   "execution_count": 5,
   "metadata": {},
   "outputs": [
    {
     "data": {
      "text/plain": [
       "5"
      ]
     },
     "execution_count": 5,
     "metadata": {},
     "output_type": "execute_result"
    }
   ],
   "source": [
    "s[2]"
   ]
  },
  {
   "cell_type": "code",
   "execution_count": 8,
   "metadata": {},
   "outputs": [],
   "source": [
    "def link_expression(s):\n",
    "    if s.rest is Link.empty:\n",
    "        rest = ''\n",
    "    else:\n",
    "        rest = ', '+ link_expression(s.rest)\n",
    "    return 'Link({0}{1})'.format(s.first,rest)"
   ]
  },
  {
   "cell_type": "code",
   "execution_count": 9,
   "metadata": {},
   "outputs": [
    {
     "data": {
      "text/plain": [
       "'Link(3, Link(4, Link(5)))'"
      ]
     },
     "execution_count": 9,
     "metadata": {},
     "output_type": "execute_result"
    }
   ],
   "source": [
    "link_expression(s)"
   ]
  },
  {
   "cell_type": "code",
   "execution_count": 10,
   "metadata": {},
   "outputs": [],
   "source": [
    "Link.__repr__ = link_expression"
   ]
  },
  {
   "cell_type": "code",
   "execution_count": 11,
   "metadata": {},
   "outputs": [
    {
     "data": {
      "text/plain": [
       "Link(3, Link(4, Link(5)))"
      ]
     },
     "execution_count": 11,
     "metadata": {},
     "output_type": "execute_result"
    }
   ],
   "source": [
    "s"
   ]
  },
  {
   "cell_type": "code",
   "execution_count": 12,
   "metadata": {},
   "outputs": [],
   "source": [
    "s_first = Link(s,Link(6))"
   ]
  },
  {
   "cell_type": "code",
   "execution_count": 13,
   "metadata": {},
   "outputs": [
    {
     "data": {
      "text/plain": [
       "Link(Link(3, Link(4, Link(5))), Link(6))"
      ]
     },
     "execution_count": 13,
     "metadata": {},
     "output_type": "execute_result"
    }
   ],
   "source": [
    "s_first"
   ]
  },
  {
   "cell_type": "code",
   "execution_count": 14,
   "metadata": {},
   "outputs": [
    {
     "data": {
      "text/plain": [
       "2"
      ]
     },
     "execution_count": 14,
     "metadata": {},
     "output_type": "execute_result"
    }
   ],
   "source": [
    "len(s_first)"
   ]
  },
  {
   "cell_type": "code",
   "execution_count": 15,
   "metadata": {},
   "outputs": [
    {
     "data": {
      "text/plain": [
       "3"
      ]
     },
     "execution_count": 15,
     "metadata": {},
     "output_type": "execute_result"
    }
   ],
   "source": [
    "len(s_first[0])"
   ]
  },
  {
   "cell_type": "code",
   "execution_count": 16,
   "metadata": {},
   "outputs": [
    {
     "data": {
      "text/plain": [
       "Link(3, Link(4, Link(5)))"
      ]
     },
     "execution_count": 16,
     "metadata": {},
     "output_type": "execute_result"
    }
   ],
   "source": [
    "s_first[0]"
   ]
  },
  {
   "cell_type": "code",
   "execution_count": 17,
   "metadata": {},
   "outputs": [
    {
     "data": {
      "text/plain": [
       "5"
      ]
     },
     "execution_count": 17,
     "metadata": {},
     "output_type": "execute_result"
    }
   ],
   "source": [
    "s_first[0][2]"
   ]
  },
  {
   "cell_type": "code",
   "execution_count": 18,
   "metadata": {},
   "outputs": [],
   "source": [
    "def extend_link(s,t):\n",
    "    if s is Link.empty:\n",
    "        return t\n",
    "    else:\n",
    "        return Link(s.first,extend_link(s.rest,t))"
   ]
  },
  {
   "cell_type": "code",
   "execution_count": 19,
   "metadata": {},
   "outputs": [
    {
     "data": {
      "text/plain": [
       "Link(3, Link(4, Link(5, Link(3, Link(4, Link(5))))))"
      ]
     },
     "execution_count": 19,
     "metadata": {},
     "output_type": "execute_result"
    }
   ],
   "source": [
    "extend_link(s,s)"
   ]
  },
  {
   "cell_type": "code",
   "execution_count": 20,
   "metadata": {},
   "outputs": [],
   "source": [
    "Link.__add__ = extend_link"
   ]
  },
  {
   "cell_type": "code",
   "execution_count": 21,
   "metadata": {},
   "outputs": [
    {
     "data": {
      "text/plain": [
       "Link(3, Link(4, Link(5, Link(3, Link(4, Link(5))))))"
      ]
     },
     "execution_count": 21,
     "metadata": {},
     "output_type": "execute_result"
    }
   ],
   "source": [
    "s+s"
   ]
  },
  {
   "cell_type": "code",
   "execution_count": 22,
   "metadata": {},
   "outputs": [],
   "source": [
    "def map_link(f,s):\n",
    "    if s is Link.empty:\n",
    "        return s\n",
    "    else:\n",
    "        return Link(f(s.first),map_link(f,s.rest))"
   ]
  },
  {
   "cell_type": "code",
   "execution_count": 24,
   "metadata": {},
   "outputs": [
    {
     "data": {
      "text/plain": [
       "Link(9, Link(16, Link(25)))"
      ]
     },
     "execution_count": 24,
     "metadata": {},
     "output_type": "execute_result"
    }
   ],
   "source": [
    "def square(x):\n",
    "    return x*x\n",
    "map_link(square,s)"
   ]
  },
  {
   "cell_type": "code",
   "execution_count": 28,
   "metadata": {},
   "outputs": [],
   "source": [
    "def filter_link(f,s):\n",
    "    if s is Link.empty:\n",
    "        return s\n",
    "    else:\n",
    "        flitered = filter_link(f,s.rest)\n",
    "        if f(s.first):\n",
    "            return Link(s.first,flitered)\n",
    "        else:\n",
    "            return flitered"
   ]
  },
  {
   "cell_type": "code",
   "execution_count": 29,
   "metadata": {},
   "outputs": [
    {
     "data": {
      "text/plain": [
       "Link(9, Link(25))"
      ]
     },
     "execution_count": 29,
     "metadata": {},
     "output_type": "execute_result"
    }
   ],
   "source": [
    "odd = lambda x: x%2==1\n",
    "map_link(square,filter_link(odd,s))"
   ]
  },
  {
   "cell_type": "code",
   "execution_count": 30,
   "metadata": {},
   "outputs": [
    {
     "data": {
      "text/plain": [
       "[9, 25]"
      ]
     },
     "execution_count": 30,
     "metadata": {},
     "output_type": "execute_result"
    }
   ],
   "source": [
    "[square(x) for x in [3,4,5] if odd(x)]"
   ]
  },
  {
   "cell_type": "code",
   "execution_count": 31,
   "metadata": {},
   "outputs": [],
   "source": [
    "def join_link(s,sparator):\n",
    "    if s is Link.empty:\n",
    "        return \"\"\n",
    "    elif s.rest is Link.empty:\n",
    "        return str(s.first)\n",
    "    else:\n",
    "        return str(s.first) + sparator + join_link(s.rest,sparator)"
   ]
  },
  {
   "cell_type": "code",
   "execution_count": 32,
   "metadata": {},
   "outputs": [
    {
     "data": {
      "text/plain": [
       "'3,4,5'"
      ]
     },
     "execution_count": 32,
     "metadata": {},
     "output_type": "execute_result"
    }
   ],
   "source": [
    "join_link(s, ',')"
   ]
  },
  {
   "cell_type": "code",
   "execution_count": 33,
   "metadata": {},
   "outputs": [
    {
     "data": {
      "text/plain": [
       "'3/4/5'"
      ]
     },
     "execution_count": 33,
     "metadata": {},
     "output_type": "execute_result"
    }
   ],
   "source": [
    "join_link(s, '/')"
   ]
  },
  {
   "cell_type": "code",
   "execution_count": 37,
   "metadata": {},
   "outputs": [],
   "source": [
    "def partitons(n,m):\n",
    "    if n==0:\n",
    "        return Link(Link.empty)\n",
    "    elif n<0 or m==0:\n",
    "        return Link.empty\n",
    "    else:\n",
    "        using_m = partitons(n-m,m)\n",
    "        with_m = map_link(lambda s:Link(m,s),using_m)\n",
    "        without_m = partitons(n,m-1)\n",
    "        return with_m +without_m\n",
    "    "
   ]
  },
  {
   "cell_type": "code",
   "execution_count": 38,
   "metadata": {},
   "outputs": [],
   "source": [
    "def print_partiitions(n,m):\n",
    "    lists = partitons(n,m)\n",
    "    strings  = map_link(lambda s: join_link(s,' + '),lists)\n",
    "    print(join_link(strings,\"\\n\"))"
   ]
  },
  {
   "cell_type": "code",
   "execution_count": 39,
   "metadata": {},
   "outputs": [
    {
     "ename": "TypeError",
     "evalue": "can only concatenate tuple (not \"Link\") to tuple",
     "output_type": "error",
     "traceback": [
      "\u001b[1;31m---------------------------------------------------------------------------\u001b[0m",
      "\u001b[1;31mTypeError\u001b[0m                                 Traceback (most recent call last)",
      "\u001b[1;32me:\\收藏夹\\cs61a\\week1\\week10_progressing.ipynb 单元格 52\u001b[0m in \u001b[0;36m<cell line: 1>\u001b[1;34m()\u001b[0m\n\u001b[1;32m----> <a href='vscode-notebook-cell:/e%3A/%E6%94%B6%E8%97%8F%E5%A4%B9/cs61a/week1/week10_progressing.ipynb#Y102sZmlsZQ%3D%3D?line=0'>1</a>\u001b[0m print_partiitions(\u001b[39m6\u001b[39;49m,\u001b[39m4\u001b[39;49m)\n",
      "\u001b[1;32me:\\收藏夹\\cs61a\\week1\\week10_progressing.ipynb 单元格 52\u001b[0m in \u001b[0;36mprint_partiitions\u001b[1;34m(n, m)\u001b[0m\n\u001b[0;32m      <a href='vscode-notebook-cell:/e%3A/%E6%94%B6%E8%97%8F%E5%A4%B9/cs61a/week1/week10_progressing.ipynb#Y102sZmlsZQ%3D%3D?line=0'>1</a>\u001b[0m \u001b[39mdef\u001b[39;00m \u001b[39mprint_partiitions\u001b[39m(n,m):\n\u001b[1;32m----> <a href='vscode-notebook-cell:/e%3A/%E6%94%B6%E8%97%8F%E5%A4%B9/cs61a/week1/week10_progressing.ipynb#Y102sZmlsZQ%3D%3D?line=1'>2</a>\u001b[0m     lists \u001b[39m=\u001b[39m partitons(n,m)\n\u001b[0;32m      <a href='vscode-notebook-cell:/e%3A/%E6%94%B6%E8%97%8F%E5%A4%B9/cs61a/week1/week10_progressing.ipynb#Y102sZmlsZQ%3D%3D?line=2'>3</a>\u001b[0m     strings  \u001b[39m=\u001b[39m map_link(\u001b[39mlambda\u001b[39;00m s: join_link(s,\u001b[39m'\u001b[39m\u001b[39m + \u001b[39m\u001b[39m'\u001b[39m),lists)\n\u001b[0;32m      <a href='vscode-notebook-cell:/e%3A/%E6%94%B6%E8%97%8F%E5%A4%B9/cs61a/week1/week10_progressing.ipynb#Y102sZmlsZQ%3D%3D?line=3'>4</a>\u001b[0m     \u001b[39mprint\u001b[39m(join_link(strings,\u001b[39m\"\u001b[39m\u001b[39m\\n\u001b[39;00m\u001b[39m\"\u001b[39m))\n",
      "\u001b[1;32me:\\收藏夹\\cs61a\\week1\\week10_progressing.ipynb 单元格 52\u001b[0m in \u001b[0;36mpartitons\u001b[1;34m(n, m)\u001b[0m\n\u001b[0;32m      <a href='vscode-notebook-cell:/e%3A/%E6%94%B6%E8%97%8F%E5%A4%B9/cs61a/week1/week10_progressing.ipynb#Y102sZmlsZQ%3D%3D?line=4'>5</a>\u001b[0m     \u001b[39mreturn\u001b[39;00m Link\u001b[39m.\u001b[39mempty\n\u001b[0;32m      <a href='vscode-notebook-cell:/e%3A/%E6%94%B6%E8%97%8F%E5%A4%B9/cs61a/week1/week10_progressing.ipynb#Y102sZmlsZQ%3D%3D?line=5'>6</a>\u001b[0m \u001b[39melse\u001b[39;00m:\n\u001b[1;32m----> <a href='vscode-notebook-cell:/e%3A/%E6%94%B6%E8%97%8F%E5%A4%B9/cs61a/week1/week10_progressing.ipynb#Y102sZmlsZQ%3D%3D?line=6'>7</a>\u001b[0m     using_m \u001b[39m=\u001b[39m partitons(n\u001b[39m-\u001b[39;49mm,m)\n\u001b[0;32m      <a href='vscode-notebook-cell:/e%3A/%E6%94%B6%E8%97%8F%E5%A4%B9/cs61a/week1/week10_progressing.ipynb#Y102sZmlsZQ%3D%3D?line=7'>8</a>\u001b[0m     with_m \u001b[39m=\u001b[39m map_link(\u001b[39mlambda\u001b[39;00m s:Link(m,s),using_m)\n\u001b[0;32m      <a href='vscode-notebook-cell:/e%3A/%E6%94%B6%E8%97%8F%E5%A4%B9/cs61a/week1/week10_progressing.ipynb#Y102sZmlsZQ%3D%3D?line=8'>9</a>\u001b[0m     without_m \u001b[39m=\u001b[39m partitons(n,m\u001b[39m-\u001b[39m\u001b[39m1\u001b[39m)\n",
      "\u001b[1;32me:\\收藏夹\\cs61a\\week1\\week10_progressing.ipynb 单元格 52\u001b[0m in \u001b[0;36mpartitons\u001b[1;34m(n, m)\u001b[0m\n\u001b[0;32m      <a href='vscode-notebook-cell:/e%3A/%E6%94%B6%E8%97%8F%E5%A4%B9/cs61a/week1/week10_progressing.ipynb#Y102sZmlsZQ%3D%3D?line=6'>7</a>\u001b[0m using_m \u001b[39m=\u001b[39m partitons(n\u001b[39m-\u001b[39mm,m)\n\u001b[0;32m      <a href='vscode-notebook-cell:/e%3A/%E6%94%B6%E8%97%8F%E5%A4%B9/cs61a/week1/week10_progressing.ipynb#Y102sZmlsZQ%3D%3D?line=7'>8</a>\u001b[0m with_m \u001b[39m=\u001b[39m map_link(\u001b[39mlambda\u001b[39;00m s:Link(m,s),using_m)\n\u001b[1;32m----> <a href='vscode-notebook-cell:/e%3A/%E6%94%B6%E8%97%8F%E5%A4%B9/cs61a/week1/week10_progressing.ipynb#Y102sZmlsZQ%3D%3D?line=8'>9</a>\u001b[0m without_m \u001b[39m=\u001b[39m partitons(n,m\u001b[39m-\u001b[39;49m\u001b[39m1\u001b[39;49m)\n\u001b[0;32m     <a href='vscode-notebook-cell:/e%3A/%E6%94%B6%E8%97%8F%E5%A4%B9/cs61a/week1/week10_progressing.ipynb#Y102sZmlsZQ%3D%3D?line=9'>10</a>\u001b[0m \u001b[39mreturn\u001b[39;00m with_m \u001b[39m+\u001b[39mwithout_m\n",
      "\u001b[1;32me:\\收藏夹\\cs61a\\week1\\week10_progressing.ipynb 单元格 52\u001b[0m in \u001b[0;36mpartitons\u001b[1;34m(n, m)\u001b[0m\n\u001b[0;32m      <a href='vscode-notebook-cell:/e%3A/%E6%94%B6%E8%97%8F%E5%A4%B9/cs61a/week1/week10_progressing.ipynb#Y102sZmlsZQ%3D%3D?line=7'>8</a>\u001b[0m with_m \u001b[39m=\u001b[39m map_link(\u001b[39mlambda\u001b[39;00m s:Link(m,s),using_m)\n\u001b[0;32m      <a href='vscode-notebook-cell:/e%3A/%E6%94%B6%E8%97%8F%E5%A4%B9/cs61a/week1/week10_progressing.ipynb#Y102sZmlsZQ%3D%3D?line=8'>9</a>\u001b[0m without_m \u001b[39m=\u001b[39m partitons(n,m\u001b[39m-\u001b[39m\u001b[39m1\u001b[39m)\n\u001b[1;32m---> <a href='vscode-notebook-cell:/e%3A/%E6%94%B6%E8%97%8F%E5%A4%B9/cs61a/week1/week10_progressing.ipynb#Y102sZmlsZQ%3D%3D?line=9'>10</a>\u001b[0m \u001b[39mreturn\u001b[39;00m with_m \u001b[39m+\u001b[39;49mwithout_m\n",
      "\u001b[1;31mTypeError\u001b[0m: can only concatenate tuple (not \"Link\") to tuple"
     ]
    }
   ],
   "source": [
    "print_partiitions(6,4)"
   ]
  },
  {
   "cell_type": "code",
   "execution_count": 40,
   "metadata": {},
   "outputs": [],
   "source": [
    "class Tree:\n",
    "        def __init__(self, label, branches=()):\n",
    "            self.label = label\n",
    "            for branch in branches:\n",
    "                assert isinstance(branch, Tree)\n",
    "            self.branches = branches\n",
    "        def __repr__(self):\n",
    "            if self.branches:\n",
    "                return 'Tree({0}, {1})'.format(self.label, repr(self.branches))\n",
    "            else:\n",
    "                return 'Tree({0})'.format(repr(self.label))\n",
    "        def is_leaf(self):\n",
    "            return not self.branches"
   ]
  },
  {
   "cell_type": "code",
   "execution_count": 41,
   "metadata": {},
   "outputs": [],
   "source": [
    "def fib_tree(n):\n",
    "    if n==1:\n",
    "        return Tree(0)\n",
    "    elif n==2:\n",
    "        return Tree(1)\n",
    "    else:\n",
    "        left = fib_tree(n-2)\n",
    "        right = fib_tree(n-1)\n",
    "        return Tree(left.label+right.label,(left,right))"
   ]
  },
  {
   "cell_type": "code",
   "execution_count": 42,
   "metadata": {},
   "outputs": [
    {
     "data": {
      "text/plain": [
       "Tree(3, (Tree(1, (Tree(0), Tree(1))), Tree(2, (Tree(1), Tree(1, (Tree(0), Tree(1)))))))"
      ]
     },
     "execution_count": 42,
     "metadata": {},
     "output_type": "execute_result"
    }
   ],
   "source": [
    "fib_tree(5)"
   ]
  },
  {
   "cell_type": "code",
   "execution_count": 43,
   "metadata": {},
   "outputs": [],
   "source": [
    "def sum_labels(t):\n",
    "    return t.label + sum([sum_labels(b) for b in t.branches])"
   ]
  },
  {
   "cell_type": "code",
   "execution_count": 44,
   "metadata": {},
   "outputs": [
    {
     "data": {
      "text/plain": [
       "10"
      ]
     },
     "execution_count": 44,
     "metadata": {},
     "output_type": "execute_result"
    }
   ],
   "source": [
    "sum_labels(fib_tree(5))"
   ]
  },
  {
   "cell_type": "code",
   "execution_count": 5,
   "metadata": {},
   "outputs": [],
   "source": [
    "class Worker:\n",
    "    greeting = 'Sir'\n",
    "    def __init__(self):\n",
    "        self.elf = Worker\n",
    "    def work(self):\n",
    "        return self.greeting+ '. I work'\n",
    "    def __repr__(self):\n",
    "        return Bourgeoisie.greeting\n",
    "class Bourgeoisie(Worker):\n",
    "    greeting = 'Peon'\n",
    "    def work(self):\n",
    "        print(Worker.work(self))\n",
    "        return 'I gather wealth'"
   ]
  },
  {
   "cell_type": "code",
   "execution_count": 6,
   "metadata": {},
   "outputs": [],
   "source": [
    "jack = Worker()\n",
    "john = Bourgeoisie()\n",
    "jack.greeting = 'Maam'"
   ]
  },
  {
   "cell_type": "code",
   "execution_count": 7,
   "metadata": {},
   "outputs": [
    {
     "data": {
      "text/plain": [
       "'Sir. I work'"
      ]
     },
     "execution_count": 7,
     "metadata": {},
     "output_type": "execute_result"
    }
   ],
   "source": [
    "Worker().work()"
   ]
  },
  {
   "cell_type": "code",
   "execution_count": 8,
   "metadata": {},
   "outputs": [
    {
     "data": {
      "text/plain": [
       "Peon"
      ]
     },
     "execution_count": 8,
     "metadata": {},
     "output_type": "execute_result"
    }
   ],
   "source": [
    "jack"
   ]
  },
  {
   "cell_type": "code",
   "execution_count": 9,
   "metadata": {},
   "outputs": [
    {
     "data": {
      "text/plain": [
       "'Maam. I work'"
      ]
     },
     "execution_count": 9,
     "metadata": {},
     "output_type": "execute_result"
    }
   ],
   "source": [
    "jack.work()"
   ]
  },
  {
   "cell_type": "code",
   "execution_count": 10,
   "metadata": {},
   "outputs": [
    {
     "name": "stdout",
     "output_type": "stream",
     "text": [
      "Peon. I work\n"
     ]
    },
    {
     "data": {
      "text/plain": [
       "'I gather wealth'"
      ]
     },
     "execution_count": 10,
     "metadata": {},
     "output_type": "execute_result"
    }
   ],
   "source": [
    "john.work()"
   ]
  },
  {
   "cell_type": "code",
   "execution_count": 11,
   "metadata": {},
   "outputs": [
    {
     "data": {
      "text/plain": [
       "'Peon. I work'"
      ]
     },
     "execution_count": 11,
     "metadata": {},
     "output_type": "execute_result"
    }
   ],
   "source": [
    "john.elf.work(john)"
   ]
  },
  {
   "cell_type": "code",
   "execution_count": 12,
   "metadata": {},
   "outputs": [
    {
     "data": {
      "text/plain": [
       "-4"
      ]
     },
     "execution_count": 12,
     "metadata": {},
     "output_type": "execute_result"
    }
   ],
   "source": [
    "s= [-4,-3,-2,3,2,4]\n",
    "min(s)"
   ]
  },
  {
   "cell_type": "code",
   "execution_count": 13,
   "metadata": {},
   "outputs": [
    {
     "data": {
      "text/plain": [
       "-2"
      ]
     },
     "execution_count": 13,
     "metadata": {},
     "output_type": "execute_result"
    }
   ],
   "source": [
    "min(s,key=abs)"
   ]
  },
  {
   "cell_type": "code",
   "execution_count": 14,
   "metadata": {},
   "outputs": [
    {
     "data": {
      "text/plain": [
       "2"
      ]
     },
     "execution_count": 14,
     "metadata": {},
     "output_type": "execute_result"
    }
   ],
   "source": [
    "min(map(abs,s))"
   ]
  },
  {
   "cell_type": "code",
   "execution_count": 15,
   "metadata": {},
   "outputs": [
    {
     "data": {
      "text/plain": [
       "[-2, 2]"
      ]
     },
     "execution_count": 15,
     "metadata": {},
     "output_type": "execute_result"
    }
   ],
   "source": [
    "[x for x in s if abs(x)==min(map(abs,s))]"
   ]
  },
  {
   "cell_type": "code",
   "execution_count": 16,
   "metadata": {},
   "outputs": [
    {
     "data": {
      "text/plain": [
       "[2, 4]"
      ]
     },
     "execution_count": 16,
     "metadata": {},
     "output_type": "execute_result"
    }
   ],
   "source": [
    "[i for i in range(len(s)) if abs(s[i])==min(map(abs,s))]"
   ]
  },
  {
   "cell_type": "code",
   "execution_count": 17,
   "metadata": {},
   "outputs": [],
   "source": [
    "def min_abs_indices(s):\n",
    "    \"\"\"Indices of all elements in list s that have the smallest absolute value.\n",
    "\n",
    "    >>> min_abs_indices([-4, -3, -2, 3, 2, 4])\n",
    "    [2, 4]\n",
    "    >>> min_abs_indices([1, 2, 3, 4, 5])\n",
    "    [0]\n",
    "    \"\"\"\n",
    "    min_abs = min(map(abs,s))\n",
    "    #return [i for i in range(len(s)) if abs(s[i])==min_abs]\n",
    "    return list(filter(lambda i:abs(s[i])==min_abs,range(len(s))))\n",
    "    "
   ]
  },
  {
   "cell_type": "code",
   "execution_count": 18,
   "metadata": {},
   "outputs": [],
   "source": [
    "min_abs = min(map(abs,s))\n",
    "f = lambda i:abs(s[i]) == min_abs"
   ]
  },
  {
   "cell_type": "code",
   "execution_count": 19,
   "metadata": {},
   "outputs": [
    {
     "data": {
      "text/plain": [
       "[2, 4]"
      ]
     },
     "execution_count": 19,
     "metadata": {},
     "output_type": "execute_result"
    }
   ],
   "source": [
    "filter(f,range(len(s)))\n",
    "list(filter(f,range(len(s))))"
   ]
  },
  {
   "cell_type": "code",
   "execution_count": null,
   "metadata": {},
   "outputs": [],
   "source": [
    "def largest_adj_sum(s):\n",
    "    \"\"\"Largest sum of two adjacent elements in a list s.\n",
    "\n",
    "    >>> largest_adj_sum([-4, -3, -2, 3, 2, 4])\n",
    "    6\n",
    "    >>> largest_adj_sum([-4, 3, -2, -3, 2, -4])\n",
    "    1\n",
    "    \"\"\"\n",
    "    return max([s[i]+s[i+1]for i in range(len(s)-1)])\n",
    "    #return max([a+b for a,b in zip(s[:-1],s[1:])])   \n",
    "    # return max(map(lambda i:s[i]+s[i+1] ,range(len(s)-1)))"
   ]
  },
  {
   "cell_type": "code",
   "execution_count": 20,
   "metadata": {},
   "outputs": [],
   "source": [
    "s = [-4, -3, -2, 3, 2, 4]"
   ]
  },
  {
   "cell_type": "code",
   "execution_count": 21,
   "metadata": {},
   "outputs": [
    {
     "data": {
      "text/plain": [
       "[0, 1, 2, 3, 4, 5]"
      ]
     },
     "execution_count": 21,
     "metadata": {},
     "output_type": "execute_result"
    }
   ],
   "source": [
    "list(range(len(s)))"
   ]
  },
  {
   "cell_type": "code",
   "execution_count": 22,
   "metadata": {},
   "outputs": [
    {
     "data": {
      "text/plain": [
       "[0, 1, 2, 3, 4]"
      ]
     },
     "execution_count": 22,
     "metadata": {},
     "output_type": "execute_result"
    }
   ],
   "source": [
    "list(range(len(s)-1))"
   ]
  },
  {
   "cell_type": "code",
   "execution_count": 23,
   "metadata": {},
   "outputs": [
    {
     "data": {
      "text/plain": [
       "range(0, 5)"
      ]
     },
     "execution_count": 23,
     "metadata": {},
     "output_type": "execute_result"
    }
   ],
   "source": [
    "range(len(s)-1)"
   ]
  },
  {
   "cell_type": "code",
   "execution_count": 24,
   "metadata": {},
   "outputs": [
    {
     "data": {
      "text/plain": [
       "[-7, -5, 1, 5, 6]"
      ]
     },
     "execution_count": 24,
     "metadata": {},
     "output_type": "execute_result"
    }
   ],
   "source": [
    "[s[i] +s[i+1] for i in range(len(s)-1)]"
   ]
  },
  {
   "cell_type": "code",
   "execution_count": 25,
   "metadata": {},
   "outputs": [
    {
     "data": {
      "text/plain": [
       "6"
      ]
     },
     "execution_count": 25,
     "metadata": {},
     "output_type": "execute_result"
    }
   ],
   "source": [
    "max([s[i]+s[i+1]for i in range(len(s)-1)])"
   ]
  },
  {
   "cell_type": "code",
   "execution_count": 26,
   "metadata": {},
   "outputs": [
    {
     "data": {
      "text/plain": [
       "[(-4, -4), (-3, -3), (-2, -2), (3, 3), (2, 2), (4, 4)]"
      ]
     },
     "execution_count": 26,
     "metadata": {},
     "output_type": "execute_result"
    }
   ],
   "source": [
    "list(zip(s,s))"
   ]
  },
  {
   "cell_type": "code",
   "execution_count": 27,
   "metadata": {},
   "outputs": [
    {
     "data": {
      "text/plain": [
       "[(-4, -3), (-3, -2), (-2, 3), (3, 2), (2, 4)]"
      ]
     },
     "execution_count": 27,
     "metadata": {},
     "output_type": "execute_result"
    }
   ],
   "source": [
    "list(zip(s[:-1],s[1:]))"
   ]
  },
  {
   "cell_type": "code",
   "execution_count": 28,
   "metadata": {},
   "outputs": [
    {
     "data": {
      "text/plain": [
       "[-7, -5, 1, 5, 6]"
      ]
     },
     "execution_count": 28,
     "metadata": {},
     "output_type": "execute_result"
    }
   ],
   "source": [
    "[a+b for a,b in zip(s[:-1],s[1:])]"
   ]
  },
  {
   "cell_type": "code",
   "execution_count": 29,
   "metadata": {},
   "outputs": [
    {
     "data": {
      "text/plain": [
       "6"
      ]
     },
     "execution_count": 29,
     "metadata": {},
     "output_type": "execute_result"
    }
   ],
   "source": [
    "max([a+b for a,b in zip(s[:-1],s[1:])])"
   ]
  },
  {
   "cell_type": "code",
   "execution_count": 30,
   "metadata": {},
   "outputs": [],
   "source": [
    "def digit_dict(s):\n",
    "    \"\"\"Map each digit d to the lists of elements in s that end with d.\n",
    "\n",
    "    >>> digit_dict([5, 8, 13, 21, 34, 55, 89])\n",
    "    {1: [21], 3: [13], 4: [34], 5: [5, 55], 8: [8], 9: [89]}\n",
    "    \"\"\"\n",
    "    return {d:[x for x in s if x%10==d] for d in range(10) if any([x%10==d for x in s])}\n"
   ]
  },
  {
   "cell_type": "code",
   "execution_count": 31,
   "metadata": {},
   "outputs": [],
   "source": [
    "s = [5, 8, 13, 21, 34, 55, 89]"
   ]
  },
  {
   "cell_type": "code",
   "execution_count": 32,
   "metadata": {},
   "outputs": [
    {
     "data": {
      "text/plain": [
       "{1: [21], 3: [13], 4: [34], 5: [5, 55], 8: [8], 9: [89]}"
      ]
     },
     "execution_count": 32,
     "metadata": {},
     "output_type": "execute_result"
    }
   ],
   "source": [
    "{d:[x for x in s if x%10==d] for d in range(10) if any([x%10==d for x in s])}"
   ]
  },
  {
   "cell_type": "code",
   "execution_count": 33,
   "metadata": {},
   "outputs": [],
   "source": [
    "last_digits = [x%10 for x in s]"
   ]
  },
  {
   "cell_type": "code",
   "execution_count": 34,
   "metadata": {},
   "outputs": [
    {
     "data": {
      "text/plain": [
       "[5, 8, 3, 1, 4, 5, 9]"
      ]
     },
     "execution_count": 34,
     "metadata": {},
     "output_type": "execute_result"
    }
   ],
   "source": [
    "last_digits"
   ]
  },
  {
   "cell_type": "code",
   "execution_count": 36,
   "metadata": {},
   "outputs": [
    {
     "data": {
      "text/plain": [
       "{1: [21], 3: [13], 4: [34], 5: [5, 55], 8: [8], 9: [89]}"
      ]
     },
     "execution_count": 36,
     "metadata": {},
     "output_type": "execute_result"
    }
   ],
   "source": [
    "{d:[x for x in s if x%10==d] for d in range(10) if d in last_digits}"
   ]
  },
  {
   "cell_type": "code",
   "execution_count": 50,
   "metadata": {},
   "outputs": [],
   "source": [
    "def all_have_an_equal(s):\n",
    "    \"\"\"Does every element equal some other element in s?\n",
    "\n",
    "    >>> all_have_an_equal([-4, -3, -2, 3, 2, 4])\n",
    "    False\n",
    "    >>> all_have_an_equal([4, 3, 2, 3, 2, 4])\n",
    "    True\n",
    "    \"\"\"\n",
    "    return all([s[:i]+s[i+1:] for i in range(len(s))])\n",
    "    # or\n",
    "    # return min([s.count(x) for x in s])>1"
   ]
  },
  {
   "cell_type": "code",
   "execution_count": 41,
   "metadata": {},
   "outputs": [],
   "source": [
    "s =[4, 3, 2, 3, 2, 4]"
   ]
  },
  {
   "cell_type": "code",
   "execution_count": 42,
   "metadata": {},
   "outputs": [],
   "source": [
    "i = 1"
   ]
  },
  {
   "cell_type": "code",
   "execution_count": 43,
   "metadata": {},
   "outputs": [
    {
     "data": {
      "text/plain": [
       "3"
      ]
     },
     "execution_count": 43,
     "metadata": {},
     "output_type": "execute_result"
    }
   ],
   "source": [
    "s[i]"
   ]
  },
  {
   "cell_type": "code",
   "execution_count": 44,
   "metadata": {},
   "outputs": [
    {
     "data": {
      "text/plain": [
       "[4]"
      ]
     },
     "execution_count": 44,
     "metadata": {},
     "output_type": "execute_result"
    }
   ],
   "source": [
    "s[:i]"
   ]
  },
  {
   "cell_type": "code",
   "execution_count": 45,
   "metadata": {},
   "outputs": [
    {
     "data": {
      "text/plain": [
       "[3, 2, 3, 2, 4]"
      ]
     },
     "execution_count": 45,
     "metadata": {},
     "output_type": "execute_result"
    }
   ],
   "source": [
    "s[i:]"
   ]
  },
  {
   "cell_type": "code",
   "execution_count": 46,
   "metadata": {},
   "outputs": [
    {
     "data": {
      "text/plain": [
       "[2, 3, 2, 4]"
      ]
     },
     "execution_count": 46,
     "metadata": {},
     "output_type": "execute_result"
    }
   ],
   "source": [
    "s[i+1:]"
   ]
  },
  {
   "cell_type": "code",
   "execution_count": 47,
   "metadata": {},
   "outputs": [
    {
     "data": {
      "text/plain": [
       "[4, 2, 3, 2, 4]"
      ]
     },
     "execution_count": 47,
     "metadata": {},
     "output_type": "execute_result"
    }
   ],
   "source": [
    "s[:i] + s[i+1:]"
   ]
  },
  {
   "cell_type": "code",
   "execution_count": 48,
   "metadata": {},
   "outputs": [
    {
     "data": {
      "text/plain": [
       "True"
      ]
     },
     "execution_count": 48,
     "metadata": {},
     "output_type": "execute_result"
    }
   ],
   "source": [
    "s[i] in s[:i]+s[i+1:]"
   ]
  },
  {
   "cell_type": "code",
   "execution_count": 49,
   "metadata": {},
   "outputs": [
    {
     "data": {
      "text/plain": [
       "True"
      ]
     },
     "execution_count": 49,
     "metadata": {},
     "output_type": "execute_result"
    }
   ],
   "source": [
    "all([s[:i]+s[i+1:] for i in range(len(s))])"
   ]
  },
  {
   "cell_type": "code",
   "execution_count": 51,
   "metadata": {},
   "outputs": [
    {
     "data": {
      "text/plain": [
       "[3, 3]"
      ]
     },
     "execution_count": 51,
     "metadata": {},
     "output_type": "execute_result"
    }
   ],
   "source": [
    "[y for y in s if y==3]"
   ]
  },
  {
   "cell_type": "code",
   "execution_count": 52,
   "metadata": {},
   "outputs": [
    {
     "data": {
      "text/plain": [
       "2"
      ]
     },
     "execution_count": 52,
     "metadata": {},
     "output_type": "execute_result"
    }
   ],
   "source": [
    "len([y for y in s if y==3])"
   ]
  },
  {
   "cell_type": "code",
   "execution_count": 53,
   "metadata": {},
   "outputs": [
    {
     "data": {
      "text/plain": [
       "[1, 1]"
      ]
     },
     "execution_count": 53,
     "metadata": {},
     "output_type": "execute_result"
    }
   ],
   "source": [
    "[1 for y in s if y==3]"
   ]
  },
  {
   "cell_type": "code",
   "execution_count": 54,
   "metadata": {},
   "outputs": [
    {
     "data": {
      "text/plain": [
       "2"
      ]
     },
     "execution_count": 54,
     "metadata": {},
     "output_type": "execute_result"
    }
   ],
   "source": [
    "sum([1 for y in s if y==3])"
   ]
  },
  {
   "cell_type": "code",
   "execution_count": 55,
   "metadata": {},
   "outputs": [
    {
     "data": {
      "text/plain": [
       "[2, 2, 2, 2, 2, 2]"
      ]
     },
     "execution_count": 55,
     "metadata": {},
     "output_type": "execute_result"
    }
   ],
   "source": [
    "[sum([1 for y in s if y==x]) for x in s]"
   ]
  },
  {
   "cell_type": "code",
   "execution_count": 56,
   "metadata": {},
   "outputs": [
    {
     "data": {
      "text/plain": [
       "[4, 3, 2, 3, 2, 4]"
      ]
     },
     "execution_count": 56,
     "metadata": {},
     "output_type": "execute_result"
    }
   ],
   "source": [
    "s"
   ]
  },
  {
   "cell_type": "code",
   "execution_count": 57,
   "metadata": {},
   "outputs": [
    {
     "data": {
      "text/plain": [
       "True"
      ]
     },
     "execution_count": 57,
     "metadata": {},
     "output_type": "execute_result"
    }
   ],
   "source": [
    "all([sum([1 for y in s if y==x]) for x in s])"
   ]
  },
  {
   "cell_type": "code",
   "execution_count": 58,
   "metadata": {},
   "outputs": [
    {
     "data": {
      "text/plain": [
       "2"
      ]
     },
     "execution_count": 58,
     "metadata": {},
     "output_type": "execute_result"
    }
   ],
   "source": [
    "min([sum([1 for y in s if y==x]) for x in s])"
   ]
  },
  {
   "cell_type": "code",
   "execution_count": 59,
   "metadata": {},
   "outputs": [
    {
     "data": {
      "text/plain": [
       "True"
      ]
     },
     "execution_count": 59,
     "metadata": {},
     "output_type": "execute_result"
    }
   ],
   "source": [
    "min([sum([1 for y in s if y==x]) for x in s])>1"
   ]
  },
  {
   "cell_type": "code",
   "execution_count": 60,
   "metadata": {},
   "outputs": [
    {
     "data": {
      "text/plain": [
       "2"
      ]
     },
     "execution_count": 60,
     "metadata": {},
     "output_type": "execute_result"
    }
   ],
   "source": [
    "min([s.count(x) for x in s])"
   ]
  },
  {
   "cell_type": "code",
   "execution_count": 61,
   "metadata": {},
   "outputs": [
    {
     "data": {
      "text/plain": [
       "True"
      ]
     },
     "execution_count": 61,
     "metadata": {},
     "output_type": "execute_result"
    }
   ],
   "source": [
    "min([s.count(x) for x in s])>1"
   ]
  },
  {
   "cell_type": "code",
   "execution_count": 62,
   "metadata": {},
   "outputs": [],
   "source": [
    "class Link:\n",
    "    \"\"\"A linked list.\n",
    "\n",
    "    >>> Link(1, Link(2, Link(3)))\n",
    "    Link(1, Link(2, Link(3)))\n",
    "    >>> s = Link(1, Link(Link(2, Link(3)), Link(4)))\n",
    "    >>> s\n",
    "    Link(1, Link(Link(2, Link(3)), Link(4)))\n",
    "    >>> print(s)\n",
    "    <1 <2 3> 4>\n",
    "    \"\"\"\n",
    "\n",
    "    empty = ()\n",
    "\n",
    "    def __init__(self, first, rest=empty):\n",
    "        assert rest is Link.empty or isinstance(rest, Link)\n",
    "        self.first = first\n",
    "        self.rest = rest\n",
    "\n",
    "    def __repr__(self):\n",
    "        if self.rest:\n",
    "            rest_repr = ', ' + repr(self.rest)\n",
    "        else:\n",
    "            rest_repr = ''\n",
    "        return 'Link(' + repr(self.first) + rest_repr + ')'\n",
    "\n",
    "    def __str__(self):\n",
    "        string = '<'\n",
    "        while self.rest is not Link.empty:\n",
    "            string += str(self.first) + ' '\n",
    "            self = self.rest\n",
    "        return string + str(self.first) + '>'\n",
    "\n"
   ]
  },
  {
   "cell_type": "code",
   "execution_count": 68,
   "metadata": {},
   "outputs": [],
   "source": [
    "def ordered(s, key=lambda x: x):\n",
    "    \"\"\"Is Link s ordered?\n",
    "\n",
    "    >>> ordered(Link(1, Link(3, Link(4))))\n",
    "    True\n",
    "    >>> ordered(Link(1, Link(4, Link(3))))\n",
    "    False\n",
    "    >>> ordered(Link(1, Link(-3, Link(4))))\n",
    "    False\n",
    "    >>> ordered(Link(1, Link(-3, Link(4))), key=abs)\n",
    "    True\n",
    "    >>> ordered(Link(-4, Link(-1, Link(3))))\n",
    "    True\n",
    "    >>> ordered(Link(-4, Link(-1, Link(3))), key=abs)\n",
    "    False\n",
    "    \"\"\"\n",
    "    if s is Link.empty or s.rest is Link.empty:\n",
    "        return True\n",
    "    elif key(s.first)>key(s.rest.first):\n",
    "        return False\n",
    "    else:\n",
    "        return ordered(s.rest)"
   ]
  },
  {
   "cell_type": "code",
   "execution_count": 69,
   "metadata": {},
   "outputs": [
    {
     "data": {
      "text/plain": [
       "True"
      ]
     },
     "execution_count": 69,
     "metadata": {},
     "output_type": "execute_result"
    }
   ],
   "source": [
    "ordered(Link(1, Link(3, Link(4))))"
   ]
  },
  {
   "cell_type": "code",
   "execution_count": 70,
   "metadata": {},
   "outputs": [
    {
     "data": {
      "text/plain": [
       "False"
      ]
     },
     "execution_count": 70,
     "metadata": {},
     "output_type": "execute_result"
    }
   ],
   "source": [
    "ordered(Link(1, Link(4, Link(3))))"
   ]
  },
  {
   "cell_type": "code",
   "execution_count": 71,
   "metadata": {},
   "outputs": [
    {
     "data": {
      "text/plain": [
       "True"
      ]
     },
     "execution_count": 71,
     "metadata": {},
     "output_type": "execute_result"
    }
   ],
   "source": [
    "ordered(Link(1, Link(-3, Link(4))), key=abs)"
   ]
  },
  {
   "cell_type": "code",
   "execution_count": 72,
   "metadata": {},
   "outputs": [],
   "source": [
    "def merge(s, t):\n",
    "    \"\"\"Return a sorted Link containing the elements of sorted s & t.\n",
    "\n",
    "    >>> a = Link(1, Link(5))\n",
    "    >>> b = Link(1, Link(4))\n",
    "    >>> merge(a, b)\n",
    "    Link(1, Link(1, Link(4, Link(5))))\n",
    "    >>> a\n",
    "    Link(1, Link(5))\n",
    "    >>> b\n",
    "    Link(1, Link(4))\n",
    "    \"\"\"\n",
    "    if s in Link.empty:\n",
    "        return t\n",
    "    elif t is Link.empty:\n",
    "        return s\n",
    "    elif s.first<=t.first:\n",
    "        return Link(s.first,merge(s.rest,t))\n",
    "    else:\n",
    "        return Link(t.first,merge(s,t.rest))"
   ]
  },
  {
   "cell_type": "code",
   "execution_count": 73,
   "metadata": {},
   "outputs": [],
   "source": [
    "a = Link(1, Link(5))\n",
    "b = Link(1, Link(4))"
   ]
  },
  {
   "cell_type": "code",
   "execution_count": 74,
   "metadata": {},
   "outputs": [
    {
     "data": {
      "text/plain": [
       "Link(1, Link(1, Link(4, Link(5))))"
      ]
     },
     "execution_count": 74,
     "metadata": {},
     "output_type": "execute_result"
    }
   ],
   "source": [
    "merge(a,b)"
   ]
  },
  {
   "cell_type": "code",
   "execution_count": null,
   "metadata": {},
   "outputs": [],
   "source": [
    "def merge_in_place(s, t):\n",
    "    \"\"\"Return a sorted Link containing the elements of sorted s & t.\n",
    "\n",
    "    >>> a = Link(1, Link(5))\n",
    "    >>> b = Link(1, Link(4))\n",
    "    >>> merge_in_place(a, b)\n",
    "    Link(1, Link(1, Link(4, Link(5))))\n",
    "    >>> a\n",
    "    Link(1, Link(1, Link(4, Link(5))))\n",
    "    >>> b\n",
    "    Link(1, Link(4, Link(5)))\n",
    "    \"\"\"\n",
    "    if s in Link.empty:\n",
    "        return t\n",
    "    elif t is Link.empty:\n",
    "        return s\n",
    "    elif s.first<=t.first:\n",
    "        #return Link(s.first,merge(s.rest,t))\n",
    "        s.rest = merge_in_place(s.rest,t)\n",
    "        return s\n",
    "    else:\n",
    "        #return Link(t.first,merge(s,t.rest))\n",
    "        t.rest = merge_in_place(s.rest,t)\n",
    "        return t"
   ]
  }
 ],
 "metadata": {
  "kernelspec": {
   "display_name": "pytorch",
   "language": "python",
   "name": "python3"
  },
  "language_info": {
   "codemirror_mode": {
    "name": "ipython",
    "version": 3
   },
   "file_extension": ".py",
   "mimetype": "text/x-python",
   "name": "python",
   "nbconvert_exporter": "python",
   "pygments_lexer": "ipython3",
   "version": "3.9.13"
  },
  "orig_nbformat": 4
 },
 "nbformat": 4,
 "nbformat_minor": 2
}
